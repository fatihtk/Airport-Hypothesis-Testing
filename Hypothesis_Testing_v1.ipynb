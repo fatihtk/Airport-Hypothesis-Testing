{
  "nbformat": 4,
  "nbformat_minor": 0,
  "metadata": {
    "colab": {
      "name": "Hypothesis Testing-v1.ipynb",
      "provenance": [],
      "collapsed_sections": [
        "5UcTOQ47F9i_",
        "9zKieQOdFz-6"
      ],
      "toc_visible": true
    },
    "kernelspec": {
      "name": "python3",
      "display_name": "Python 3"
    }
  },
  "cells": [
    {
      "cell_type": "markdown",
      "metadata": {
        "id": "BuuOkvbyFua7",
        "colab_type": "text"
      },
      "source": [
        "# Airline Customer Survey Hypothesis Testing"
      ]
    },
    {
      "cell_type": "markdown",
      "metadata": {
        "id": "5UcTOQ47F9i_",
        "colab_type": "text"
      },
      "source": [
        "## Information"
      ]
    },
    {
      "cell_type": "markdown",
      "metadata": {
        "id": "-o603czGGAxz",
        "colab_type": "text"
      },
      "source": [
        "In this hypothesis test study, SFO Customer Survey dataset was used. The purpose of this study is to obtain meaningful inferences by analyzing data sets.\n",
        "You can found dataset here : https://www.kaggle.com/san-francisco/sfo-customer-survey"
      ]
    },
    {
      "cell_type": "markdown",
      "metadata": {
        "id": "HBxPycUM_Qdq",
        "colab_type": "text"
      },
      "source": [
        "# DATA MANIPULATION"
      ]
    },
    {
      "cell_type": "markdown",
      "metadata": {
        "id": "N0nrGv8yAh5F",
        "colab_type": "text"
      },
      "source": [
        "In order to upload and edit our dataset, we load our required libraries. Then we load our data sets."
      ]
    },
    {
      "cell_type": "code",
      "metadata": {
        "id": "1MeBL1EYGhbx",
        "colab_type": "code",
        "colab": {
          "base_uri": "https://localhost:8080/",
          "height": 68
        },
        "outputId": "900b5588-c82d-4763-cfc3-987d32ec519e"
      },
      "source": [
        "import numpy as np\n",
        "import pandas as pd\n",
        "import matplotlib.pyplot as plt\n",
        "\n",
        "import os\n",
        "for dirname, _, filenames in os.walk('./input'):\n",
        "  for filename in filenames:\n",
        "    print(os.path.join(dirname, filename))"
      ],
      "execution_count": 1,
      "outputs": [
        {
          "output_type": "stream",
          "text": [
            "./input/2013-sfo-customer-survey.csv\n",
            "./input/2012-sfo-customer-survey.csv\n",
            "./input/2011-sfo-customer-survey.csv\n"
          ],
          "name": "stdout"
        }
      ]
    },
    {
      "cell_type": "markdown",
      "metadata": {
        "id": "whIcsxImJ0_R",
        "colab_type": "text"
      },
      "source": [
        "Loading libraries required for hypothesis processing"
      ]
    },
    {
      "cell_type": "code",
      "metadata": {
        "id": "7NYW7bOhoaFA",
        "colab_type": "code",
        "colab": {
          "base_uri": "https://localhost:8080/",
          "height": 51
        },
        "outputId": "979277a9-4f67-4a34-e61f-7bc6673ac573"
      },
      "source": [
        "import seaborn as sns\n",
        "%matplotlib inline\n",
        "sns.set(color_codes=True)\n",
        "from scipy.stats import ttest_1samp, ttest_ind, chi2_contingency\n",
        "from statsmodels.stats.power import ttest_power\n",
        "from statsmodels.formula.api import ols\n",
        "from statsmodels.stats.anova import _get_covariance, anova_lm"
      ],
      "execution_count": 2,
      "outputs": [
        {
          "output_type": "stream",
          "text": [
            "/usr/local/lib/python3.6/dist-packages/statsmodels/tools/_testing.py:19: FutureWarning: pandas.util.testing is deprecated. Use the functions in the public API at pandas.testing instead.\n",
            "  import pandas.util.testing as tm\n"
          ],
          "name": "stderr"
        }
      ]
    },
    {
      "cell_type": "markdown",
      "metadata": {
        "id": "_NuXrptKJ7rG",
        "colab_type": "text"
      },
      "source": [
        "Reading our data sets"
      ]
    },
    {
      "cell_type": "code",
      "metadata": {
        "id": "gQMa3YPqoylq",
        "colab_type": "code",
        "colab": {}
      },
      "source": [
        "df_2011 = pd.read_csv('./input/2011-sfo-customer-survey.csv')\n",
        "df_2012 = pd.read_csv('./input/2012-sfo-customer-survey.csv')\n",
        "df_2013 = pd.read_csv('./input/2013-sfo-customer-survey.csv')"
      ],
      "execution_count": 3,
      "outputs": []
    },
    {
      "cell_type": "code",
      "metadata": {
        "id": "zIH7otAjkNGP",
        "colab_type": "code",
        "colab": {}
      },
      "source": [
        "df_2011.head()"
      ],
      "execution_count": null,
      "outputs": []
    },
    {
      "cell_type": "code",
      "metadata": {
        "id": "vBzT2Z0VkQ1g",
        "colab_type": "code",
        "colab": {}
      },
      "source": [
        "df_2012.head()"
      ],
      "execution_count": null,
      "outputs": []
    },
    {
      "cell_type": "code",
      "metadata": {
        "id": "eFgB2lIekU0M",
        "colab_type": "code",
        "colab": {}
      },
      "source": [
        "df_2013.head()"
      ],
      "execution_count": null,
      "outputs": []
    },
    {
      "cell_type": "code",
      "metadata": {
        "id": "ioN71mrdkadM",
        "colab_type": "code",
        "colab": {
          "base_uri": "https://localhost:8080/",
          "height": 34
        },
        "outputId": "7b733aac-36b1-4684-aa15-e46ad090e5cf"
      },
      "source": [
        "df_2011.shape"
      ],
      "execution_count": 70,
      "outputs": [
        {
          "output_type": "execute_result",
          "data": {
            "text/plain": [
              "(3872, 68)"
            ]
          },
          "metadata": {
            "tags": []
          },
          "execution_count": 70
        }
      ]
    },
    {
      "cell_type": "code",
      "metadata": {
        "id": "bdFaZ0-TkmR9",
        "colab_type": "code",
        "colab": {
          "base_uri": "https://localhost:8080/",
          "height": 34
        },
        "outputId": "77eec1ef-a11c-4a4f-cdb8-57697ce1fac7"
      },
      "source": [
        "df_2012.shape "
      ],
      "execution_count": 69,
      "outputs": [
        {
          "output_type": "execute_result",
          "data": {
            "text/plain": [
              "(3521, 61)"
            ]
          },
          "metadata": {
            "tags": []
          },
          "execution_count": 69
        }
      ]
    },
    {
      "cell_type": "code",
      "metadata": {
        "id": "nXrToTNMkqYP",
        "colab_type": "code",
        "colab": {
          "base_uri": "https://localhost:8080/",
          "height": 34
        },
        "outputId": "ed78d8b3-7120-49f6-dcc1-284df2e3da08"
      },
      "source": [
        "df_2013.shape "
      ],
      "execution_count": 71,
      "outputs": [
        {
          "output_type": "execute_result",
          "data": {
            "text/plain": [
              "(3535, 95)"
            ]
          },
          "metadata": {
            "tags": []
          },
          "execution_count": 71
        }
      ]
    },
    {
      "cell_type": "markdown",
      "metadata": {
        "id": "w_470A1JKFH0",
        "colab_type": "text"
      },
      "source": [
        "When we look at our data sets separately, we see that the column numbers and the information received are not exactly the same. In order to make it more meaningful and stable for us, we will take the columns that are common in all 3 data sets and change the column names to make more sense for us. If you want to skip this step, you need to edit the following pieces of code according to your own data set.\n",
        "We change the column names to make it more meaningful to us (First for the 2011 dataset)"
      ]
    },
    {
      "cell_type": "code",
      "metadata": {
        "id": "YK8QqE4Ul7NH",
        "colab_type": "code",
        "colab": {}
      },
      "source": [
        "df_2011_new = df_2011.rename(columns={'Q1' : 'ARRTIME1',\n",
        "                        'Q1A' : 'ARRTIMESTP',\n",
        "                        'Q1MIL' : 'ARRTIME',\n",
        "                        'PASSTIME' : 'WAITTIMEHRS',\n",
        "                        'PASSMIN' : 'WAITTIMEMIN',\n",
        "                        'Q2_1' : 'PURTRIP',\n",
        "                        'Q3_1' : 'TRANSVEC',\n",
        "                        'Q3A' : 'ISPARK',\n",
        "                        'Q4A' : 'CHECKBAG',\n",
        "                        'Q4B' : 'BUYSTR',\n",
        "                        'Q4C' : 'BUYREST',\n",
        "                        'Q5' : 'VSTSTR',\n",
        "                        'Q6' : 'VSTREST',\n",
        "                        'Q7' : 'FLIGHTNUM',\n",
        "                        'SAQ' : 'SURVTYPE',\n",
        "                        'Q8A' : 'RATEART',\n",
        "                        'Q8B' : 'RATEREST',\n",
        "                        'Q8C' : 'RATESHOP',\n",
        "                        'Q8D' : 'RATESIGNS',\n",
        "                        'Q8E' : 'RATEESCA',\n",
        "                        'Q8F' : 'RATEINFO',\n",
        "                        'Q8G' : 'RATEBOOTHLOW',\n",
        "                        'Q8H' : 'RATEBOOTHHIGH',\n",
        "                        'Q8I' : 'RATESIGNROAD',\n",
        "                        'Q8J' : 'RATEPARK',\n",
        "                        'Q8K' : 'RATETRAIN',\n",
        "                        'Q8L' : 'RATEPARKLONG',\n",
        "                        'Q8M' : 'RATERENT',\n",
        "                        'Q8N' : 'RATE',\n",
        "                        'Q10A' : 'CLEANBOARD',\n",
        "                        'Q10B' : 'CLEANGARAGE',\n",
        "                        'Q10C' : 'CLEANTRAIN',\n",
        "                        'Q10D' : 'CLEANRENT',\n",
        "                        'Q10E' : 'CLEANREST',\n",
        "                        'Q10F' : 'CLEANREROOM',\n",
        "                        'Q11' : 'ISSAFE',\n",
        "                        'Q12' : 'USEWEB',\n",
        "                        'Q13' : 'USEFULLWEB',\n",
        "                        'Q13A1' : 'AREA1',\n",
        "                        'Q13A2' : 'AREA2',\n",
        "                        'Q13A3' : 'AREA3',\n",
        "                        'Q13A1' : 'WEBPART',\n",
        "                        'Q14' : 'COMEFROM',\n",
        "                        'Q15A' : 'ISEASYFIND',\n",
        "                        'Q15B' : 'ISEASYPASS',\n",
        "                        'Q16' : 'ANYPROB',\n",
        "                        'Q17' : 'LIVEWHERE',\n",
        "                        'Q18STATE' : 'LIVESTATE',\n",
        "                        'Q18ZIP' : 'LIVEZIP',\n",
        "                        'Q18COUNTRY' : 'LIVECOUNTRY',\n",
        "                        'Q19' : 'AGE',\n",
        "                        'Q20' : 'GENDER',\n",
        "                        'Q21' : 'INCOME',\n",
        "                        'MAIL' : 'MAILTAKENBY',\n",
        "                        'LANG' : 'SURVLANGTYPE',\n",
        "                        'On-Time Staus of Flight' : 'FLIGHTSTAT'})"
      ],
      "execution_count": 4,
      "outputs": []
    },
    {
      "cell_type": "markdown",
      "metadata": {
        "id": "B1pejomAKSRI",
        "colab_type": "text"
      },
      "source": [
        "We check our new set with changed column names. Our aim here is to arrange the column names in an understandable way for us, by combining the 3 data sets created for each year by bringing them into the same order and as a result, to create a single dataset containing the data in the common area. We discard unwanted columns in our 2011 dataset. (Note: The reason we dispose of these columns is that we want to create a single data set of common columns)"
      ]
    },
    {
      "cell_type": "code",
      "metadata": {
        "id": "VZ544aQTnyss",
        "colab_type": "code",
        "colab": {}
      },
      "source": [
        "df_2011_new = df_2011_new.drop(['RUNID', 'FLIGHTSTAT', 'TERM', 'ATYPE', 'MAILTAKENBY', 'ARRTIME1', 'ARRTIMESTP', 'WAITTIMEHRS', 'AREA2', 'AREA3', 'COMEFROM', 'LIVESTATE', 'WAITTIMEMIN'], axis=1)"
      ],
      "execution_count": 5,
      "outputs": []
    },
    {
      "cell_type": "markdown",
      "metadata": {
        "id": "_mjN4ofClf27",
        "colab_type": "text"
      },
      "source": [
        "For 2012 dataset:"
      ]
    },
    {
      "cell_type": "code",
      "metadata": {
        "id": "5-e3Rx2jJtOr",
        "colab_type": "code",
        "colab": {}
      },
      "source": [
        "df_2012_new = df_2012[['RESPNUM', \n",
        "                      'CCGID', \n",
        "                      'DESTMARK', \n",
        "                      'DESTGEO', \n",
        "                      'STRATA', \n",
        "                      'AIRLINE', \n",
        "                      'DEST', \n",
        "                      'GATE', \n",
        "                      'INTDATE', \n",
        "                      'ARRTIME', \n",
        "                      'DEPTIME', \n",
        "                      'MINUTES', \n",
        "                      'Q2PURP1', \n",
        "                      'Q3GETTO1',  \n",
        "                      'Q4BAGS', \n",
        "                      'Q4BUY', \n",
        "                      'Q4FOOD', \n",
        "                      'Q5NOTBUY', \n",
        "                      'Q6NOFOOD', \n",
        "                      'Q7FLYPERYR', \n",
        "                      'SAQ',\n",
        "                      'Q8A_ART',\n",
        "                      'Q8B_FOOD',\n",
        "                      'Q8C_SHOP',\n",
        "                      'Q8D_SIGNS',\n",
        "                      'Q8E_WALK',\n",
        "                      'Q8F_SCREENS',\n",
        "                      'Q8G_INFOARR',\n",
        "                      'Q8H_INFODEP',\n",
        "                      'Q8I_ROAD',\n",
        "                      'Q8J_PARK',\n",
        "                      'Q8K_AIRTRAIN',\n",
        "                      'Q8L_LTPARK',\n",
        "                      'Q8M_RENTAL',\n",
        "                      'Q8N_WHOLE',\n",
        "                      'Q10A_CLNBOARD',\n",
        "                      'Q10B_CLNPARK',\n",
        "                      'Q10C_CLNAIRTRAIN',\n",
        "                      'Q10D_CLNRENT',\n",
        "                      'Q10E_CLNFOOD',\n",
        "                      'Q10F_CLNBATH',\n",
        "                      'Q11SAFE',\n",
        "                      'Q12_USEWEB',\n",
        "                      'Q13_RATEWEB',\n",
        "                      'Q14WHEREDEPART',\n",
        "                      'Q15A_FIND',\n",
        "                      'Q15B_SECURITY',\n",
        "                      'Q16_PROBLEM',\n",
        "                      'Q17REGION',\n",
        "                      'Q18ZIP',\n",
        "                      'Q18COUNTRY',\n",
        "                      'HOME',\n",
        "                      'Q19_AGE',\n",
        "                      'Q20_SEX',\n",
        "                      'Q21_INCOME',\n",
        "                      'LANG']]"
      ],
      "execution_count": 6,
      "outputs": []
    },
    {
      "cell_type": "code",
      "metadata": {
        "id": "i0lE_9oZpJFa",
        "colab_type": "code",
        "colab": {}
      },
      "source": [
        "df_2012_new = df_2012_new.rename(columns={'MINUTES' : 'WAITTIMEMIN',\n",
        "                        'Q2PURP1' : 'PURTRIP',\n",
        "                        'Q1MIL' : 'ARRTIMESTPMIL',\n",
        "                        'Q3GETTO1' : 'TRANSVEC',\n",
        "                        'Q4BAGS' : 'CHECKBAG',\n",
        "                        'Q4BUY' : 'BUYSTR',\n",
        "                        'Q4FOOD' : 'BUYREST',\n",
        "                        'Q5NOTBUY' : 'VSTSTR',\n",
        "                        'Q6NOFOOD' : 'VSTREST',\n",
        "                        'Q7FLYPERYR' : 'FLIGHTNUM',\n",
        "                        'SAQ' : 'SURVTYPE',\n",
        "                        'Q8A_ART' : 'RATEART',\n",
        "                        'Q8B_FOOD' : 'RATEREST',\n",
        "                        'Q8C_SHOP' : 'RATESHOP',\n",
        "                        'Q8D_SIGNS' : 'RATESIGNS',\n",
        "                        'Q8E_WALK' : 'RATEESCA',\n",
        "                        'Q8F_SCREENS' : 'RATEINFO',\n",
        "                        'Q8G_INFOARR' : 'RATEBOOTHLOW',\n",
        "                        'Q8H_INFODEP' : 'RATEBOOTHHIGH',\n",
        "                        'Q8I_ROAD' : 'RATESIGNROAD',\n",
        "                        'Q8J_PARK' : 'RATEPARK',\n",
        "                        'Q8K_AIRTRAIN' : 'RATETRAIN',\n",
        "                        'Q8L_LTPARK' : 'RATEPARKLONG',\n",
        "                        'Q8M_RENTAL' : 'RATERENT',\n",
        "                        'Q8N_WHOLE' : 'RATE',\n",
        "                        'Q10A_CLNBOARD' : 'CLEANBOARD',\n",
        "                        'Q10B_CLNPARK' : 'CLEANGARAGE',\n",
        "                        'Q10C_CLNAIRTRAIN' : 'CLEANTRAIN',\n",
        "                        'Q10D_CLNRENT' : 'CLEANRENT',\n",
        "                        'Q10E_CLNFOOD' : 'CLEANREST',\n",
        "                        'Q10F_CLNBATH' : 'CLEANREROOM',\n",
        "                        'Q11SAFE' : 'ISSAFE',\n",
        "                        'Q12_USEWEB' : 'USEWEB',\n",
        "                        'Q13_RATEWEB' : 'USEFULLWEB',\n",
        "                        'Q14WHEREDEPART' : 'WEBPART',\n",
        "                        'Q15A_FIND' : 'ISEASYFIND',\n",
        "                        'Q15B_SECURITY' : 'ISEASYPASS',\n",
        "                        'Q16_PROBLEM' : 'ANYPROB',\n",
        "                        'Q17REGION' : 'LIVEWHERE',\n",
        "                        'Q18ZIP' : 'LIVEZIP',\n",
        "                        'Q18COUNTRY' : 'LIVECOUNTRY',\n",
        "                        'Q19_AGE' : 'AGE',\n",
        "                        'Q20_SEX' : 'GENDER',\n",
        "                        'Q21_INCOME' : 'INCOME',\n",
        "                        'LANG' : 'SURVLANGTYPE'})"
      ],
      "execution_count": 7,
      "outputs": []
    },
    {
      "cell_type": "markdown",
      "metadata": {
        "id": "NtZ0Chahu_HU",
        "colab_type": "text"
      },
      "source": [
        "We discard the excess columns from our new 2012 dataset"
      ]
    },
    {
      "cell_type": "code",
      "metadata": {
        "id": "z5cFrQ2gK5d8",
        "colab_type": "code",
        "colab": {}
      },
      "source": [
        "df_2012_new = df_2012_new.drop(['WAITTIMEMIN', 'CLEANGARAGE', 'USEFULLWEB', 'WEBPART', 'VSTSTR', 'VSTREST'], axis=1)"
      ],
      "execution_count": 8,
      "outputs": []
    },
    {
      "cell_type": "markdown",
      "metadata": {
        "id": "OXc61DPvl1xj",
        "colab_type": "text"
      },
      "source": [
        "When we check again, we find that there are non-common columns in our 2011 dataset and discard them."
      ]
    },
    {
      "cell_type": "code",
      "metadata": {
        "id": "PqdneiR5WTrD",
        "colab_type": "code",
        "colab": {}
      },
      "source": [
        "df_2011_new = df_2011_new.drop(['CLEANGARAGE', 'USEFULLWEB', 'WEBPART', 'VSTSTR', 'VSTREST'], axis=1)"
      ],
      "execution_count": 9,
      "outputs": []
    },
    {
      "cell_type": "markdown",
      "metadata": {
        "id": "QDr79L6smMJL",
        "colab_type": "text"
      },
      "source": [
        "For 2013 dataset:"
      ]
    },
    {
      "cell_type": "code",
      "metadata": {
        "id": "rEDxYbjxX3vw",
        "colab_type": "code",
        "colab": {}
      },
      "source": [
        "df_2013_new = df_2013.rename(columns={\n",
        "                        'Q2PURP1' : 'PURTRIP',\n",
        "                        'Q3GETTO1' : 'TRANSVEC',\n",
        "                        'Q4BAGS' : 'CHECKBAG',\n",
        "                        'Q4BUY' : 'BUYSTR',\n",
        "                        'Q4FOOD' : 'BUYREST',\n",
        "                        'Q5FLYPERYR' : 'FLIGHTNUM',\n",
        "                        'SAQ' : 'SURVTYPE',\n",
        "                        'Q7A_ART' : 'RATEART',\n",
        "                        'Q7B_FOOD' : 'RATEREST',\n",
        "                        'Q7C_SHOPS' : 'RATESHOP',\n",
        "                        'Q7D_SIGNS' : 'RATESIGNS',\n",
        "                        'Q7E_WALK' : 'RATEESCA',\n",
        "                        'Q7F_SCREENS' : 'RATEINFO',\n",
        "                        'Q7G_INFOARR' : 'RATEBOOTHLOW',\n",
        "                        'Q7H_INFODEP' : 'RATEBOOTHHIGH',\n",
        "                        'Q7J_ROAD' : 'RATESIGNROAD',\n",
        "                        'Q7K_PARK' : 'RATEPARK',\n",
        "                        'Q7L_AIRTRAIN' : 'RATETRAIN',\n",
        "                        'Q7M_LTPARK' : 'RATEPARKLONG',\n",
        "                        'Q7N_RENTAL' : 'RATERENT',\n",
        "                        'Q7O_WHOLE' : 'RATE',\n",
        "                        'Q9A_CLNBOARD' : 'CLEANBOARD',\n",
        "                        'Q9B_CLNAIRTRAIN' : 'CLEANTRAIN',\n",
        "                        'Q9C_CLNRENT' : 'CLEANRENT',\n",
        "                        'Q9D_CLNFOOD' : 'CLEANREST',\n",
        "                        'Q9E_CLNBATH' : 'CLEANREROOM',\n",
        "                        'Q10SAFE' : 'ISSAFE',\n",
        "                        'Q11A_USEWEB' : 'USEWEB',\n",
        "                        'Q14A_FIND' : 'ISEASYFIND',\n",
        "                        'Q14B_SECURITY' : 'ISEASYPASS',\n",
        "                        'Q15_PROBLEMS' : 'ANYPROB',\n",
        "                        'Q16_REGION' : 'LIVEWHERE',\n",
        "                        'Q17_ZIP' : 'LIVEZIP',\n",
        "                        'Q17_COUNTRY' : 'LIVECOUNTRY',\n",
        "                        'Q18_AGE' : 'AGE',\n",
        "                        'Q19_SEX' : 'GENDER',\n",
        "                        'Q20_INCOME' : 'INCOME',\n",
        "                        'LANG' : 'SURVLANGTYPE'})"
      ],
      "execution_count": 10,
      "outputs": []
    },
    {
      "cell_type": "code",
      "metadata": {
        "id": "tLRP1B5AZriT",
        "colab_type": "code",
        "colab": {}
      },
      "source": [
        "df_2013_new = df_2013_new[['RESPNUM', \n",
        "                          'CCGID', \n",
        "                          'DESTMARK', \n",
        "                          'DESTGEO', \n",
        "                          'STRATA',\n",
        "                          'AIRLINE',\n",
        "                          'DEST',\n",
        "                          'GATE',\n",
        "                          'INTDATE',\n",
        "                          'ARRTIME',\n",
        "                          'DEPTIME',\n",
        "                          'PURTRIP',\n",
        "                          'TRANSVEC',\n",
        "                          'CHECKBAG',\n",
        "                          'BUYSTR',\n",
        "                          'BUYREST',\n",
        "                          'FLIGHTNUM',\n",
        "                          'SURVTYPE',\n",
        "                          'RATEART',\n",
        "                          'RATEREST',\n",
        "                          'RATESHOP',\n",
        "                          'RATESIGNS',\n",
        "                          'RATEESCA',\n",
        "                          'RATEINFO',\n",
        "                          'RATEBOOTHLOW',\n",
        "                          'RATEBOOTHHIGH',\n",
        "                          'RATESIGNROAD',\n",
        "                          'RATEPARK',\n",
        "                          'RATETRAIN',\n",
        "                          'RATEPARKLONG',\n",
        "                          'RATERENT',\n",
        "                          'RATE',\n",
        "                          'CLEANBOARD',\n",
        "                          'CLEANTRAIN',\n",
        "                          'CLEANRENT',\n",
        "                          'CLEANREST',\n",
        "                          'CLEANREROOM',\n",
        "                          'ISSAFE',\n",
        "                          'USEWEB',\n",
        "                          'ISEASYFIND',\n",
        "                          'ISEASYPASS',\n",
        "                          'ANYPROB',\n",
        "                          'LIVEWHERE',\n",
        "                          'LIVEZIP',\n",
        "                          'LIVECOUNTRY',\n",
        "                          'HOME',\n",
        "                          'AGE',\n",
        "                          'GENDER',\n",
        "                          'INCOME',\n",
        "                          'SURVLANGTYPE']]"
      ],
      "execution_count": 11,
      "outputs": []
    },
    {
      "cell_type": "markdown",
      "metadata": {
        "id": "ZzWVbcVWmR31",
        "colab_type": "text"
      },
      "source": [
        "Then we define a column where there are times to indicate in which year the survey was taken."
      ]
    },
    {
      "cell_type": "code",
      "metadata": {
        "id": "LjeqSaiF3USf",
        "colab_type": "code",
        "colab": {}
      },
      "source": [
        "df_2011_new['YEAR'] = 2011\n",
        "df_2012_new['YEAR'] = 2012\n",
        "df_2013_new['YEAR'] = 2013"
      ],
      "execution_count": 12,
      "outputs": []
    },
    {
      "cell_type": "markdown",
      "metadata": {
        "id": "ymIu2ILdBARF",
        "colab_type": "text"
      },
      "source": [
        "We check our columns and edit incorrect or corrupt data."
      ]
    },
    {
      "cell_type": "code",
      "metadata": {
        "id": "C-eWhpq-AQdM",
        "colab_type": "code",
        "colab": {}
      },
      "source": [
        "# Get names of indexes for which column ARRTIME has value 'N'\n",
        "indexNames = df_2011_new[df_2011_new['ARRTIME'] == 'N'].index\n",
        "indexNames2 = df_2012_new[df_2012_new['ARRTIME'] == 'N'].index\n",
        "indexNames3 = df_2013_new[df_2013_new['ARRTIME'] == 'N'].index\n",
        "indexNames4 = df_2012_new[df_2012_new['ARRTIME'] == '3:30 3'].index\n",
        "\n",
        "# Delete these row indexes from dataframes\n",
        "df_2011_new.drop(indexNames, inplace = True)\n",
        "df_2012_new.drop(indexNames2, inplace = True)\n",
        "df_2013_new.drop(indexNames3, inplace = True)\n",
        "df_2012_new.drop(indexNames4, inplace = True)"
      ],
      "execution_count": 13,
      "outputs": []
    },
    {
      "cell_type": "markdown",
      "metadata": {
        "id": "Em2EMjJun6lw",
        "colab_type": "text"
      },
      "source": [
        "The data received during this survey only entered the postal code values for America. So all values are empty for other countries. That's why it has lost its value for us because we want to make an analysis that includes all countries."
      ]
    },
    {
      "cell_type": "markdown",
      "metadata": {
        "id": "wdV5HEWcoU6Z",
        "colab_type": "text"
      },
      "source": [
        "**If you want to fill the empty spaces with a value that is meaningful to you instead of deleting this column, the code below will do this for you.**"
      ]
    },
    {
      "cell_type": "code",
      "metadata": {
        "id": "GtIyHg8jWwp6",
        "colab_type": "code",
        "colab": {
          "base_uri": "https://localhost:8080/",
          "height": 54
        },
        "outputId": "0e425893-ed53-4f9b-81bc-f94f88dfd195"
      },
      "source": [
        "\"\"\"\n",
        "\n",
        "# We're filling the LIVEZIP column with 10000 value where columns LIVECOUNTRY is not 'US'\n",
        "\n",
        "df_2012_new['LIVEZIP'] = np.where((df_2012_new['LIVECOUNTRY'] != 'US'), #For rows with LIVECOUNTRY != US\n",
        "                           10000,      #We place 10000 value\n",
        "                           df_2012_new['LIVEZIP'])\n",
        " \n",
        "\n",
        "df_2011_new['LIVEZIP'] = np.where((df_2011_new['LIVECOUNTRY'] != 'US'), #For rows with LIVECOUNTRY != US\n",
        "                           10000,      #We place 10000 value\n",
        "                           df_2011_new['LIVEZIP'])\n",
        "\n",
        "\n",
        "df_2013_new['LIVEZIP'] = np.where((df_2013_new['LIVECOUNTRY'] != 'US'), #For rows with LIVECOUNTRY != US\n",
        "                           10000,      #We place 10000 value\n",
        "                           df_2013_new['LIVEZIP']) \n",
        "\"\"\""
      ],
      "execution_count": 14,
      "outputs": [
        {
          "output_type": "execute_result",
          "data": {
            "text/plain": [
              "\"\\n\\n# We're filling the LIVEZIP column with 10000 value where columns LIVECOUNTRY is not 'US'\\n\\ndf_2012_new['LIVEZIP'] = np.where((df_2012_new['LIVECOUNTRY'] != 'US'), #For rows with LIVECOUNTRY != US\\n                           10000,      #We place 10000 value\\n                           df_2012_new['LIVEZIP'])\\n \\n\\ndf_2011_new['LIVEZIP'] = np.where((df_2011_new['LIVECOUNTRY'] != 'US'), #For rows with LIVECOUNTRY != US\\n                           10000,      #We place 10000 value\\n                           df_2011_new['LIVEZIP'])\\n\\n\\ndf_2013_new['LIVEZIP'] = np.where((df_2013_new['LIVECOUNTRY'] != 'US'), #For rows with LIVECOUNTRY != US\\n                           10000,      #We place 10000 value\\n                           df_2013_new['LIVEZIP']) \\n\""
            ]
          },
          "metadata": {
            "tags": []
          },
          "execution_count": 14
        }
      ]
    },
    {
      "cell_type": "markdown",
      "metadata": {
        "id": "_7mbLcJrBWiD",
        "colab_type": "text"
      },
      "source": [
        "When we look at the entered values of the surveys conducted in different years, one is in the 12-hour type and the other in the 24-hour type. We need to organize them in one type.\n",
        "After clearing our data set, we need to convert it to 12 hours data type as in the other year data sets, so that we can give the required time type."
      ]
    },
    {
      "cell_type": "code",
      "metadata": {
        "id": "5DahCd8OEd9I",
        "colab_type": "code",
        "colab": {}
      },
      "source": [
        "# We are manipulating time value from 24 hour to 12 hour aslike 2012 and 2013 data time types for the ARRTIME column\n",
        "from datetime import datetime as dt\n",
        "a = []\n",
        "for x in df_2011_new.ARRTIME:\n",
        "  d = dt.strptime(x, '%H:%M')\n",
        "  a.append(d.strftime('%I:%M %p'))\n",
        "\n",
        "# For the DEPTIME column\n",
        "b = []\n",
        "for y in df_2011_new.DEPTIME:\n",
        "  d = dt.strptime(y, '%H:%M')\n",
        "  b.append(d.strftime('%I:%M %p'))\n",
        "\n",
        "# We are assigning to columns\n",
        "\n",
        "df_2011_new.ARRTIME = a\n",
        "df_2011_new.DEPTIME = b  "
      ],
      "execution_count": 15,
      "outputs": []
    },
    {
      "cell_type": "code",
      "metadata": {
        "id": "GG0bNELHLt2W",
        "colab_type": "code",
        "colab": {}
      },
      "source": [
        "c = []\n",
        "for x in df_2012_new.ARRTIME:\n",
        "  d = dt.strptime(x, '%H:%M')\n",
        "  c.append(d.strftime('%I:%M %p'))\n",
        "\n",
        "# For the DEPTIME column\n",
        "e = []\n",
        "for y in df_2012_new.DEPTIME:\n",
        "  d = dt.strptime(y, '%H:%M')\n",
        "  e.append(d.strftime('%I:%M %p'))\n",
        "\n",
        "# We are assigning to columns\n",
        "\n",
        "df_2012_new.ARRTIME = c\n",
        "df_2012_new.DEPTIME = e "
      ],
      "execution_count": 16,
      "outputs": []
    },
    {
      "cell_type": "markdown",
      "metadata": {
        "id": "AJdv4YoFuPI_",
        "colab_type": "text"
      },
      "source": [
        "In the original 2012 dataset, there is an extra value entered in the 'ARRTIME' column, if we do not convert this value to the format it should be, we will get an error constantly, so we delete our 'ARRTIME' value of '3:30 3'. (Note: We have already done this operation in the previous stage. )"
      ]
    },
    {
      "cell_type": "markdown",
      "metadata": {
        "id": "zLRnAs1oDtrz",
        "colab_type": "text"
      },
      "source": [
        "After putting our data sets in the same order, we can now combine them."
      ]
    },
    {
      "cell_type": "code",
      "metadata": {
        "id": "yAjsknrmvbP-",
        "colab_type": "code",
        "colab": {}
      },
      "source": [
        "dataset = [df_2011_new, df_2012_new, df_2013_new]\n",
        "df = pd.concat(dataset)"
      ],
      "execution_count": 17,
      "outputs": []
    },
    {
      "cell_type": "code",
      "metadata": {
        "id": "NZeGIfI6XvGF",
        "colab_type": "code",
        "colab": {}
      },
      "source": [
        "df = df.drop(['LIVEZIP'], axis=1)"
      ],
      "execution_count": 18,
      "outputs": []
    },
    {
      "cell_type": "code",
      "metadata": {
        "id": "1qBlZ5nGwCOZ",
        "colab_type": "code",
        "colab": {
          "base_uri": "https://localhost:8080/",
          "height": 241
        },
        "outputId": "d9db5f60-7bbc-4ec6-d14d-9277c51335c5"
      },
      "source": [
        "df.tail()"
      ],
      "execution_count": 19,
      "outputs": [
        {
          "output_type": "execute_result",
          "data": {
            "text/html": [
              "<div>\n",
              "<style scoped>\n",
              "    .dataframe tbody tr th:only-of-type {\n",
              "        vertical-align: middle;\n",
              "    }\n",
              "\n",
              "    .dataframe tbody tr th {\n",
              "        vertical-align: top;\n",
              "    }\n",
              "\n",
              "    .dataframe thead th {\n",
              "        text-align: right;\n",
              "    }\n",
              "</style>\n",
              "<table border=\"1\" class=\"dataframe\">\n",
              "  <thead>\n",
              "    <tr style=\"text-align: right;\">\n",
              "      <th></th>\n",
              "      <th>RESPNUM</th>\n",
              "      <th>CCGID</th>\n",
              "      <th>DESTMARK</th>\n",
              "      <th>DESTGEO</th>\n",
              "      <th>STRATA</th>\n",
              "      <th>AIRLINE</th>\n",
              "      <th>DEST</th>\n",
              "      <th>GATE</th>\n",
              "      <th>INTDATE</th>\n",
              "      <th>ARRTIME</th>\n",
              "      <th>DEPTIME</th>\n",
              "      <th>PURTRIP</th>\n",
              "      <th>TRANSVEC</th>\n",
              "      <th>CHECKBAG</th>\n",
              "      <th>BUYSTR</th>\n",
              "      <th>BUYREST</th>\n",
              "      <th>FLIGHTNUM</th>\n",
              "      <th>SURVTYPE</th>\n",
              "      <th>RATEART</th>\n",
              "      <th>RATEREST</th>\n",
              "      <th>RATESHOP</th>\n",
              "      <th>RATESIGNS</th>\n",
              "      <th>RATEESCA</th>\n",
              "      <th>RATEINFO</th>\n",
              "      <th>RATEBOOTHLOW</th>\n",
              "      <th>RATEBOOTHHIGH</th>\n",
              "      <th>RATESIGNROAD</th>\n",
              "      <th>RATEPARK</th>\n",
              "      <th>RATETRAIN</th>\n",
              "      <th>RATEPARKLONG</th>\n",
              "      <th>RATERENT</th>\n",
              "      <th>RATE</th>\n",
              "      <th>CLEANBOARD</th>\n",
              "      <th>CLEANTRAIN</th>\n",
              "      <th>CLEANRENT</th>\n",
              "      <th>CLEANREST</th>\n",
              "      <th>CLEANREROOM</th>\n",
              "      <th>ISSAFE</th>\n",
              "      <th>USEWEB</th>\n",
              "      <th>ISEASYFIND</th>\n",
              "      <th>ISEASYPASS</th>\n",
              "      <th>ANYPROB</th>\n",
              "      <th>LIVEWHERE</th>\n",
              "      <th>LIVECOUNTRY</th>\n",
              "      <th>HOME</th>\n",
              "      <th>AGE</th>\n",
              "      <th>GENDER</th>\n",
              "      <th>INCOME</th>\n",
              "      <th>SURVLANGTYPE</th>\n",
              "      <th>YEAR</th>\n",
              "    </tr>\n",
              "  </thead>\n",
              "  <tbody>\n",
              "    <tr>\n",
              "      <th>3530</th>\n",
              "      <td>9991</td>\n",
              "      <td>9001.0</td>\n",
              "      <td>4</td>\n",
              "      <td>1</td>\n",
              "      <td>1</td>\n",
              "      <td>33</td>\n",
              "      <td>50</td>\n",
              "      <td>98</td>\n",
              "      <td>2</td>\n",
              "      <td>6:30 AM</td>\n",
              "      <td>7:47 AM</td>\n",
              "      <td>5</td>\n",
              "      <td>4</td>\n",
              "      <td>2</td>\n",
              "      <td>2</td>\n",
              "      <td>2</td>\n",
              "      <td>1</td>\n",
              "      <td>2</td>\n",
              "      <td>6</td>\n",
              "      <td>4</td>\n",
              "      <td>3</td>\n",
              "      <td>2</td>\n",
              "      <td>3</td>\n",
              "      <td>3</td>\n",
              "      <td>6</td>\n",
              "      <td>6</td>\n",
              "      <td>6</td>\n",
              "      <td>6</td>\n",
              "      <td>6</td>\n",
              "      <td>6</td>\n",
              "      <td>6</td>\n",
              "      <td>5</td>\n",
              "      <td>5</td>\n",
              "      <td>6</td>\n",
              "      <td>6</td>\n",
              "      <td>5</td>\n",
              "      <td>5</td>\n",
              "      <td>5</td>\n",
              "      <td>3</td>\n",
              "      <td>1</td>\n",
              "      <td>5</td>\n",
              "      <td>2</td>\n",
              "      <td>3</td>\n",
              "      <td>ISRAEL</td>\n",
              "      <td>17</td>\n",
              "      <td>5</td>\n",
              "      <td>1</td>\n",
              "      <td>4</td>\n",
              "      <td>1</td>\n",
              "      <td>2013</td>\n",
              "    </tr>\n",
              "    <tr>\n",
              "      <th>3531</th>\n",
              "      <td>9992</td>\n",
              "      <td>491.0</td>\n",
              "      <td>4</td>\n",
              "      <td>6</td>\n",
              "      <td>2</td>\n",
              "      <td>25</td>\n",
              "      <td>32</td>\n",
              "      <td>101</td>\n",
              "      <td>17</td>\n",
              "      <td>12:50 AM</td>\n",
              "      <td>2:55 PM</td>\n",
              "      <td>3</td>\n",
              "      <td>2</td>\n",
              "      <td>1</td>\n",
              "      <td>2</td>\n",
              "      <td>2</td>\n",
              "      <td>3</td>\n",
              "      <td>2</td>\n",
              "      <td>3</td>\n",
              "      <td>6</td>\n",
              "      <td>4</td>\n",
              "      <td>5</td>\n",
              "      <td>5</td>\n",
              "      <td>4</td>\n",
              "      <td>4</td>\n",
              "      <td>4</td>\n",
              "      <td>4</td>\n",
              "      <td>4</td>\n",
              "      <td>6</td>\n",
              "      <td>6</td>\n",
              "      <td>6</td>\n",
              "      <td>4</td>\n",
              "      <td>4</td>\n",
              "      <td>6</td>\n",
              "      <td>6</td>\n",
              "      <td>6</td>\n",
              "      <td>4</td>\n",
              "      <td>4</td>\n",
              "      <td>1</td>\n",
              "      <td>5</td>\n",
              "      <td>3</td>\n",
              "      <td>3</td>\n",
              "      <td>1</td>\n",
              "      <td>US</td>\n",
              "      <td>90</td>\n",
              "      <td>4</td>\n",
              "      <td>2</td>\n",
              "      <td>0</td>\n",
              "      <td>1</td>\n",
              "      <td>2013</td>\n",
              "    </tr>\n",
              "    <tr>\n",
              "      <th>3532</th>\n",
              "      <td>9993</td>\n",
              "      <td>9002.0</td>\n",
              "      <td>2</td>\n",
              "      <td>1</td>\n",
              "      <td>3</td>\n",
              "      <td>7</td>\n",
              "      <td>74</td>\n",
              "      <td>20</td>\n",
              "      <td>10</td>\n",
              "      <td>4:05 AM</td>\n",
              "      <td>5:05 PM</td>\n",
              "      <td>1</td>\n",
              "      <td>4</td>\n",
              "      <td>2</td>\n",
              "      <td>2</td>\n",
              "      <td>2</td>\n",
              "      <td>6</td>\n",
              "      <td>2</td>\n",
              "      <td>6</td>\n",
              "      <td>3</td>\n",
              "      <td>3</td>\n",
              "      <td>4</td>\n",
              "      <td>6</td>\n",
              "      <td>4</td>\n",
              "      <td>6</td>\n",
              "      <td>6</td>\n",
              "      <td>6</td>\n",
              "      <td>6</td>\n",
              "      <td>6</td>\n",
              "      <td>6</td>\n",
              "      <td>6</td>\n",
              "      <td>3</td>\n",
              "      <td>3</td>\n",
              "      <td>6</td>\n",
              "      <td>6</td>\n",
              "      <td>6</td>\n",
              "      <td>3</td>\n",
              "      <td>4</td>\n",
              "      <td>1</td>\n",
              "      <td>5</td>\n",
              "      <td>5</td>\n",
              "      <td>2</td>\n",
              "      <td>3</td>\n",
              "      <td>US</td>\n",
              "      <td>10</td>\n",
              "      <td>4</td>\n",
              "      <td>1</td>\n",
              "      <td>3</td>\n",
              "      <td>1</td>\n",
              "      <td>2013</td>\n",
              "    </tr>\n",
              "    <tr>\n",
              "      <th>3533</th>\n",
              "      <td>9994</td>\n",
              "      <td>9003.0</td>\n",
              "      <td>4</td>\n",
              "      <td>1</td>\n",
              "      <td>3</td>\n",
              "      <td>29</td>\n",
              "      <td>50</td>\n",
              "      <td>30</td>\n",
              "      <td>8</td>\n",
              "      <td>6:00 AM</td>\n",
              "      <td>7:10 PM</td>\n",
              "      <td>1</td>\n",
              "      <td>4</td>\n",
              "      <td>1</td>\n",
              "      <td>2</td>\n",
              "      <td>2</td>\n",
              "      <td>4</td>\n",
              "      <td>2</td>\n",
              "      <td>5</td>\n",
              "      <td>4</td>\n",
              "      <td>2</td>\n",
              "      <td>6</td>\n",
              "      <td>5</td>\n",
              "      <td>5</td>\n",
              "      <td>6</td>\n",
              "      <td>6</td>\n",
              "      <td>4</td>\n",
              "      <td>3</td>\n",
              "      <td>4</td>\n",
              "      <td>6</td>\n",
              "      <td>6</td>\n",
              "      <td>4</td>\n",
              "      <td>5</td>\n",
              "      <td>5</td>\n",
              "      <td>6</td>\n",
              "      <td>4</td>\n",
              "      <td>4</td>\n",
              "      <td>5</td>\n",
              "      <td>1</td>\n",
              "      <td>4</td>\n",
              "      <td>5</td>\n",
              "      <td>2</td>\n",
              "      <td>1</td>\n",
              "      <td>US</td>\n",
              "      <td>1</td>\n",
              "      <td>3</td>\n",
              "      <td>1</td>\n",
              "      <td>3</td>\n",
              "      <td>1</td>\n",
              "      <td>2013</td>\n",
              "    </tr>\n",
              "    <tr>\n",
              "      <th>3534</th>\n",
              "      <td>9995</td>\n",
              "      <td>9004.0</td>\n",
              "      <td>4</td>\n",
              "      <td>1</td>\n",
              "      <td>3</td>\n",
              "      <td>33</td>\n",
              "      <td>46</td>\n",
              "      <td>68</td>\n",
              "      <td>14</td>\n",
              "      <td>3:00 PM</td>\n",
              "      <td>5:23 PM</td>\n",
              "      <td>1</td>\n",
              "      <td>5</td>\n",
              "      <td>2</td>\n",
              "      <td>2</td>\n",
              "      <td>1</td>\n",
              "      <td>1</td>\n",
              "      <td>2</td>\n",
              "      <td>4</td>\n",
              "      <td>4</td>\n",
              "      <td>4</td>\n",
              "      <td>3</td>\n",
              "      <td>3</td>\n",
              "      <td>4</td>\n",
              "      <td>6</td>\n",
              "      <td>3</td>\n",
              "      <td>3</td>\n",
              "      <td>6</td>\n",
              "      <td>3</td>\n",
              "      <td>6</td>\n",
              "      <td>6</td>\n",
              "      <td>3</td>\n",
              "      <td>3</td>\n",
              "      <td>3</td>\n",
              "      <td>6</td>\n",
              "      <td>3</td>\n",
              "      <td>6</td>\n",
              "      <td>3</td>\n",
              "      <td>1</td>\n",
              "      <td>4</td>\n",
              "      <td>3</td>\n",
              "      <td>2</td>\n",
              "      <td>2</td>\n",
              "      <td>US</td>\n",
              "      <td>91</td>\n",
              "      <td>0</td>\n",
              "      <td>0</td>\n",
              "      <td>0</td>\n",
              "      <td>1</td>\n",
              "      <td>2013</td>\n",
              "    </tr>\n",
              "  </tbody>\n",
              "</table>\n",
              "</div>"
            ],
            "text/plain": [
              "      RESPNUM   CCGID  DESTMARK  DESTGEO  ...  GENDER  INCOME SURVLANGTYPE  YEAR\n",
              "3530     9991  9001.0         4        1  ...       1       4            1  2013\n",
              "3531     9992   491.0         4        6  ...       2       0            1  2013\n",
              "3532     9993  9002.0         2        1  ...       1       3            1  2013\n",
              "3533     9994  9003.0         4        1  ...       1       3            1  2013\n",
              "3534     9995  9004.0         4        1  ...       0       0            1  2013\n",
              "\n",
              "[5 rows x 50 columns]"
            ]
          },
          "metadata": {
            "tags": []
          },
          "execution_count": 19
        }
      ]
    },
    {
      "cell_type": "code",
      "metadata": {
        "id": "HxlNh31gwTMo",
        "colab_type": "code",
        "colab": {
          "base_uri": "https://localhost:8080/",
          "height": 34
        },
        "outputId": "c9e0c6c5-5354-4dc0-cb6e-6b7346e20e29"
      },
      "source": [
        "df.shape"
      ],
      "execution_count": 20,
      "outputs": [
        {
          "output_type": "execute_result",
          "data": {
            "text/plain": [
              "(10535, 50)"
            ]
          },
          "metadata": {
            "tags": []
          },
          "execution_count": 20
        }
      ]
    },
    {
      "cell_type": "code",
      "metadata": {
        "id": "9Bs8YIVzxP6s",
        "colab_type": "code",
        "colab": {
          "base_uri": "https://localhost:8080/",
          "height": 986
        },
        "outputId": "99956e47-a7a7-4c00-8777-c64ac909df8d"
      },
      "source": [
        "df.info()"
      ],
      "execution_count": 21,
      "outputs": [
        {
          "output_type": "stream",
          "text": [
            "<class 'pandas.core.frame.DataFrame'>\n",
            "Int64Index: 10535 entries, 0 to 3534\n",
            "Data columns (total 50 columns):\n",
            " #   Column         Non-Null Count  Dtype  \n",
            "---  ------         --------------  -----  \n",
            " 0   RESPNUM        10535 non-null  int64  \n",
            " 1   CCGID          10522 non-null  float64\n",
            " 2   DESTMARK       10535 non-null  int64  \n",
            " 3   DESTGEO        10535 non-null  int64  \n",
            " 4   STRATA         10535 non-null  int64  \n",
            " 5   AIRLINE        10535 non-null  int64  \n",
            " 6   DEST           10535 non-null  object \n",
            " 7   GATE           10535 non-null  int64  \n",
            " 8   INTDATE        10535 non-null  int64  \n",
            " 9   ARRTIME        10535 non-null  object \n",
            " 10  DEPTIME        10535 non-null  object \n",
            " 11  PURTRIP        10535 non-null  int64  \n",
            " 12  TRANSVEC       10535 non-null  int64  \n",
            " 13  CHECKBAG       10535 non-null  int64  \n",
            " 14  BUYSTR         10535 non-null  int64  \n",
            " 15  BUYREST        10535 non-null  int64  \n",
            " 16  FLIGHTNUM      10535 non-null  int64  \n",
            " 17  SURVTYPE       10535 non-null  int64  \n",
            " 18  RATEART        10535 non-null  int64  \n",
            " 19  RATEREST       10535 non-null  int64  \n",
            " 20  RATESHOP       10535 non-null  int64  \n",
            " 21  RATESIGNS      10535 non-null  int64  \n",
            " 22  RATEESCA       10535 non-null  int64  \n",
            " 23  RATEINFO       10535 non-null  int64  \n",
            " 24  RATEBOOTHLOW   10535 non-null  int64  \n",
            " 25  RATEBOOTHHIGH  10535 non-null  int64  \n",
            " 26  RATESIGNROAD   10535 non-null  int64  \n",
            " 27  RATEPARK       10535 non-null  int64  \n",
            " 28  RATETRAIN      10535 non-null  int64  \n",
            " 29  RATEPARKLONG   10535 non-null  int64  \n",
            " 30  RATERENT       10535 non-null  int64  \n",
            " 31  RATE           10535 non-null  int64  \n",
            " 32  CLEANBOARD     10535 non-null  int64  \n",
            " 33  CLEANTRAIN     10535 non-null  int64  \n",
            " 34  CLEANRENT      10535 non-null  int64  \n",
            " 35  CLEANREST      10535 non-null  int64  \n",
            " 36  CLEANREROOM    10535 non-null  int64  \n",
            " 37  ISSAFE         10535 non-null  int64  \n",
            " 38  USEWEB         10535 non-null  int64  \n",
            " 39  ISEASYFIND     10535 non-null  int64  \n",
            " 40  ISEASYPASS     10535 non-null  int64  \n",
            " 41  ANYPROB        10535 non-null  int64  \n",
            " 42  LIVEWHERE      10535 non-null  int64  \n",
            " 43  LIVECOUNTRY    10052 non-null  object \n",
            " 44  HOME           10535 non-null  int64  \n",
            " 45  AGE            10535 non-null  int64  \n",
            " 46  GENDER         10535 non-null  int64  \n",
            " 47  INCOME         10535 non-null  int64  \n",
            " 48  SURVLANGTYPE   10535 non-null  int64  \n",
            " 49  YEAR           10535 non-null  int64  \n",
            "dtypes: float64(1), int64(45), object(4)\n",
            "memory usage: 4.1+ MB\n"
          ],
          "name": "stdout"
        }
      ]
    },
    {
      "cell_type": "code",
      "metadata": {
        "id": "01eFHy3bxeoF",
        "colab_type": "code",
        "colab": {
          "base_uri": "https://localhost:8080/",
          "height": 884
        },
        "outputId": "19927e00-3354-4e77-ef1a-52b127030242"
      },
      "source": [
        "df.dtypes"
      ],
      "execution_count": 22,
      "outputs": [
        {
          "output_type": "execute_result",
          "data": {
            "text/plain": [
              "RESPNUM            int64\n",
              "CCGID            float64\n",
              "DESTMARK           int64\n",
              "DESTGEO            int64\n",
              "STRATA             int64\n",
              "AIRLINE            int64\n",
              "DEST              object\n",
              "GATE               int64\n",
              "INTDATE            int64\n",
              "ARRTIME           object\n",
              "DEPTIME           object\n",
              "PURTRIP            int64\n",
              "TRANSVEC           int64\n",
              "CHECKBAG           int64\n",
              "BUYSTR             int64\n",
              "BUYREST            int64\n",
              "FLIGHTNUM          int64\n",
              "SURVTYPE           int64\n",
              "RATEART            int64\n",
              "RATEREST           int64\n",
              "RATESHOP           int64\n",
              "RATESIGNS          int64\n",
              "RATEESCA           int64\n",
              "RATEINFO           int64\n",
              "RATEBOOTHLOW       int64\n",
              "RATEBOOTHHIGH      int64\n",
              "RATESIGNROAD       int64\n",
              "RATEPARK           int64\n",
              "RATETRAIN          int64\n",
              "RATEPARKLONG       int64\n",
              "RATERENT           int64\n",
              "RATE               int64\n",
              "CLEANBOARD         int64\n",
              "CLEANTRAIN         int64\n",
              "CLEANRENT          int64\n",
              "CLEANREST          int64\n",
              "CLEANREROOM        int64\n",
              "ISSAFE             int64\n",
              "USEWEB             int64\n",
              "ISEASYFIND         int64\n",
              "ISEASYPASS         int64\n",
              "ANYPROB            int64\n",
              "LIVEWHERE          int64\n",
              "LIVECOUNTRY       object\n",
              "HOME               int64\n",
              "AGE                int64\n",
              "GENDER             int64\n",
              "INCOME             int64\n",
              "SURVLANGTYPE       int64\n",
              "YEAR               int64\n",
              "dtype: object"
            ]
          },
          "metadata": {
            "tags": []
          },
          "execution_count": 22
        }
      ]
    },
    {
      "cell_type": "code",
      "metadata": {
        "id": "gxxGola7yMd0",
        "colab_type": "code",
        "colab": {
          "base_uri": "https://localhost:8080/",
          "height": 1000
        },
        "outputId": "68c282e5-6e8f-403a-8fb4-635dd3708b43"
      },
      "source": [
        "df.describe().T"
      ],
      "execution_count": 23,
      "outputs": [
        {
          "output_type": "execute_result",
          "data": {
            "text/html": [
              "<div>\n",
              "<style scoped>\n",
              "    .dataframe tbody tr th:only-of-type {\n",
              "        vertical-align: middle;\n",
              "    }\n",
              "\n",
              "    .dataframe tbody tr th {\n",
              "        vertical-align: top;\n",
              "    }\n",
              "\n",
              "    .dataframe thead th {\n",
              "        text-align: right;\n",
              "    }\n",
              "</style>\n",
              "<table border=\"1\" class=\"dataframe\">\n",
              "  <thead>\n",
              "    <tr style=\"text-align: right;\">\n",
              "      <th></th>\n",
              "      <th>count</th>\n",
              "      <th>mean</th>\n",
              "      <th>std</th>\n",
              "      <th>min</th>\n",
              "      <th>25%</th>\n",
              "      <th>50%</th>\n",
              "      <th>75%</th>\n",
              "      <th>max</th>\n",
              "    </tr>\n",
              "  </thead>\n",
              "  <tbody>\n",
              "    <tr>\n",
              "      <th>RESPNUM</th>\n",
              "      <td>10535.0</td>\n",
              "      <td>2023.987470</td>\n",
              "      <td>1275.573208</td>\n",
              "      <td>1.0</td>\n",
              "      <td>905.0</td>\n",
              "      <td>2049.0</td>\n",
              "      <td>3006.00</td>\n",
              "      <td>9995.0</td>\n",
              "    </tr>\n",
              "    <tr>\n",
              "      <th>CCGID</th>\n",
              "      <td>10522.0</td>\n",
              "      <td>1931.861528</td>\n",
              "      <td>1172.603109</td>\n",
              "      <td>1.0</td>\n",
              "      <td>922.0</td>\n",
              "      <td>1827.0</td>\n",
              "      <td>2963.75</td>\n",
              "      <td>9004.0</td>\n",
              "    </tr>\n",
              "    <tr>\n",
              "      <th>DESTMARK</th>\n",
              "      <td>10535.0</td>\n",
              "      <td>2.999146</td>\n",
              "      <td>1.035949</td>\n",
              "      <td>1.0</td>\n",
              "      <td>2.0</td>\n",
              "      <td>3.0</td>\n",
              "      <td>4.00</td>\n",
              "      <td>4.0</td>\n",
              "    </tr>\n",
              "    <tr>\n",
              "      <th>DESTGEO</th>\n",
              "      <td>10535.0</td>\n",
              "      <td>3.025154</td>\n",
              "      <td>2.302011</td>\n",
              "      <td>1.0</td>\n",
              "      <td>1.0</td>\n",
              "      <td>2.0</td>\n",
              "      <td>4.00</td>\n",
              "      <td>9.0</td>\n",
              "    </tr>\n",
              "    <tr>\n",
              "      <th>STRATA</th>\n",
              "      <td>10535.0</td>\n",
              "      <td>1.972283</td>\n",
              "      <td>0.770018</td>\n",
              "      <td>1.0</td>\n",
              "      <td>1.0</td>\n",
              "      <td>2.0</td>\n",
              "      <td>3.00</td>\n",
              "      <td>3.0</td>\n",
              "    </tr>\n",
              "    <tr>\n",
              "      <th>AIRLINE</th>\n",
              "      <td>10535.0</td>\n",
              "      <td>22.460180</td>\n",
              "      <td>10.638560</td>\n",
              "      <td>2.0</td>\n",
              "      <td>12.0</td>\n",
              "      <td>26.0</td>\n",
              "      <td>32.00</td>\n",
              "      <td>42.0</td>\n",
              "    </tr>\n",
              "    <tr>\n",
              "      <th>GATE</th>\n",
              "      <td>10535.0</td>\n",
              "      <td>50.417940</td>\n",
              "      <td>32.068551</td>\n",
              "      <td>1.0</td>\n",
              "      <td>23.0</td>\n",
              "      <td>51.0</td>\n",
              "      <td>82.00</td>\n",
              "      <td>102.0</td>\n",
              "    </tr>\n",
              "    <tr>\n",
              "      <th>INTDATE</th>\n",
              "      <td>10535.0</td>\n",
              "      <td>8.505458</td>\n",
              "      <td>4.579275</td>\n",
              "      <td>1.0</td>\n",
              "      <td>5.0</td>\n",
              "      <td>8.0</td>\n",
              "      <td>12.00</td>\n",
              "      <td>19.0</td>\n",
              "    </tr>\n",
              "    <tr>\n",
              "      <th>PURTRIP</th>\n",
              "      <td>10535.0</td>\n",
              "      <td>2.265496</td>\n",
              "      <td>1.500408</td>\n",
              "      <td>1.0</td>\n",
              "      <td>1.0</td>\n",
              "      <td>2.0</td>\n",
              "      <td>3.00</td>\n",
              "      <td>13.0</td>\n",
              "    </tr>\n",
              "    <tr>\n",
              "      <th>TRANSVEC</th>\n",
              "      <td>10535.0</td>\n",
              "      <td>4.191932</td>\n",
              "      <td>2.642195</td>\n",
              "      <td>1.0</td>\n",
              "      <td>2.0</td>\n",
              "      <td>3.0</td>\n",
              "      <td>6.00</td>\n",
              "      <td>16.0</td>\n",
              "    </tr>\n",
              "    <tr>\n",
              "      <th>CHECKBAG</th>\n",
              "      <td>10535.0</td>\n",
              "      <td>1.347603</td>\n",
              "      <td>0.579135</td>\n",
              "      <td>0.0</td>\n",
              "      <td>1.0</td>\n",
              "      <td>1.0</td>\n",
              "      <td>2.00</td>\n",
              "      <td>3.0</td>\n",
              "    </tr>\n",
              "    <tr>\n",
              "      <th>BUYSTR</th>\n",
              "      <td>10535.0</td>\n",
              "      <td>1.460940</td>\n",
              "      <td>0.651536</td>\n",
              "      <td>0.0</td>\n",
              "      <td>1.0</td>\n",
              "      <td>2.0</td>\n",
              "      <td>2.00</td>\n",
              "      <td>3.0</td>\n",
              "    </tr>\n",
              "    <tr>\n",
              "      <th>BUYREST</th>\n",
              "      <td>10535.0</td>\n",
              "      <td>1.369720</td>\n",
              "      <td>0.607602</td>\n",
              "      <td>0.0</td>\n",
              "      <td>1.0</td>\n",
              "      <td>1.0</td>\n",
              "      <td>2.00</td>\n",
              "      <td>4.0</td>\n",
              "    </tr>\n",
              "    <tr>\n",
              "      <th>FLIGHTNUM</th>\n",
              "      <td>10535.0</td>\n",
              "      <td>2.167822</td>\n",
              "      <td>1.278010</td>\n",
              "      <td>0.0</td>\n",
              "      <td>1.0</td>\n",
              "      <td>2.0</td>\n",
              "      <td>3.00</td>\n",
              "      <td>6.0</td>\n",
              "    </tr>\n",
              "    <tr>\n",
              "      <th>SURVTYPE</th>\n",
              "      <td>10535.0</td>\n",
              "      <td>1.692928</td>\n",
              "      <td>0.470471</td>\n",
              "      <td>0.0</td>\n",
              "      <td>1.0</td>\n",
              "      <td>2.0</td>\n",
              "      <td>2.00</td>\n",
              "      <td>2.0</td>\n",
              "    </tr>\n",
              "    <tr>\n",
              "      <th>RATEART</th>\n",
              "      <td>10535.0</td>\n",
              "      <td>4.225914</td>\n",
              "      <td>1.322008</td>\n",
              "      <td>0.0</td>\n",
              "      <td>3.0</td>\n",
              "      <td>4.0</td>\n",
              "      <td>5.00</td>\n",
              "      <td>6.0</td>\n",
              "    </tr>\n",
              "    <tr>\n",
              "      <th>RATEREST</th>\n",
              "      <td>10535.0</td>\n",
              "      <td>3.960987</td>\n",
              "      <td>1.345589</td>\n",
              "      <td>0.0</td>\n",
              "      <td>3.0</td>\n",
              "      <td>4.0</td>\n",
              "      <td>5.00</td>\n",
              "      <td>6.0</td>\n",
              "    </tr>\n",
              "    <tr>\n",
              "      <th>RATESHOP</th>\n",
              "      <td>10535.0</td>\n",
              "      <td>3.907072</td>\n",
              "      <td>1.385392</td>\n",
              "      <td>0.0</td>\n",
              "      <td>3.0</td>\n",
              "      <td>4.0</td>\n",
              "      <td>5.00</td>\n",
              "      <td>6.0</td>\n",
              "    </tr>\n",
              "    <tr>\n",
              "      <th>RATESIGNS</th>\n",
              "      <td>10535.0</td>\n",
              "      <td>3.944566</td>\n",
              "      <td>1.087305</td>\n",
              "      <td>0.0</td>\n",
              "      <td>3.0</td>\n",
              "      <td>4.0</td>\n",
              "      <td>5.00</td>\n",
              "      <td>6.0</td>\n",
              "    </tr>\n",
              "    <tr>\n",
              "      <th>RATEESCA</th>\n",
              "      <td>10535.0</td>\n",
              "      <td>4.136972</td>\n",
              "      <td>1.137389</td>\n",
              "      <td>0.0</td>\n",
              "      <td>4.0</td>\n",
              "      <td>4.0</td>\n",
              "      <td>5.00</td>\n",
              "      <td>6.0</td>\n",
              "    </tr>\n",
              "    <tr>\n",
              "      <th>RATEINFO</th>\n",
              "      <td>10535.0</td>\n",
              "      <td>4.029046</td>\n",
              "      <td>1.112997</td>\n",
              "      <td>0.0</td>\n",
              "      <td>4.0</td>\n",
              "      <td>4.0</td>\n",
              "      <td>5.00</td>\n",
              "      <td>6.0</td>\n",
              "    </tr>\n",
              "    <tr>\n",
              "      <th>RATEBOOTHLOW</th>\n",
              "      <td>10535.0</td>\n",
              "      <td>4.708211</td>\n",
              "      <td>1.562599</td>\n",
              "      <td>0.0</td>\n",
              "      <td>4.0</td>\n",
              "      <td>5.0</td>\n",
              "      <td>6.00</td>\n",
              "      <td>6.0</td>\n",
              "    </tr>\n",
              "    <tr>\n",
              "      <th>RATEBOOTHHIGH</th>\n",
              "      <td>10535.0</td>\n",
              "      <td>4.693308</td>\n",
              "      <td>1.545036</td>\n",
              "      <td>0.0</td>\n",
              "      <td>4.0</td>\n",
              "      <td>5.0</td>\n",
              "      <td>6.00</td>\n",
              "      <td>6.0</td>\n",
              "    </tr>\n",
              "    <tr>\n",
              "      <th>RATESIGNROAD</th>\n",
              "      <td>10535.0</td>\n",
              "      <td>4.451258</td>\n",
              "      <td>1.555770</td>\n",
              "      <td>0.0</td>\n",
              "      <td>4.0</td>\n",
              "      <td>5.0</td>\n",
              "      <td>6.00</td>\n",
              "      <td>6.0</td>\n",
              "    </tr>\n",
              "    <tr>\n",
              "      <th>RATEPARK</th>\n",
              "      <td>10535.0</td>\n",
              "      <td>4.846227</td>\n",
              "      <td>1.694732</td>\n",
              "      <td>0.0</td>\n",
              "      <td>4.0</td>\n",
              "      <td>6.0</td>\n",
              "      <td>6.00</td>\n",
              "      <td>6.0</td>\n",
              "    </tr>\n",
              "    <tr>\n",
              "      <th>RATETRAIN</th>\n",
              "      <td>10535.0</td>\n",
              "      <td>4.834646</td>\n",
              "      <td>1.622124</td>\n",
              "      <td>0.0</td>\n",
              "      <td>4.0</td>\n",
              "      <td>6.0</td>\n",
              "      <td>6.00</td>\n",
              "      <td>6.0</td>\n",
              "    </tr>\n",
              "    <tr>\n",
              "      <th>RATEPARKLONG</th>\n",
              "      <td>10535.0</td>\n",
              "      <td>5.078785</td>\n",
              "      <td>1.715768</td>\n",
              "      <td>0.0</td>\n",
              "      <td>5.0</td>\n",
              "      <td>6.0</td>\n",
              "      <td>6.00</td>\n",
              "      <td>6.0</td>\n",
              "    </tr>\n",
              "    <tr>\n",
              "      <th>RATERENT</th>\n",
              "      <td>10535.0</td>\n",
              "      <td>4.936687</td>\n",
              "      <td>1.740274</td>\n",
              "      <td>0.0</td>\n",
              "      <td>4.0</td>\n",
              "      <td>6.0</td>\n",
              "      <td>6.00</td>\n",
              "      <td>6.0</td>\n",
              "    </tr>\n",
              "    <tr>\n",
              "      <th>RATE</th>\n",
              "      <td>10535.0</td>\n",
              "      <td>3.859801</td>\n",
              "      <td>1.043934</td>\n",
              "      <td>0.0</td>\n",
              "      <td>4.0</td>\n",
              "      <td>4.0</td>\n",
              "      <td>4.00</td>\n",
              "      <td>6.0</td>\n",
              "    </tr>\n",
              "    <tr>\n",
              "      <th>CLEANBOARD</th>\n",
              "      <td>10535.0</td>\n",
              "      <td>4.274324</td>\n",
              "      <td>0.921610</td>\n",
              "      <td>0.0</td>\n",
              "      <td>4.0</td>\n",
              "      <td>4.0</td>\n",
              "      <td>5.00</td>\n",
              "      <td>6.0</td>\n",
              "    </tr>\n",
              "    <tr>\n",
              "      <th>CLEANTRAIN</th>\n",
              "      <td>10535.0</td>\n",
              "      <td>4.949692</td>\n",
              "      <td>1.457822</td>\n",
              "      <td>0.0</td>\n",
              "      <td>4.0</td>\n",
              "      <td>6.0</td>\n",
              "      <td>6.00</td>\n",
              "      <td>6.0</td>\n",
              "    </tr>\n",
              "    <tr>\n",
              "      <th>CLEANRENT</th>\n",
              "      <td>10535.0</td>\n",
              "      <td>5.030850</td>\n",
              "      <td>1.587848</td>\n",
              "      <td>0.0</td>\n",
              "      <td>4.0</td>\n",
              "      <td>6.0</td>\n",
              "      <td>6.00</td>\n",
              "      <td>6.0</td>\n",
              "    </tr>\n",
              "    <tr>\n",
              "      <th>CLEANREST</th>\n",
              "      <td>10535.0</td>\n",
              "      <td>4.414143</td>\n",
              "      <td>1.382788</td>\n",
              "      <td>0.0</td>\n",
              "      <td>4.0</td>\n",
              "      <td>4.0</td>\n",
              "      <td>5.00</td>\n",
              "      <td>6.0</td>\n",
              "    </tr>\n",
              "    <tr>\n",
              "      <th>CLEANREROOM</th>\n",
              "      <td>10535.0</td>\n",
              "      <td>4.108875</td>\n",
              "      <td>1.119418</td>\n",
              "      <td>0.0</td>\n",
              "      <td>4.0</td>\n",
              "      <td>4.0</td>\n",
              "      <td>5.00</td>\n",
              "      <td>6.0</td>\n",
              "    </tr>\n",
              "    <tr>\n",
              "      <th>ISSAFE</th>\n",
              "      <td>10535.0</td>\n",
              "      <td>4.347983</td>\n",
              "      <td>0.877232</td>\n",
              "      <td>0.0</td>\n",
              "      <td>4.0</td>\n",
              "      <td>5.0</td>\n",
              "      <td>5.00</td>\n",
              "      <td>6.0</td>\n",
              "    </tr>\n",
              "    <tr>\n",
              "      <th>USEWEB</th>\n",
              "      <td>10535.0</td>\n",
              "      <td>1.848980</td>\n",
              "      <td>0.510636</td>\n",
              "      <td>0.0</td>\n",
              "      <td>2.0</td>\n",
              "      <td>2.0</td>\n",
              "      <td>2.00</td>\n",
              "      <td>3.0</td>\n",
              "    </tr>\n",
              "    <tr>\n",
              "      <th>ISEASYFIND</th>\n",
              "      <td>10535.0</td>\n",
              "      <td>4.288657</td>\n",
              "      <td>1.109326</td>\n",
              "      <td>0.0</td>\n",
              "      <td>4.0</td>\n",
              "      <td>5.0</td>\n",
              "      <td>5.00</td>\n",
              "      <td>6.0</td>\n",
              "    </tr>\n",
              "    <tr>\n",
              "      <th>ISEASYPASS</th>\n",
              "      <td>10535.0</td>\n",
              "      <td>4.019364</td>\n",
              "      <td>1.459212</td>\n",
              "      <td>0.0</td>\n",
              "      <td>3.0</td>\n",
              "      <td>4.0</td>\n",
              "      <td>5.00</td>\n",
              "      <td>6.0</td>\n",
              "    </tr>\n",
              "    <tr>\n",
              "      <th>ANYPROB</th>\n",
              "      <td>10535.0</td>\n",
              "      <td>1.818984</td>\n",
              "      <td>0.483426</td>\n",
              "      <td>0.0</td>\n",
              "      <td>2.0</td>\n",
              "      <td>2.0</td>\n",
              "      <td>2.00</td>\n",
              "      <td>3.0</td>\n",
              "    </tr>\n",
              "    <tr>\n",
              "      <th>LIVEWHERE</th>\n",
              "      <td>10535.0</td>\n",
              "      <td>2.400380</td>\n",
              "      <td>1.104610</td>\n",
              "      <td>0.0</td>\n",
              "      <td>1.0</td>\n",
              "      <td>3.0</td>\n",
              "      <td>3.00</td>\n",
              "      <td>4.0</td>\n",
              "    </tr>\n",
              "    <tr>\n",
              "      <th>HOME</th>\n",
              "      <td>10535.0</td>\n",
              "      <td>13.777598</td>\n",
              "      <td>20.090775</td>\n",
              "      <td>1.0</td>\n",
              "      <td>5.0</td>\n",
              "      <td>10.0</td>\n",
              "      <td>12.00</td>\n",
              "      <td>99.0</td>\n",
              "    </tr>\n",
              "    <tr>\n",
              "      <th>AGE</th>\n",
              "      <td>10535.0</td>\n",
              "      <td>4.282012</td>\n",
              "      <td>1.693843</td>\n",
              "      <td>0.0</td>\n",
              "      <td>3.0</td>\n",
              "      <td>4.0</td>\n",
              "      <td>6.00</td>\n",
              "      <td>9.0</td>\n",
              "    </tr>\n",
              "    <tr>\n",
              "      <th>GENDER</th>\n",
              "      <td>10535.0</td>\n",
              "      <td>1.432653</td>\n",
              "      <td>0.582314</td>\n",
              "      <td>0.0</td>\n",
              "      <td>1.0</td>\n",
              "      <td>1.0</td>\n",
              "      <td>2.00</td>\n",
              "      <td>3.0</td>\n",
              "    </tr>\n",
              "    <tr>\n",
              "      <th>INCOME</th>\n",
              "      <td>10535.0</td>\n",
              "      <td>2.046512</td>\n",
              "      <td>1.448673</td>\n",
              "      <td>0.0</td>\n",
              "      <td>1.0</td>\n",
              "      <td>2.0</td>\n",
              "      <td>3.00</td>\n",
              "      <td>5.0</td>\n",
              "    </tr>\n",
              "    <tr>\n",
              "      <th>SURVLANGTYPE</th>\n",
              "      <td>10535.0</td>\n",
              "      <td>1.111818</td>\n",
              "      <td>0.513005</td>\n",
              "      <td>1.0</td>\n",
              "      <td>1.0</td>\n",
              "      <td>1.0</td>\n",
              "      <td>1.00</td>\n",
              "      <td>4.0</td>\n",
              "    </tr>\n",
              "    <tr>\n",
              "      <th>YEAR</th>\n",
              "      <td>10535.0</td>\n",
              "      <td>2011.971239</td>\n",
              "      <td>0.821228</td>\n",
              "      <td>2011.0</td>\n",
              "      <td>2011.0</td>\n",
              "      <td>2012.0</td>\n",
              "      <td>2013.00</td>\n",
              "      <td>2013.0</td>\n",
              "    </tr>\n",
              "  </tbody>\n",
              "</table>\n",
              "</div>"
            ],
            "text/plain": [
              "                 count         mean          std  ...     50%      75%     max\n",
              "RESPNUM        10535.0  2023.987470  1275.573208  ...  2049.0  3006.00  9995.0\n",
              "CCGID          10522.0  1931.861528  1172.603109  ...  1827.0  2963.75  9004.0\n",
              "DESTMARK       10535.0     2.999146     1.035949  ...     3.0     4.00     4.0\n",
              "DESTGEO        10535.0     3.025154     2.302011  ...     2.0     4.00     9.0\n",
              "STRATA         10535.0     1.972283     0.770018  ...     2.0     3.00     3.0\n",
              "AIRLINE        10535.0    22.460180    10.638560  ...    26.0    32.00    42.0\n",
              "GATE           10535.0    50.417940    32.068551  ...    51.0    82.00   102.0\n",
              "INTDATE        10535.0     8.505458     4.579275  ...     8.0    12.00    19.0\n",
              "PURTRIP        10535.0     2.265496     1.500408  ...     2.0     3.00    13.0\n",
              "TRANSVEC       10535.0     4.191932     2.642195  ...     3.0     6.00    16.0\n",
              "CHECKBAG       10535.0     1.347603     0.579135  ...     1.0     2.00     3.0\n",
              "BUYSTR         10535.0     1.460940     0.651536  ...     2.0     2.00     3.0\n",
              "BUYREST        10535.0     1.369720     0.607602  ...     1.0     2.00     4.0\n",
              "FLIGHTNUM      10535.0     2.167822     1.278010  ...     2.0     3.00     6.0\n",
              "SURVTYPE       10535.0     1.692928     0.470471  ...     2.0     2.00     2.0\n",
              "RATEART        10535.0     4.225914     1.322008  ...     4.0     5.00     6.0\n",
              "RATEREST       10535.0     3.960987     1.345589  ...     4.0     5.00     6.0\n",
              "RATESHOP       10535.0     3.907072     1.385392  ...     4.0     5.00     6.0\n",
              "RATESIGNS      10535.0     3.944566     1.087305  ...     4.0     5.00     6.0\n",
              "RATEESCA       10535.0     4.136972     1.137389  ...     4.0     5.00     6.0\n",
              "RATEINFO       10535.0     4.029046     1.112997  ...     4.0     5.00     6.0\n",
              "RATEBOOTHLOW   10535.0     4.708211     1.562599  ...     5.0     6.00     6.0\n",
              "RATEBOOTHHIGH  10535.0     4.693308     1.545036  ...     5.0     6.00     6.0\n",
              "RATESIGNROAD   10535.0     4.451258     1.555770  ...     5.0     6.00     6.0\n",
              "RATEPARK       10535.0     4.846227     1.694732  ...     6.0     6.00     6.0\n",
              "RATETRAIN      10535.0     4.834646     1.622124  ...     6.0     6.00     6.0\n",
              "RATEPARKLONG   10535.0     5.078785     1.715768  ...     6.0     6.00     6.0\n",
              "RATERENT       10535.0     4.936687     1.740274  ...     6.0     6.00     6.0\n",
              "RATE           10535.0     3.859801     1.043934  ...     4.0     4.00     6.0\n",
              "CLEANBOARD     10535.0     4.274324     0.921610  ...     4.0     5.00     6.0\n",
              "CLEANTRAIN     10535.0     4.949692     1.457822  ...     6.0     6.00     6.0\n",
              "CLEANRENT      10535.0     5.030850     1.587848  ...     6.0     6.00     6.0\n",
              "CLEANREST      10535.0     4.414143     1.382788  ...     4.0     5.00     6.0\n",
              "CLEANREROOM    10535.0     4.108875     1.119418  ...     4.0     5.00     6.0\n",
              "ISSAFE         10535.0     4.347983     0.877232  ...     5.0     5.00     6.0\n",
              "USEWEB         10535.0     1.848980     0.510636  ...     2.0     2.00     3.0\n",
              "ISEASYFIND     10535.0     4.288657     1.109326  ...     5.0     5.00     6.0\n",
              "ISEASYPASS     10535.0     4.019364     1.459212  ...     4.0     5.00     6.0\n",
              "ANYPROB        10535.0     1.818984     0.483426  ...     2.0     2.00     3.0\n",
              "LIVEWHERE      10535.0     2.400380     1.104610  ...     3.0     3.00     4.0\n",
              "HOME           10535.0    13.777598    20.090775  ...    10.0    12.00    99.0\n",
              "AGE            10535.0     4.282012     1.693843  ...     4.0     6.00     9.0\n",
              "GENDER         10535.0     1.432653     0.582314  ...     1.0     2.00     3.0\n",
              "INCOME         10535.0     2.046512     1.448673  ...     2.0     3.00     5.0\n",
              "SURVLANGTYPE   10535.0     1.111818     0.513005  ...     1.0     1.00     4.0\n",
              "YEAR           10535.0  2011.971239     0.821228  ...  2012.0  2013.00  2013.0\n",
              "\n",
              "[46 rows x 8 columns]"
            ]
          },
          "metadata": {
            "tags": []
          },
          "execution_count": 23
        }
      ]
    },
    {
      "cell_type": "code",
      "metadata": {
        "id": "JNkySVKkwXaw",
        "colab_type": "code",
        "colab": {
          "base_uri": "https://localhost:8080/",
          "height": 34
        },
        "outputId": "10095568-172c-4472-a005-0322c08cf962"
      },
      "source": [
        "df.isnull().values.any()"
      ],
      "execution_count": 24,
      "outputs": [
        {
          "output_type": "execute_result",
          "data": {
            "text/plain": [
              "True"
            ]
          },
          "metadata": {
            "tags": []
          },
          "execution_count": 24
        }
      ]
    },
    {
      "cell_type": "markdown",
      "metadata": {
        "id": "_MKqEQjuwhEG",
        "colab_type": "text"
      },
      "source": [
        "As you can see above, we have combined our data sets. And we saw that we had missing data. After that it will continue with data discovery and handling missing data"
      ]
    },
    {
      "cell_type": "code",
      "metadata": {
        "id": "ftoIYAhVwgXO",
        "colab_type": "code",
        "colab": {
          "base_uri": "https://localhost:8080/",
          "height": 884
        },
        "outputId": "3c109551-6ff5-4a6e-b735-39281eb5e639"
      },
      "source": [
        "df.isna().sum()"
      ],
      "execution_count": 25,
      "outputs": [
        {
          "output_type": "execute_result",
          "data": {
            "text/plain": [
              "RESPNUM            0\n",
              "CCGID             13\n",
              "DESTMARK           0\n",
              "DESTGEO            0\n",
              "STRATA             0\n",
              "AIRLINE            0\n",
              "DEST               0\n",
              "GATE               0\n",
              "INTDATE            0\n",
              "ARRTIME            0\n",
              "DEPTIME            0\n",
              "PURTRIP            0\n",
              "TRANSVEC           0\n",
              "CHECKBAG           0\n",
              "BUYSTR             0\n",
              "BUYREST            0\n",
              "FLIGHTNUM          0\n",
              "SURVTYPE           0\n",
              "RATEART            0\n",
              "RATEREST           0\n",
              "RATESHOP           0\n",
              "RATESIGNS          0\n",
              "RATEESCA           0\n",
              "RATEINFO           0\n",
              "RATEBOOTHLOW       0\n",
              "RATEBOOTHHIGH      0\n",
              "RATESIGNROAD       0\n",
              "RATEPARK           0\n",
              "RATETRAIN          0\n",
              "RATEPARKLONG       0\n",
              "RATERENT           0\n",
              "RATE               0\n",
              "CLEANBOARD         0\n",
              "CLEANTRAIN         0\n",
              "CLEANRENT          0\n",
              "CLEANREST          0\n",
              "CLEANREROOM        0\n",
              "ISSAFE             0\n",
              "USEWEB             0\n",
              "ISEASYFIND         0\n",
              "ISEASYPASS         0\n",
              "ANYPROB            0\n",
              "LIVEWHERE          0\n",
              "LIVECOUNTRY      483\n",
              "HOME               0\n",
              "AGE                0\n",
              "GENDER             0\n",
              "INCOME             0\n",
              "SURVLANGTYPE       0\n",
              "YEAR               0\n",
              "dtype: int64"
            ]
          },
          "metadata": {
            "tags": []
          },
          "execution_count": 25
        }
      ]
    },
    {
      "cell_type": "markdown",
      "metadata": {
        "id": "4-qjD4py4lX_",
        "colab_type": "text"
      },
      "source": [
        "In the explanation document belonging to our data set, we have been informed that CCGID value may not statistically make sense and there are null values for this column in our data. For this reason, we can delete 13 data that appear blank."
      ]
    },
    {
      "cell_type": "code",
      "metadata": {
        "id": "ebyDGYGu4k_v",
        "colab_type": "code",
        "colab": {}
      },
      "source": [
        "df.dropna(subset=['CCGID'], inplace=True)"
      ],
      "execution_count": 26,
      "outputs": []
    },
    {
      "cell_type": "markdown",
      "metadata": {
        "id": "Oqwb6DFqrWiD",
        "colab_type": "text"
      },
      "source": [
        "After deleting the null values we will complete the neccessary columns that we know what the value is:"
      ]
    },
    {
      "cell_type": "markdown",
      "metadata": {
        "id": "keIWy0Vmjt37",
        "colab_type": "text"
      },
      "source": [
        "We have given the value 'UNKNOWN', which is a single value for the values of countries not entered in our data set. When we see this value, we understand that the country value of that person has not been entered."
      ]
    },
    {
      "cell_type": "code",
      "metadata": {
        "id": "ATDcSzb0ys1P",
        "colab_type": "code",
        "colab": {}
      },
      "source": [
        "df[\"LIVECOUNTRY\"].fillna(\"UNKNOWN\", inplace = True)"
      ],
      "execution_count": 27,
      "outputs": []
    },
    {
      "cell_type": "code",
      "metadata": {
        "id": "db2YrH3R5FXN",
        "colab_type": "code",
        "colab": {
          "base_uri": "https://localhost:8080/",
          "height": 884
        },
        "outputId": "608191b7-fc85-4854-d67f-ce01d3550850"
      },
      "source": [
        "df.isna().sum()"
      ],
      "execution_count": 28,
      "outputs": [
        {
          "output_type": "execute_result",
          "data": {
            "text/plain": [
              "RESPNUM          0\n",
              "CCGID            0\n",
              "DESTMARK         0\n",
              "DESTGEO          0\n",
              "STRATA           0\n",
              "AIRLINE          0\n",
              "DEST             0\n",
              "GATE             0\n",
              "INTDATE          0\n",
              "ARRTIME          0\n",
              "DEPTIME          0\n",
              "PURTRIP          0\n",
              "TRANSVEC         0\n",
              "CHECKBAG         0\n",
              "BUYSTR           0\n",
              "BUYREST          0\n",
              "FLIGHTNUM        0\n",
              "SURVTYPE         0\n",
              "RATEART          0\n",
              "RATEREST         0\n",
              "RATESHOP         0\n",
              "RATESIGNS        0\n",
              "RATEESCA         0\n",
              "RATEINFO         0\n",
              "RATEBOOTHLOW     0\n",
              "RATEBOOTHHIGH    0\n",
              "RATESIGNROAD     0\n",
              "RATEPARK         0\n",
              "RATETRAIN        0\n",
              "RATEPARKLONG     0\n",
              "RATERENT         0\n",
              "RATE             0\n",
              "CLEANBOARD       0\n",
              "CLEANTRAIN       0\n",
              "CLEANRENT        0\n",
              "CLEANREST        0\n",
              "CLEANREROOM      0\n",
              "ISSAFE           0\n",
              "USEWEB           0\n",
              "ISEASYFIND       0\n",
              "ISEASYPASS       0\n",
              "ANYPROB          0\n",
              "LIVEWHERE        0\n",
              "LIVECOUNTRY      0\n",
              "HOME             0\n",
              "AGE              0\n",
              "GENDER           0\n",
              "INCOME           0\n",
              "SURVLANGTYPE     0\n",
              "YEAR             0\n",
              "dtype: int64"
            ]
          },
          "metadata": {
            "tags": []
          },
          "execution_count": 28
        }
      ]
    },
    {
      "cell_type": "code",
      "metadata": {
        "id": "LRYl3MH_OqIB",
        "colab_type": "code",
        "colab": {
          "base_uri": "https://localhost:8080/",
          "height": 34
        },
        "outputId": "e8d41515-71d0-48ec-dfbe-0aabe147d626"
      },
      "source": [
        "df.isnull().values.any()"
      ],
      "execution_count": 29,
      "outputs": [
        {
          "output_type": "execute_result",
          "data": {
            "text/plain": [
              "False"
            ]
          },
          "metadata": {
            "tags": []
          },
          "execution_count": 29
        }
      ]
    },
    {
      "cell_type": "code",
      "metadata": {
        "id": "ZFjTd7x15LAC",
        "colab_type": "code",
        "colab": {
          "base_uri": "https://localhost:8080/",
          "height": 549
        },
        "outputId": "dc62b0ba-1ad8-420c-e63a-954d2ca18c92"
      },
      "source": [
        "df.head(10)"
      ],
      "execution_count": 30,
      "outputs": [
        {
          "output_type": "execute_result",
          "data": {
            "text/html": [
              "<div>\n",
              "<style scoped>\n",
              "    .dataframe tbody tr th:only-of-type {\n",
              "        vertical-align: middle;\n",
              "    }\n",
              "\n",
              "    .dataframe tbody tr th {\n",
              "        vertical-align: top;\n",
              "    }\n",
              "\n",
              "    .dataframe thead th {\n",
              "        text-align: right;\n",
              "    }\n",
              "</style>\n",
              "<table border=\"1\" class=\"dataframe\">\n",
              "  <thead>\n",
              "    <tr style=\"text-align: right;\">\n",
              "      <th></th>\n",
              "      <th>RESPNUM</th>\n",
              "      <th>CCGID</th>\n",
              "      <th>DESTMARK</th>\n",
              "      <th>DESTGEO</th>\n",
              "      <th>STRATA</th>\n",
              "      <th>AIRLINE</th>\n",
              "      <th>DEST</th>\n",
              "      <th>GATE</th>\n",
              "      <th>INTDATE</th>\n",
              "      <th>ARRTIME</th>\n",
              "      <th>DEPTIME</th>\n",
              "      <th>PURTRIP</th>\n",
              "      <th>TRANSVEC</th>\n",
              "      <th>CHECKBAG</th>\n",
              "      <th>BUYSTR</th>\n",
              "      <th>BUYREST</th>\n",
              "      <th>FLIGHTNUM</th>\n",
              "      <th>SURVTYPE</th>\n",
              "      <th>RATEART</th>\n",
              "      <th>RATEREST</th>\n",
              "      <th>RATESHOP</th>\n",
              "      <th>RATESIGNS</th>\n",
              "      <th>RATEESCA</th>\n",
              "      <th>RATEINFO</th>\n",
              "      <th>RATEBOOTHLOW</th>\n",
              "      <th>RATEBOOTHHIGH</th>\n",
              "      <th>RATESIGNROAD</th>\n",
              "      <th>RATEPARK</th>\n",
              "      <th>RATETRAIN</th>\n",
              "      <th>RATEPARKLONG</th>\n",
              "      <th>RATERENT</th>\n",
              "      <th>RATE</th>\n",
              "      <th>CLEANBOARD</th>\n",
              "      <th>CLEANTRAIN</th>\n",
              "      <th>CLEANRENT</th>\n",
              "      <th>CLEANREST</th>\n",
              "      <th>CLEANREROOM</th>\n",
              "      <th>ISSAFE</th>\n",
              "      <th>USEWEB</th>\n",
              "      <th>ISEASYFIND</th>\n",
              "      <th>ISEASYPASS</th>\n",
              "      <th>ANYPROB</th>\n",
              "      <th>LIVEWHERE</th>\n",
              "      <th>LIVECOUNTRY</th>\n",
              "      <th>HOME</th>\n",
              "      <th>AGE</th>\n",
              "      <th>GENDER</th>\n",
              "      <th>INCOME</th>\n",
              "      <th>SURVLANGTYPE</th>\n",
              "      <th>YEAR</th>\n",
              "    </tr>\n",
              "  </thead>\n",
              "  <tbody>\n",
              "    <tr>\n",
              "      <th>0</th>\n",
              "      <td>440</td>\n",
              "      <td>1.0</td>\n",
              "      <td>4</td>\n",
              "      <td>1</td>\n",
              "      <td>1</td>\n",
              "      <td>25</td>\n",
              "      <td>LAS VEGAS</td>\n",
              "      <td>25</td>\n",
              "      <td>2</td>\n",
              "      <td>08:56 AM</td>\n",
              "      <td>10:25 AM</td>\n",
              "      <td>2</td>\n",
              "      <td>1</td>\n",
              "      <td>2</td>\n",
              "      <td>1</td>\n",
              "      <td>1</td>\n",
              "      <td>2</td>\n",
              "      <td>1</td>\n",
              "      <td>4</td>\n",
              "      <td>4</td>\n",
              "      <td>4</td>\n",
              "      <td>4</td>\n",
              "      <td>4</td>\n",
              "      <td>5</td>\n",
              "      <td>6</td>\n",
              "      <td>6</td>\n",
              "      <td>4</td>\n",
              "      <td>5</td>\n",
              "      <td>6</td>\n",
              "      <td>5</td>\n",
              "      <td>6</td>\n",
              "      <td>4</td>\n",
              "      <td>4</td>\n",
              "      <td>6</td>\n",
              "      <td>6</td>\n",
              "      <td>4</td>\n",
              "      <td>4</td>\n",
              "      <td>5</td>\n",
              "      <td>2</td>\n",
              "      <td>5</td>\n",
              "      <td>5</td>\n",
              "      <td>2</td>\n",
              "      <td>1</td>\n",
              "      <td>US</td>\n",
              "      <td>1</td>\n",
              "      <td>5</td>\n",
              "      <td>1</td>\n",
              "      <td>3</td>\n",
              "      <td>1</td>\n",
              "      <td>2011</td>\n",
              "    </tr>\n",
              "    <tr>\n",
              "      <th>1</th>\n",
              "      <td>441</td>\n",
              "      <td>2.0</td>\n",
              "      <td>4</td>\n",
              "      <td>1</td>\n",
              "      <td>1</td>\n",
              "      <td>25</td>\n",
              "      <td>LAS VEGAS</td>\n",
              "      <td>25</td>\n",
              "      <td>2</td>\n",
              "      <td>08:45 AM</td>\n",
              "      <td>10:25 AM</td>\n",
              "      <td>3</td>\n",
              "      <td>5</td>\n",
              "      <td>2</td>\n",
              "      <td>2</td>\n",
              "      <td>1</td>\n",
              "      <td>1</td>\n",
              "      <td>1</td>\n",
              "      <td>6</td>\n",
              "      <td>4</td>\n",
              "      <td>6</td>\n",
              "      <td>4</td>\n",
              "      <td>5</td>\n",
              "      <td>3</td>\n",
              "      <td>4</td>\n",
              "      <td>2</td>\n",
              "      <td>5</td>\n",
              "      <td>3</td>\n",
              "      <td>5</td>\n",
              "      <td>6</td>\n",
              "      <td>6</td>\n",
              "      <td>4</td>\n",
              "      <td>5</td>\n",
              "      <td>5</td>\n",
              "      <td>6</td>\n",
              "      <td>5</td>\n",
              "      <td>5</td>\n",
              "      <td>2</td>\n",
              "      <td>2</td>\n",
              "      <td>4</td>\n",
              "      <td>5</td>\n",
              "      <td>2</td>\n",
              "      <td>1</td>\n",
              "      <td>US</td>\n",
              "      <td>2</td>\n",
              "      <td>2</td>\n",
              "      <td>1</td>\n",
              "      <td>1</td>\n",
              "      <td>1</td>\n",
              "      <td>2011</td>\n",
              "    </tr>\n",
              "    <tr>\n",
              "      <th>2</th>\n",
              "      <td>442</td>\n",
              "      <td>3.0</td>\n",
              "      <td>4</td>\n",
              "      <td>1</td>\n",
              "      <td>1</td>\n",
              "      <td>25</td>\n",
              "      <td>LAS VEGAS</td>\n",
              "      <td>25</td>\n",
              "      <td>2</td>\n",
              "      <td>08:15 AM</td>\n",
              "      <td>10:25 AM</td>\n",
              "      <td>2</td>\n",
              "      <td>2</td>\n",
              "      <td>3</td>\n",
              "      <td>2</td>\n",
              "      <td>2</td>\n",
              "      <td>1</td>\n",
              "      <td>1</td>\n",
              "      <td>6</td>\n",
              "      <td>6</td>\n",
              "      <td>3</td>\n",
              "      <td>4</td>\n",
              "      <td>3</td>\n",
              "      <td>6</td>\n",
              "      <td>6</td>\n",
              "      <td>3</td>\n",
              "      <td>2</td>\n",
              "      <td>6</td>\n",
              "      <td>6</td>\n",
              "      <td>6</td>\n",
              "      <td>6</td>\n",
              "      <td>3</td>\n",
              "      <td>3</td>\n",
              "      <td>6</td>\n",
              "      <td>6</td>\n",
              "      <td>6</td>\n",
              "      <td>6</td>\n",
              "      <td>4</td>\n",
              "      <td>2</td>\n",
              "      <td>5</td>\n",
              "      <td>5</td>\n",
              "      <td>2</td>\n",
              "      <td>3</td>\n",
              "      <td>US</td>\n",
              "      <td>10</td>\n",
              "      <td>7</td>\n",
              "      <td>2</td>\n",
              "      <td>0</td>\n",
              "      <td>1</td>\n",
              "      <td>2011</td>\n",
              "    </tr>\n",
              "    <tr>\n",
              "      <th>3</th>\n",
              "      <td>443</td>\n",
              "      <td>4.0</td>\n",
              "      <td>4</td>\n",
              "      <td>1</td>\n",
              "      <td>1</td>\n",
              "      <td>25</td>\n",
              "      <td>LAS VEGAS</td>\n",
              "      <td>25</td>\n",
              "      <td>2</td>\n",
              "      <td>08:00 AM</td>\n",
              "      <td>10:25 AM</td>\n",
              "      <td>1</td>\n",
              "      <td>4</td>\n",
              "      <td>1</td>\n",
              "      <td>2</td>\n",
              "      <td>1</td>\n",
              "      <td>1</td>\n",
              "      <td>1</td>\n",
              "      <td>5</td>\n",
              "      <td>4</td>\n",
              "      <td>4</td>\n",
              "      <td>4</td>\n",
              "      <td>6</td>\n",
              "      <td>6</td>\n",
              "      <td>6</td>\n",
              "      <td>6</td>\n",
              "      <td>5</td>\n",
              "      <td>6</td>\n",
              "      <td>6</td>\n",
              "      <td>6</td>\n",
              "      <td>6</td>\n",
              "      <td>5</td>\n",
              "      <td>5</td>\n",
              "      <td>6</td>\n",
              "      <td>6</td>\n",
              "      <td>5</td>\n",
              "      <td>6</td>\n",
              "      <td>5</td>\n",
              "      <td>2</td>\n",
              "      <td>5</td>\n",
              "      <td>4</td>\n",
              "      <td>2</td>\n",
              "      <td>3</td>\n",
              "      <td>US</td>\n",
              "      <td>10</td>\n",
              "      <td>2</td>\n",
              "      <td>2</td>\n",
              "      <td>1</td>\n",
              "      <td>1</td>\n",
              "      <td>2011</td>\n",
              "    </tr>\n",
              "    <tr>\n",
              "      <th>4</th>\n",
              "      <td>444</td>\n",
              "      <td>5.0</td>\n",
              "      <td>4</td>\n",
              "      <td>1</td>\n",
              "      <td>1</td>\n",
              "      <td>25</td>\n",
              "      <td>LAS VEGAS</td>\n",
              "      <td>25</td>\n",
              "      <td>2</td>\n",
              "      <td>08:30 AM</td>\n",
              "      <td>10:25 AM</td>\n",
              "      <td>2</td>\n",
              "      <td>2</td>\n",
              "      <td>1</td>\n",
              "      <td>1</td>\n",
              "      <td>1</td>\n",
              "      <td>3</td>\n",
              "      <td>2</td>\n",
              "      <td>5</td>\n",
              "      <td>3</td>\n",
              "      <td>3</td>\n",
              "      <td>4</td>\n",
              "      <td>4</td>\n",
              "      <td>4</td>\n",
              "      <td>6</td>\n",
              "      <td>6</td>\n",
              "      <td>4</td>\n",
              "      <td>4</td>\n",
              "      <td>4</td>\n",
              "      <td>4</td>\n",
              "      <td>4</td>\n",
              "      <td>4</td>\n",
              "      <td>5</td>\n",
              "      <td>4</td>\n",
              "      <td>4</td>\n",
              "      <td>4</td>\n",
              "      <td>4</td>\n",
              "      <td>5</td>\n",
              "      <td>1</td>\n",
              "      <td>5</td>\n",
              "      <td>5</td>\n",
              "      <td>2</td>\n",
              "      <td>1</td>\n",
              "      <td>US</td>\n",
              "      <td>2</td>\n",
              "      <td>5</td>\n",
              "      <td>2</td>\n",
              "      <td>0</td>\n",
              "      <td>1</td>\n",
              "      <td>2011</td>\n",
              "    </tr>\n",
              "    <tr>\n",
              "      <th>5</th>\n",
              "      <td>445</td>\n",
              "      <td>6.0</td>\n",
              "      <td>4</td>\n",
              "      <td>1</td>\n",
              "      <td>1</td>\n",
              "      <td>25</td>\n",
              "      <td>LAS VEGAS</td>\n",
              "      <td>25</td>\n",
              "      <td>2</td>\n",
              "      <td>09:20 AM</td>\n",
              "      <td>10:25 AM</td>\n",
              "      <td>3</td>\n",
              "      <td>2</td>\n",
              "      <td>1</td>\n",
              "      <td>2</td>\n",
              "      <td>2</td>\n",
              "      <td>2</td>\n",
              "      <td>2</td>\n",
              "      <td>3</td>\n",
              "      <td>4</td>\n",
              "      <td>4</td>\n",
              "      <td>4</td>\n",
              "      <td>3</td>\n",
              "      <td>4</td>\n",
              "      <td>4</td>\n",
              "      <td>4</td>\n",
              "      <td>3</td>\n",
              "      <td>3</td>\n",
              "      <td>2</td>\n",
              "      <td>6</td>\n",
              "      <td>2</td>\n",
              "      <td>3</td>\n",
              "      <td>2</td>\n",
              "      <td>3</td>\n",
              "      <td>0</td>\n",
              "      <td>3</td>\n",
              "      <td>3</td>\n",
              "      <td>4</td>\n",
              "      <td>2</td>\n",
              "      <td>4</td>\n",
              "      <td>1</td>\n",
              "      <td>1</td>\n",
              "      <td>3</td>\n",
              "      <td>US</td>\n",
              "      <td>11</td>\n",
              "      <td>6</td>\n",
              "      <td>2</td>\n",
              "      <td>3</td>\n",
              "      <td>1</td>\n",
              "      <td>2011</td>\n",
              "    </tr>\n",
              "    <tr>\n",
              "      <th>6</th>\n",
              "      <td>446</td>\n",
              "      <td>7.0</td>\n",
              "      <td>4</td>\n",
              "      <td>1</td>\n",
              "      <td>1</td>\n",
              "      <td>25</td>\n",
              "      <td>LAS VEGAS</td>\n",
              "      <td>25</td>\n",
              "      <td>2</td>\n",
              "      <td>09:00 AM</td>\n",
              "      <td>10:25 AM</td>\n",
              "      <td>3</td>\n",
              "      <td>6</td>\n",
              "      <td>1</td>\n",
              "      <td>2</td>\n",
              "      <td>1</td>\n",
              "      <td>2</td>\n",
              "      <td>2</td>\n",
              "      <td>3</td>\n",
              "      <td>3</td>\n",
              "      <td>4</td>\n",
              "      <td>5</td>\n",
              "      <td>0</td>\n",
              "      <td>5</td>\n",
              "      <td>4</td>\n",
              "      <td>4</td>\n",
              "      <td>0</td>\n",
              "      <td>0</td>\n",
              "      <td>6</td>\n",
              "      <td>6</td>\n",
              "      <td>6</td>\n",
              "      <td>4</td>\n",
              "      <td>4</td>\n",
              "      <td>6</td>\n",
              "      <td>6</td>\n",
              "      <td>4</td>\n",
              "      <td>5</td>\n",
              "      <td>5</td>\n",
              "      <td>2</td>\n",
              "      <td>5</td>\n",
              "      <td>5</td>\n",
              "      <td>2</td>\n",
              "      <td>3</td>\n",
              "      <td>AUSTRALIA</td>\n",
              "      <td>19</td>\n",
              "      <td>4</td>\n",
              "      <td>1</td>\n",
              "      <td>2</td>\n",
              "      <td>1</td>\n",
              "      <td>2011</td>\n",
              "    </tr>\n",
              "    <tr>\n",
              "      <th>7</th>\n",
              "      <td>447</td>\n",
              "      <td>8.0</td>\n",
              "      <td>4</td>\n",
              "      <td>1</td>\n",
              "      <td>1</td>\n",
              "      <td>25</td>\n",
              "      <td>LAS VEGAS</td>\n",
              "      <td>25</td>\n",
              "      <td>2</td>\n",
              "      <td>09:25 AM</td>\n",
              "      <td>10:25 AM</td>\n",
              "      <td>3</td>\n",
              "      <td>2</td>\n",
              "      <td>1</td>\n",
              "      <td>0</td>\n",
              "      <td>0</td>\n",
              "      <td>2</td>\n",
              "      <td>2</td>\n",
              "      <td>6</td>\n",
              "      <td>6</td>\n",
              "      <td>5</td>\n",
              "      <td>5</td>\n",
              "      <td>5</td>\n",
              "      <td>6</td>\n",
              "      <td>6</td>\n",
              "      <td>6</td>\n",
              "      <td>5</td>\n",
              "      <td>6</td>\n",
              "      <td>6</td>\n",
              "      <td>6</td>\n",
              "      <td>6</td>\n",
              "      <td>5</td>\n",
              "      <td>5</td>\n",
              "      <td>6</td>\n",
              "      <td>6</td>\n",
              "      <td>6</td>\n",
              "      <td>5</td>\n",
              "      <td>5</td>\n",
              "      <td>2</td>\n",
              "      <td>5</td>\n",
              "      <td>5</td>\n",
              "      <td>2</td>\n",
              "      <td>1</td>\n",
              "      <td>US</td>\n",
              "      <td>1</td>\n",
              "      <td>5</td>\n",
              "      <td>1</td>\n",
              "      <td>2</td>\n",
              "      <td>1</td>\n",
              "      <td>2011</td>\n",
              "    </tr>\n",
              "    <tr>\n",
              "      <th>8</th>\n",
              "      <td>646</td>\n",
              "      <td>9.0</td>\n",
              "      <td>4</td>\n",
              "      <td>1</td>\n",
              "      <td>2</td>\n",
              "      <td>25</td>\n",
              "      <td>PHOENIX</td>\n",
              "      <td>23</td>\n",
              "      <td>2</td>\n",
              "      <td>09:00 AM</td>\n",
              "      <td>11:25 AM</td>\n",
              "      <td>2</td>\n",
              "      <td>6</td>\n",
              "      <td>1</td>\n",
              "      <td>2</td>\n",
              "      <td>2</td>\n",
              "      <td>1</td>\n",
              "      <td>1</td>\n",
              "      <td>6</td>\n",
              "      <td>5</td>\n",
              "      <td>5</td>\n",
              "      <td>5</td>\n",
              "      <td>6</td>\n",
              "      <td>5</td>\n",
              "      <td>6</td>\n",
              "      <td>5</td>\n",
              "      <td>6</td>\n",
              "      <td>6</td>\n",
              "      <td>6</td>\n",
              "      <td>6</td>\n",
              "      <td>6</td>\n",
              "      <td>5</td>\n",
              "      <td>5</td>\n",
              "      <td>6</td>\n",
              "      <td>6</td>\n",
              "      <td>6</td>\n",
              "      <td>6</td>\n",
              "      <td>5</td>\n",
              "      <td>2</td>\n",
              "      <td>5</td>\n",
              "      <td>5</td>\n",
              "      <td>2</td>\n",
              "      <td>3</td>\n",
              "      <td>US</td>\n",
              "      <td>11</td>\n",
              "      <td>5</td>\n",
              "      <td>2</td>\n",
              "      <td>2</td>\n",
              "      <td>1</td>\n",
              "      <td>2011</td>\n",
              "    </tr>\n",
              "    <tr>\n",
              "      <th>9</th>\n",
              "      <td>647</td>\n",
              "      <td>10.0</td>\n",
              "      <td>4</td>\n",
              "      <td>1</td>\n",
              "      <td>2</td>\n",
              "      <td>25</td>\n",
              "      <td>PHOENIX</td>\n",
              "      <td>23</td>\n",
              "      <td>2</td>\n",
              "      <td>07:00 AM</td>\n",
              "      <td>11:25 AM</td>\n",
              "      <td>3</td>\n",
              "      <td>3</td>\n",
              "      <td>1</td>\n",
              "      <td>1</td>\n",
              "      <td>1</td>\n",
              "      <td>2</td>\n",
              "      <td>1</td>\n",
              "      <td>4</td>\n",
              "      <td>3</td>\n",
              "      <td>3</td>\n",
              "      <td>5</td>\n",
              "      <td>5</td>\n",
              "      <td>5</td>\n",
              "      <td>6</td>\n",
              "      <td>5</td>\n",
              "      <td>6</td>\n",
              "      <td>6</td>\n",
              "      <td>6</td>\n",
              "      <td>6</td>\n",
              "      <td>6</td>\n",
              "      <td>4</td>\n",
              "      <td>3</td>\n",
              "      <td>5</td>\n",
              "      <td>6</td>\n",
              "      <td>3</td>\n",
              "      <td>3</td>\n",
              "      <td>5</td>\n",
              "      <td>1</td>\n",
              "      <td>5</td>\n",
              "      <td>5</td>\n",
              "      <td>2</td>\n",
              "      <td>4</td>\n",
              "      <td>US</td>\n",
              "      <td>12</td>\n",
              "      <td>2</td>\n",
              "      <td>2</td>\n",
              "      <td>1</td>\n",
              "      <td>1</td>\n",
              "      <td>2011</td>\n",
              "    </tr>\n",
              "  </tbody>\n",
              "</table>\n",
              "</div>"
            ],
            "text/plain": [
              "   RESPNUM  CCGID  DESTMARK  DESTGEO  ...  GENDER  INCOME SURVLANGTYPE  YEAR\n",
              "0      440    1.0         4        1  ...       1       3            1  2011\n",
              "1      441    2.0         4        1  ...       1       1            1  2011\n",
              "2      442    3.0         4        1  ...       2       0            1  2011\n",
              "3      443    4.0         4        1  ...       2       1            1  2011\n",
              "4      444    5.0         4        1  ...       2       0            1  2011\n",
              "5      445    6.0         4        1  ...       2       3            1  2011\n",
              "6      446    7.0         4        1  ...       1       2            1  2011\n",
              "7      447    8.0         4        1  ...       1       2            1  2011\n",
              "8      646    9.0         4        1  ...       2       2            1  2011\n",
              "9      647   10.0         4        1  ...       2       1            1  2011\n",
              "\n",
              "[10 rows x 50 columns]"
            ]
          },
          "metadata": {
            "tags": []
          },
          "execution_count": 30
        }
      ]
    },
    {
      "cell_type": "markdown",
      "metadata": {
        "id": "NLt8Nr7QlRCO",
        "colab_type": "text"
      },
      "source": [
        "Now that we have created our data set, we can now make edits in bulk. Before proceeding to our hypothesis test, we need to make sure that the types and values of our data are correct, so we check and correct the wrong ones."
      ]
    },
    {
      "cell_type": "code",
      "metadata": {
        "id": "2Lq1FdARlwga",
        "colab_type": "code",
        "colab": {
          "base_uri": "https://localhost:8080/",
          "height": 309
        },
        "outputId": "607242cc-2ba7-44ee-dfb3-dd750eb67df6"
      },
      "source": [
        "df.head()"
      ],
      "execution_count": 31,
      "outputs": [
        {
          "output_type": "execute_result",
          "data": {
            "text/html": [
              "<div>\n",
              "<style scoped>\n",
              "    .dataframe tbody tr th:only-of-type {\n",
              "        vertical-align: middle;\n",
              "    }\n",
              "\n",
              "    .dataframe tbody tr th {\n",
              "        vertical-align: top;\n",
              "    }\n",
              "\n",
              "    .dataframe thead th {\n",
              "        text-align: right;\n",
              "    }\n",
              "</style>\n",
              "<table border=\"1\" class=\"dataframe\">\n",
              "  <thead>\n",
              "    <tr style=\"text-align: right;\">\n",
              "      <th></th>\n",
              "      <th>RESPNUM</th>\n",
              "      <th>CCGID</th>\n",
              "      <th>DESTMARK</th>\n",
              "      <th>DESTGEO</th>\n",
              "      <th>STRATA</th>\n",
              "      <th>AIRLINE</th>\n",
              "      <th>DEST</th>\n",
              "      <th>GATE</th>\n",
              "      <th>INTDATE</th>\n",
              "      <th>ARRTIME</th>\n",
              "      <th>DEPTIME</th>\n",
              "      <th>PURTRIP</th>\n",
              "      <th>TRANSVEC</th>\n",
              "      <th>CHECKBAG</th>\n",
              "      <th>BUYSTR</th>\n",
              "      <th>BUYREST</th>\n",
              "      <th>FLIGHTNUM</th>\n",
              "      <th>SURVTYPE</th>\n",
              "      <th>RATEART</th>\n",
              "      <th>RATEREST</th>\n",
              "      <th>RATESHOP</th>\n",
              "      <th>RATESIGNS</th>\n",
              "      <th>RATEESCA</th>\n",
              "      <th>RATEINFO</th>\n",
              "      <th>RATEBOOTHLOW</th>\n",
              "      <th>RATEBOOTHHIGH</th>\n",
              "      <th>RATESIGNROAD</th>\n",
              "      <th>RATEPARK</th>\n",
              "      <th>RATETRAIN</th>\n",
              "      <th>RATEPARKLONG</th>\n",
              "      <th>RATERENT</th>\n",
              "      <th>RATE</th>\n",
              "      <th>CLEANBOARD</th>\n",
              "      <th>CLEANTRAIN</th>\n",
              "      <th>CLEANRENT</th>\n",
              "      <th>CLEANREST</th>\n",
              "      <th>CLEANREROOM</th>\n",
              "      <th>ISSAFE</th>\n",
              "      <th>USEWEB</th>\n",
              "      <th>ISEASYFIND</th>\n",
              "      <th>ISEASYPASS</th>\n",
              "      <th>ANYPROB</th>\n",
              "      <th>LIVEWHERE</th>\n",
              "      <th>LIVECOUNTRY</th>\n",
              "      <th>HOME</th>\n",
              "      <th>AGE</th>\n",
              "      <th>GENDER</th>\n",
              "      <th>INCOME</th>\n",
              "      <th>SURVLANGTYPE</th>\n",
              "      <th>YEAR</th>\n",
              "    </tr>\n",
              "  </thead>\n",
              "  <tbody>\n",
              "    <tr>\n",
              "      <th>0</th>\n",
              "      <td>440</td>\n",
              "      <td>1.0</td>\n",
              "      <td>4</td>\n",
              "      <td>1</td>\n",
              "      <td>1</td>\n",
              "      <td>25</td>\n",
              "      <td>LAS VEGAS</td>\n",
              "      <td>25</td>\n",
              "      <td>2</td>\n",
              "      <td>08:56 AM</td>\n",
              "      <td>10:25 AM</td>\n",
              "      <td>2</td>\n",
              "      <td>1</td>\n",
              "      <td>2</td>\n",
              "      <td>1</td>\n",
              "      <td>1</td>\n",
              "      <td>2</td>\n",
              "      <td>1</td>\n",
              "      <td>4</td>\n",
              "      <td>4</td>\n",
              "      <td>4</td>\n",
              "      <td>4</td>\n",
              "      <td>4</td>\n",
              "      <td>5</td>\n",
              "      <td>6</td>\n",
              "      <td>6</td>\n",
              "      <td>4</td>\n",
              "      <td>5</td>\n",
              "      <td>6</td>\n",
              "      <td>5</td>\n",
              "      <td>6</td>\n",
              "      <td>4</td>\n",
              "      <td>4</td>\n",
              "      <td>6</td>\n",
              "      <td>6</td>\n",
              "      <td>4</td>\n",
              "      <td>4</td>\n",
              "      <td>5</td>\n",
              "      <td>2</td>\n",
              "      <td>5</td>\n",
              "      <td>5</td>\n",
              "      <td>2</td>\n",
              "      <td>1</td>\n",
              "      <td>US</td>\n",
              "      <td>1</td>\n",
              "      <td>5</td>\n",
              "      <td>1</td>\n",
              "      <td>3</td>\n",
              "      <td>1</td>\n",
              "      <td>2011</td>\n",
              "    </tr>\n",
              "    <tr>\n",
              "      <th>1</th>\n",
              "      <td>441</td>\n",
              "      <td>2.0</td>\n",
              "      <td>4</td>\n",
              "      <td>1</td>\n",
              "      <td>1</td>\n",
              "      <td>25</td>\n",
              "      <td>LAS VEGAS</td>\n",
              "      <td>25</td>\n",
              "      <td>2</td>\n",
              "      <td>08:45 AM</td>\n",
              "      <td>10:25 AM</td>\n",
              "      <td>3</td>\n",
              "      <td>5</td>\n",
              "      <td>2</td>\n",
              "      <td>2</td>\n",
              "      <td>1</td>\n",
              "      <td>1</td>\n",
              "      <td>1</td>\n",
              "      <td>6</td>\n",
              "      <td>4</td>\n",
              "      <td>6</td>\n",
              "      <td>4</td>\n",
              "      <td>5</td>\n",
              "      <td>3</td>\n",
              "      <td>4</td>\n",
              "      <td>2</td>\n",
              "      <td>5</td>\n",
              "      <td>3</td>\n",
              "      <td>5</td>\n",
              "      <td>6</td>\n",
              "      <td>6</td>\n",
              "      <td>4</td>\n",
              "      <td>5</td>\n",
              "      <td>5</td>\n",
              "      <td>6</td>\n",
              "      <td>5</td>\n",
              "      <td>5</td>\n",
              "      <td>2</td>\n",
              "      <td>2</td>\n",
              "      <td>4</td>\n",
              "      <td>5</td>\n",
              "      <td>2</td>\n",
              "      <td>1</td>\n",
              "      <td>US</td>\n",
              "      <td>2</td>\n",
              "      <td>2</td>\n",
              "      <td>1</td>\n",
              "      <td>1</td>\n",
              "      <td>1</td>\n",
              "      <td>2011</td>\n",
              "    </tr>\n",
              "    <tr>\n",
              "      <th>2</th>\n",
              "      <td>442</td>\n",
              "      <td>3.0</td>\n",
              "      <td>4</td>\n",
              "      <td>1</td>\n",
              "      <td>1</td>\n",
              "      <td>25</td>\n",
              "      <td>LAS VEGAS</td>\n",
              "      <td>25</td>\n",
              "      <td>2</td>\n",
              "      <td>08:15 AM</td>\n",
              "      <td>10:25 AM</td>\n",
              "      <td>2</td>\n",
              "      <td>2</td>\n",
              "      <td>3</td>\n",
              "      <td>2</td>\n",
              "      <td>2</td>\n",
              "      <td>1</td>\n",
              "      <td>1</td>\n",
              "      <td>6</td>\n",
              "      <td>6</td>\n",
              "      <td>3</td>\n",
              "      <td>4</td>\n",
              "      <td>3</td>\n",
              "      <td>6</td>\n",
              "      <td>6</td>\n",
              "      <td>3</td>\n",
              "      <td>2</td>\n",
              "      <td>6</td>\n",
              "      <td>6</td>\n",
              "      <td>6</td>\n",
              "      <td>6</td>\n",
              "      <td>3</td>\n",
              "      <td>3</td>\n",
              "      <td>6</td>\n",
              "      <td>6</td>\n",
              "      <td>6</td>\n",
              "      <td>6</td>\n",
              "      <td>4</td>\n",
              "      <td>2</td>\n",
              "      <td>5</td>\n",
              "      <td>5</td>\n",
              "      <td>2</td>\n",
              "      <td>3</td>\n",
              "      <td>US</td>\n",
              "      <td>10</td>\n",
              "      <td>7</td>\n",
              "      <td>2</td>\n",
              "      <td>0</td>\n",
              "      <td>1</td>\n",
              "      <td>2011</td>\n",
              "    </tr>\n",
              "    <tr>\n",
              "      <th>3</th>\n",
              "      <td>443</td>\n",
              "      <td>4.0</td>\n",
              "      <td>4</td>\n",
              "      <td>1</td>\n",
              "      <td>1</td>\n",
              "      <td>25</td>\n",
              "      <td>LAS VEGAS</td>\n",
              "      <td>25</td>\n",
              "      <td>2</td>\n",
              "      <td>08:00 AM</td>\n",
              "      <td>10:25 AM</td>\n",
              "      <td>1</td>\n",
              "      <td>4</td>\n",
              "      <td>1</td>\n",
              "      <td>2</td>\n",
              "      <td>1</td>\n",
              "      <td>1</td>\n",
              "      <td>1</td>\n",
              "      <td>5</td>\n",
              "      <td>4</td>\n",
              "      <td>4</td>\n",
              "      <td>4</td>\n",
              "      <td>6</td>\n",
              "      <td>6</td>\n",
              "      <td>6</td>\n",
              "      <td>6</td>\n",
              "      <td>5</td>\n",
              "      <td>6</td>\n",
              "      <td>6</td>\n",
              "      <td>6</td>\n",
              "      <td>6</td>\n",
              "      <td>5</td>\n",
              "      <td>5</td>\n",
              "      <td>6</td>\n",
              "      <td>6</td>\n",
              "      <td>5</td>\n",
              "      <td>6</td>\n",
              "      <td>5</td>\n",
              "      <td>2</td>\n",
              "      <td>5</td>\n",
              "      <td>4</td>\n",
              "      <td>2</td>\n",
              "      <td>3</td>\n",
              "      <td>US</td>\n",
              "      <td>10</td>\n",
              "      <td>2</td>\n",
              "      <td>2</td>\n",
              "      <td>1</td>\n",
              "      <td>1</td>\n",
              "      <td>2011</td>\n",
              "    </tr>\n",
              "    <tr>\n",
              "      <th>4</th>\n",
              "      <td>444</td>\n",
              "      <td>5.0</td>\n",
              "      <td>4</td>\n",
              "      <td>1</td>\n",
              "      <td>1</td>\n",
              "      <td>25</td>\n",
              "      <td>LAS VEGAS</td>\n",
              "      <td>25</td>\n",
              "      <td>2</td>\n",
              "      <td>08:30 AM</td>\n",
              "      <td>10:25 AM</td>\n",
              "      <td>2</td>\n",
              "      <td>2</td>\n",
              "      <td>1</td>\n",
              "      <td>1</td>\n",
              "      <td>1</td>\n",
              "      <td>3</td>\n",
              "      <td>2</td>\n",
              "      <td>5</td>\n",
              "      <td>3</td>\n",
              "      <td>3</td>\n",
              "      <td>4</td>\n",
              "      <td>4</td>\n",
              "      <td>4</td>\n",
              "      <td>6</td>\n",
              "      <td>6</td>\n",
              "      <td>4</td>\n",
              "      <td>4</td>\n",
              "      <td>4</td>\n",
              "      <td>4</td>\n",
              "      <td>4</td>\n",
              "      <td>4</td>\n",
              "      <td>5</td>\n",
              "      <td>4</td>\n",
              "      <td>4</td>\n",
              "      <td>4</td>\n",
              "      <td>4</td>\n",
              "      <td>5</td>\n",
              "      <td>1</td>\n",
              "      <td>5</td>\n",
              "      <td>5</td>\n",
              "      <td>2</td>\n",
              "      <td>1</td>\n",
              "      <td>US</td>\n",
              "      <td>2</td>\n",
              "      <td>5</td>\n",
              "      <td>2</td>\n",
              "      <td>0</td>\n",
              "      <td>1</td>\n",
              "      <td>2011</td>\n",
              "    </tr>\n",
              "  </tbody>\n",
              "</table>\n",
              "</div>"
            ],
            "text/plain": [
              "   RESPNUM  CCGID  DESTMARK  DESTGEO  ...  GENDER  INCOME SURVLANGTYPE  YEAR\n",
              "0      440    1.0         4        1  ...       1       3            1  2011\n",
              "1      441    2.0         4        1  ...       1       1            1  2011\n",
              "2      442    3.0         4        1  ...       2       0            1  2011\n",
              "3      443    4.0         4        1  ...       2       1            1  2011\n",
              "4      444    5.0         4        1  ...       2       0            1  2011\n",
              "\n",
              "[5 rows x 50 columns]"
            ]
          },
          "metadata": {
            "tags": []
          },
          "execution_count": 31
        }
      ]
    },
    {
      "cell_type": "code",
      "metadata": {
        "id": "6fKa1dDpbgv3",
        "colab_type": "code",
        "colab": {
          "base_uri": "https://localhost:8080/",
          "height": 51
        },
        "outputId": "f171284b-beba-4497-d577-f350adb95b06"
      },
      "source": [
        "print('The total number of rows :', df.shape[0])\n",
        "print('The total number of columns :', df.shape[1])"
      ],
      "execution_count": 32,
      "outputs": [
        {
          "output_type": "stream",
          "text": [
            "The total number of rows : 10522\n",
            "The total number of columns : 50\n"
          ],
          "name": "stdout"
        }
      ]
    },
    {
      "cell_type": "code",
      "metadata": {
        "id": "uVNnkMp5bmNe",
        "colab_type": "code",
        "colab": {
          "base_uri": "https://localhost:8080/",
          "height": 986
        },
        "outputId": "e13eaf8e-05c4-4ec6-a3e7-e6ae822d0af3"
      },
      "source": [
        "df.info()"
      ],
      "execution_count": 33,
      "outputs": [
        {
          "output_type": "stream",
          "text": [
            "<class 'pandas.core.frame.DataFrame'>\n",
            "Int64Index: 10522 entries, 0 to 3534\n",
            "Data columns (total 50 columns):\n",
            " #   Column         Non-Null Count  Dtype  \n",
            "---  ------         --------------  -----  \n",
            " 0   RESPNUM        10522 non-null  int64  \n",
            " 1   CCGID          10522 non-null  float64\n",
            " 2   DESTMARK       10522 non-null  int64  \n",
            " 3   DESTGEO        10522 non-null  int64  \n",
            " 4   STRATA         10522 non-null  int64  \n",
            " 5   AIRLINE        10522 non-null  int64  \n",
            " 6   DEST           10522 non-null  object \n",
            " 7   GATE           10522 non-null  int64  \n",
            " 8   INTDATE        10522 non-null  int64  \n",
            " 9   ARRTIME        10522 non-null  object \n",
            " 10  DEPTIME        10522 non-null  object \n",
            " 11  PURTRIP        10522 non-null  int64  \n",
            " 12  TRANSVEC       10522 non-null  int64  \n",
            " 13  CHECKBAG       10522 non-null  int64  \n",
            " 14  BUYSTR         10522 non-null  int64  \n",
            " 15  BUYREST        10522 non-null  int64  \n",
            " 16  FLIGHTNUM      10522 non-null  int64  \n",
            " 17  SURVTYPE       10522 non-null  int64  \n",
            " 18  RATEART        10522 non-null  int64  \n",
            " 19  RATEREST       10522 non-null  int64  \n",
            " 20  RATESHOP       10522 non-null  int64  \n",
            " 21  RATESIGNS      10522 non-null  int64  \n",
            " 22  RATEESCA       10522 non-null  int64  \n",
            " 23  RATEINFO       10522 non-null  int64  \n",
            " 24  RATEBOOTHLOW   10522 non-null  int64  \n",
            " 25  RATEBOOTHHIGH  10522 non-null  int64  \n",
            " 26  RATESIGNROAD   10522 non-null  int64  \n",
            " 27  RATEPARK       10522 non-null  int64  \n",
            " 28  RATETRAIN      10522 non-null  int64  \n",
            " 29  RATEPARKLONG   10522 non-null  int64  \n",
            " 30  RATERENT       10522 non-null  int64  \n",
            " 31  RATE           10522 non-null  int64  \n",
            " 32  CLEANBOARD     10522 non-null  int64  \n",
            " 33  CLEANTRAIN     10522 non-null  int64  \n",
            " 34  CLEANRENT      10522 non-null  int64  \n",
            " 35  CLEANREST      10522 non-null  int64  \n",
            " 36  CLEANREROOM    10522 non-null  int64  \n",
            " 37  ISSAFE         10522 non-null  int64  \n",
            " 38  USEWEB         10522 non-null  int64  \n",
            " 39  ISEASYFIND     10522 non-null  int64  \n",
            " 40  ISEASYPASS     10522 non-null  int64  \n",
            " 41  ANYPROB        10522 non-null  int64  \n",
            " 42  LIVEWHERE      10522 non-null  int64  \n",
            " 43  LIVECOUNTRY    10522 non-null  object \n",
            " 44  HOME           10522 non-null  int64  \n",
            " 45  AGE            10522 non-null  int64  \n",
            " 46  GENDER         10522 non-null  int64  \n",
            " 47  INCOME         10522 non-null  int64  \n",
            " 48  SURVLANGTYPE   10522 non-null  int64  \n",
            " 49  YEAR           10522 non-null  int64  \n",
            "dtypes: float64(1), int64(45), object(4)\n",
            "memory usage: 4.1+ MB\n"
          ],
          "name": "stdout"
        }
      ]
    },
    {
      "cell_type": "code",
      "metadata": {
        "id": "xy9IVYL8bvXi",
        "colab_type": "code",
        "colab": {
          "base_uri": "https://localhost:8080/",
          "height": 1000
        },
        "outputId": "0b9e3ebe-8e01-480a-b71e-7f184b36f2df"
      },
      "source": [
        "print(df.isna().sum())\n",
        "print('===================')\n",
        "print(df.isnull().sum())\n",
        "print('===================')\n",
        "print('**CONCLUSION**: As seen from the data above, we conclude there are **\"NO Missing\"** values in the data')"
      ],
      "execution_count": 34,
      "outputs": [
        {
          "output_type": "stream",
          "text": [
            "RESPNUM          0\n",
            "CCGID            0\n",
            "DESTMARK         0\n",
            "DESTGEO          0\n",
            "STRATA           0\n",
            "AIRLINE          0\n",
            "DEST             0\n",
            "GATE             0\n",
            "INTDATE          0\n",
            "ARRTIME          0\n",
            "DEPTIME          0\n",
            "PURTRIP          0\n",
            "TRANSVEC         0\n",
            "CHECKBAG         0\n",
            "BUYSTR           0\n",
            "BUYREST          0\n",
            "FLIGHTNUM        0\n",
            "SURVTYPE         0\n",
            "RATEART          0\n",
            "RATEREST         0\n",
            "RATESHOP         0\n",
            "RATESIGNS        0\n",
            "RATEESCA         0\n",
            "RATEINFO         0\n",
            "RATEBOOTHLOW     0\n",
            "RATEBOOTHHIGH    0\n",
            "RATESIGNROAD     0\n",
            "RATEPARK         0\n",
            "RATETRAIN        0\n",
            "RATEPARKLONG     0\n",
            "RATERENT         0\n",
            "RATE             0\n",
            "CLEANBOARD       0\n",
            "CLEANTRAIN       0\n",
            "CLEANRENT        0\n",
            "CLEANREST        0\n",
            "CLEANREROOM      0\n",
            "ISSAFE           0\n",
            "USEWEB           0\n",
            "ISEASYFIND       0\n",
            "ISEASYPASS       0\n",
            "ANYPROB          0\n",
            "LIVEWHERE        0\n",
            "LIVECOUNTRY      0\n",
            "HOME             0\n",
            "AGE              0\n",
            "GENDER           0\n",
            "INCOME           0\n",
            "SURVLANGTYPE     0\n",
            "YEAR             0\n",
            "dtype: int64\n",
            "===================\n",
            "RESPNUM          0\n",
            "CCGID            0\n",
            "DESTMARK         0\n",
            "DESTGEO          0\n",
            "STRATA           0\n",
            "AIRLINE          0\n",
            "DEST             0\n",
            "GATE             0\n",
            "INTDATE          0\n",
            "ARRTIME          0\n",
            "DEPTIME          0\n",
            "PURTRIP          0\n",
            "TRANSVEC         0\n",
            "CHECKBAG         0\n",
            "BUYSTR           0\n",
            "BUYREST          0\n",
            "FLIGHTNUM        0\n",
            "SURVTYPE         0\n",
            "RATEART          0\n",
            "RATEREST         0\n",
            "RATESHOP         0\n",
            "RATESIGNS        0\n",
            "RATEESCA         0\n",
            "RATEINFO         0\n",
            "RATEBOOTHLOW     0\n",
            "RATEBOOTHHIGH    0\n",
            "RATESIGNROAD     0\n",
            "RATEPARK         0\n",
            "RATETRAIN        0\n",
            "RATEPARKLONG     0\n",
            "RATERENT         0\n",
            "RATE             0\n",
            "CLEANBOARD       0\n",
            "CLEANTRAIN       0\n",
            "CLEANRENT        0\n",
            "CLEANREST        0\n",
            "CLEANREROOM      0\n",
            "ISSAFE           0\n",
            "USEWEB           0\n",
            "ISEASYFIND       0\n",
            "ISEASYPASS       0\n",
            "ANYPROB          0\n",
            "LIVEWHERE        0\n",
            "LIVECOUNTRY      0\n",
            "HOME             0\n",
            "AGE              0\n",
            "GENDER           0\n",
            "INCOME           0\n",
            "SURVLANGTYPE     0\n",
            "YEAR             0\n",
            "dtype: int64\n",
            "===================\n",
            "**CONCLUSION**: As seen from the data above, we conclude there are **\"NO Missing\"** values in the data\n"
          ],
          "name": "stdout"
        }
      ]
    },
    {
      "cell_type": "code",
      "metadata": {
        "id": "fpjz-BrycGSn",
        "colab_type": "code",
        "colab": {
          "base_uri": "https://localhost:8080/",
          "height": 1000
        },
        "outputId": "c2b8d16a-14cc-4a2d-9a7c-53ce413bcb8d"
      },
      "source": [
        "df.describe().T"
      ],
      "execution_count": 35,
      "outputs": [
        {
          "output_type": "execute_result",
          "data": {
            "text/html": [
              "<div>\n",
              "<style scoped>\n",
              "    .dataframe tbody tr th:only-of-type {\n",
              "        vertical-align: middle;\n",
              "    }\n",
              "\n",
              "    .dataframe tbody tr th {\n",
              "        vertical-align: top;\n",
              "    }\n",
              "\n",
              "    .dataframe thead th {\n",
              "        text-align: right;\n",
              "    }\n",
              "</style>\n",
              "<table border=\"1\" class=\"dataframe\">\n",
              "  <thead>\n",
              "    <tr style=\"text-align: right;\">\n",
              "      <th></th>\n",
              "      <th>count</th>\n",
              "      <th>mean</th>\n",
              "      <th>std</th>\n",
              "      <th>min</th>\n",
              "      <th>25%</th>\n",
              "      <th>50%</th>\n",
              "      <th>75%</th>\n",
              "      <th>max</th>\n",
              "    </tr>\n",
              "  </thead>\n",
              "  <tbody>\n",
              "    <tr>\n",
              "      <th>RESPNUM</th>\n",
              "      <td>10522.0</td>\n",
              "      <td>2023.895742</td>\n",
              "      <td>1276.031327</td>\n",
              "      <td>1.0</td>\n",
              "      <td>904.0</td>\n",
              "      <td>2050.0</td>\n",
              "      <td>3006.75</td>\n",
              "      <td>9995.0</td>\n",
              "    </tr>\n",
              "    <tr>\n",
              "      <th>CCGID</th>\n",
              "      <td>10522.0</td>\n",
              "      <td>1931.861528</td>\n",
              "      <td>1172.603109</td>\n",
              "      <td>1.0</td>\n",
              "      <td>922.0</td>\n",
              "      <td>1827.0</td>\n",
              "      <td>2963.75</td>\n",
              "      <td>9004.0</td>\n",
              "    </tr>\n",
              "    <tr>\n",
              "      <th>DESTMARK</th>\n",
              "      <td>10522.0</td>\n",
              "      <td>2.998860</td>\n",
              "      <td>1.035901</td>\n",
              "      <td>1.0</td>\n",
              "      <td>2.0</td>\n",
              "      <td>3.0</td>\n",
              "      <td>4.00</td>\n",
              "      <td>4.0</td>\n",
              "    </tr>\n",
              "    <tr>\n",
              "      <th>DESTGEO</th>\n",
              "      <td>10522.0</td>\n",
              "      <td>3.026231</td>\n",
              "      <td>2.302946</td>\n",
              "      <td>1.0</td>\n",
              "      <td>1.0</td>\n",
              "      <td>2.0</td>\n",
              "      <td>4.00</td>\n",
              "      <td>9.0</td>\n",
              "    </tr>\n",
              "    <tr>\n",
              "      <th>STRATA</th>\n",
              "      <td>10522.0</td>\n",
              "      <td>1.972059</td>\n",
              "      <td>0.769869</td>\n",
              "      <td>1.0</td>\n",
              "      <td>1.0</td>\n",
              "      <td>2.0</td>\n",
              "      <td>3.00</td>\n",
              "      <td>3.0</td>\n",
              "    </tr>\n",
              "    <tr>\n",
              "      <th>AIRLINE</th>\n",
              "      <td>10522.0</td>\n",
              "      <td>22.467972</td>\n",
              "      <td>10.638006</td>\n",
              "      <td>2.0</td>\n",
              "      <td>12.0</td>\n",
              "      <td>26.0</td>\n",
              "      <td>32.00</td>\n",
              "      <td>42.0</td>\n",
              "    </tr>\n",
              "    <tr>\n",
              "      <th>GATE</th>\n",
              "      <td>10522.0</td>\n",
              "      <td>50.431382</td>\n",
              "      <td>32.083058</td>\n",
              "      <td>1.0</td>\n",
              "      <td>23.0</td>\n",
              "      <td>51.0</td>\n",
              "      <td>82.00</td>\n",
              "      <td>102.0</td>\n",
              "    </tr>\n",
              "    <tr>\n",
              "      <th>INTDATE</th>\n",
              "      <td>10522.0</td>\n",
              "      <td>8.505227</td>\n",
              "      <td>4.580700</td>\n",
              "      <td>1.0</td>\n",
              "      <td>5.0</td>\n",
              "      <td>8.0</td>\n",
              "      <td>12.00</td>\n",
              "      <td>19.0</td>\n",
              "    </tr>\n",
              "    <tr>\n",
              "      <th>PURTRIP</th>\n",
              "      <td>10522.0</td>\n",
              "      <td>2.265824</td>\n",
              "      <td>1.500799</td>\n",
              "      <td>1.0</td>\n",
              "      <td>1.0</td>\n",
              "      <td>2.0</td>\n",
              "      <td>3.00</td>\n",
              "      <td>13.0</td>\n",
              "    </tr>\n",
              "    <tr>\n",
              "      <th>TRANSVEC</th>\n",
              "      <td>10522.0</td>\n",
              "      <td>4.191884</td>\n",
              "      <td>2.641879</td>\n",
              "      <td>1.0</td>\n",
              "      <td>2.0</td>\n",
              "      <td>3.0</td>\n",
              "      <td>6.00</td>\n",
              "      <td>16.0</td>\n",
              "    </tr>\n",
              "    <tr>\n",
              "      <th>CHECKBAG</th>\n",
              "      <td>10522.0</td>\n",
              "      <td>1.347462</td>\n",
              "      <td>0.579214</td>\n",
              "      <td>0.0</td>\n",
              "      <td>1.0</td>\n",
              "      <td>1.0</td>\n",
              "      <td>2.00</td>\n",
              "      <td>3.0</td>\n",
              "    </tr>\n",
              "    <tr>\n",
              "      <th>BUYSTR</th>\n",
              "      <td>10522.0</td>\n",
              "      <td>1.461034</td>\n",
              "      <td>0.651709</td>\n",
              "      <td>0.0</td>\n",
              "      <td>1.0</td>\n",
              "      <td>2.0</td>\n",
              "      <td>2.00</td>\n",
              "      <td>3.0</td>\n",
              "    </tr>\n",
              "    <tr>\n",
              "      <th>BUYREST</th>\n",
              "      <td>10522.0</td>\n",
              "      <td>1.369511</td>\n",
              "      <td>0.607695</td>\n",
              "      <td>0.0</td>\n",
              "      <td>1.0</td>\n",
              "      <td>1.0</td>\n",
              "      <td>2.00</td>\n",
              "      <td>4.0</td>\n",
              "    </tr>\n",
              "    <tr>\n",
              "      <th>FLIGHTNUM</th>\n",
              "      <td>10522.0</td>\n",
              "      <td>2.166983</td>\n",
              "      <td>1.277473</td>\n",
              "      <td>0.0</td>\n",
              "      <td>1.0</td>\n",
              "      <td>2.0</td>\n",
              "      <td>3.00</td>\n",
              "      <td>6.0</td>\n",
              "    </tr>\n",
              "    <tr>\n",
              "      <th>SURVTYPE</th>\n",
              "      <td>10522.0</td>\n",
              "      <td>1.692739</td>\n",
              "      <td>0.470559</td>\n",
              "      <td>0.0</td>\n",
              "      <td>1.0</td>\n",
              "      <td>2.0</td>\n",
              "      <td>2.00</td>\n",
              "      <td>2.0</td>\n",
              "    </tr>\n",
              "    <tr>\n",
              "      <th>RATEART</th>\n",
              "      <td>10522.0</td>\n",
              "      <td>4.226953</td>\n",
              "      <td>1.321736</td>\n",
              "      <td>0.0</td>\n",
              "      <td>3.0</td>\n",
              "      <td>4.0</td>\n",
              "      <td>5.00</td>\n",
              "      <td>6.0</td>\n",
              "    </tr>\n",
              "    <tr>\n",
              "      <th>RATEREST</th>\n",
              "      <td>10522.0</td>\n",
              "      <td>3.961319</td>\n",
              "      <td>1.345512</td>\n",
              "      <td>0.0</td>\n",
              "      <td>3.0</td>\n",
              "      <td>4.0</td>\n",
              "      <td>5.00</td>\n",
              "      <td>6.0</td>\n",
              "    </tr>\n",
              "    <tr>\n",
              "      <th>RATESHOP</th>\n",
              "      <td>10522.0</td>\n",
              "      <td>3.907717</td>\n",
              "      <td>1.385472</td>\n",
              "      <td>0.0</td>\n",
              "      <td>3.0</td>\n",
              "      <td>4.0</td>\n",
              "      <td>5.00</td>\n",
              "      <td>6.0</td>\n",
              "    </tr>\n",
              "    <tr>\n",
              "      <th>RATESIGNS</th>\n",
              "      <td>10522.0</td>\n",
              "      <td>3.944687</td>\n",
              "      <td>1.087110</td>\n",
              "      <td>0.0</td>\n",
              "      <td>3.0</td>\n",
              "      <td>4.0</td>\n",
              "      <td>5.00</td>\n",
              "      <td>6.0</td>\n",
              "    </tr>\n",
              "    <tr>\n",
              "      <th>RATEESCA</th>\n",
              "      <td>10522.0</td>\n",
              "      <td>4.137141</td>\n",
              "      <td>1.136995</td>\n",
              "      <td>0.0</td>\n",
              "      <td>4.0</td>\n",
              "      <td>4.0</td>\n",
              "      <td>5.00</td>\n",
              "      <td>6.0</td>\n",
              "    </tr>\n",
              "    <tr>\n",
              "      <th>RATEINFO</th>\n",
              "      <td>10522.0</td>\n",
              "      <td>4.029462</td>\n",
              "      <td>1.112734</td>\n",
              "      <td>0.0</td>\n",
              "      <td>4.0</td>\n",
              "      <td>4.0</td>\n",
              "      <td>5.00</td>\n",
              "      <td>6.0</td>\n",
              "    </tr>\n",
              "    <tr>\n",
              "      <th>RATEBOOTHLOW</th>\n",
              "      <td>10522.0</td>\n",
              "      <td>4.708611</td>\n",
              "      <td>1.562091</td>\n",
              "      <td>0.0</td>\n",
              "      <td>4.0</td>\n",
              "      <td>5.0</td>\n",
              "      <td>6.00</td>\n",
              "      <td>6.0</td>\n",
              "    </tr>\n",
              "    <tr>\n",
              "      <th>RATEBOOTHHIGH</th>\n",
              "      <td>10522.0</td>\n",
              "      <td>4.693214</td>\n",
              "      <td>1.544871</td>\n",
              "      <td>0.0</td>\n",
              "      <td>4.0</td>\n",
              "      <td>5.0</td>\n",
              "      <td>6.00</td>\n",
              "      <td>6.0</td>\n",
              "    </tr>\n",
              "    <tr>\n",
              "      <th>RATESIGNROAD</th>\n",
              "      <td>10522.0</td>\n",
              "      <td>4.451530</td>\n",
              "      <td>1.555542</td>\n",
              "      <td>0.0</td>\n",
              "      <td>4.0</td>\n",
              "      <td>5.0</td>\n",
              "      <td>6.00</td>\n",
              "      <td>6.0</td>\n",
              "    </tr>\n",
              "    <tr>\n",
              "      <th>RATEPARK</th>\n",
              "      <td>10522.0</td>\n",
              "      <td>4.846607</td>\n",
              "      <td>1.693803</td>\n",
              "      <td>0.0</td>\n",
              "      <td>4.0</td>\n",
              "      <td>6.0</td>\n",
              "      <td>6.00</td>\n",
              "      <td>6.0</td>\n",
              "    </tr>\n",
              "    <tr>\n",
              "      <th>RATETRAIN</th>\n",
              "      <td>10522.0</td>\n",
              "      <td>4.835868</td>\n",
              "      <td>1.621238</td>\n",
              "      <td>0.0</td>\n",
              "      <td>4.0</td>\n",
              "      <td>6.0</td>\n",
              "      <td>6.00</td>\n",
              "      <td>6.0</td>\n",
              "    </tr>\n",
              "    <tr>\n",
              "      <th>RATEPARKLONG</th>\n",
              "      <td>10522.0</td>\n",
              "      <td>5.079358</td>\n",
              "      <td>1.714892</td>\n",
              "      <td>0.0</td>\n",
              "      <td>5.0</td>\n",
              "      <td>6.0</td>\n",
              "      <td>6.00</td>\n",
              "      <td>6.0</td>\n",
              "    </tr>\n",
              "    <tr>\n",
              "      <th>RATERENT</th>\n",
              "      <td>10522.0</td>\n",
              "      <td>4.937464</td>\n",
              "      <td>1.739439</td>\n",
              "      <td>0.0</td>\n",
              "      <td>4.0</td>\n",
              "      <td>6.0</td>\n",
              "      <td>6.00</td>\n",
              "      <td>6.0</td>\n",
              "    </tr>\n",
              "    <tr>\n",
              "      <th>RATE</th>\n",
              "      <td>10522.0</td>\n",
              "      <td>3.860578</td>\n",
              "      <td>1.042964</td>\n",
              "      <td>0.0</td>\n",
              "      <td>4.0</td>\n",
              "      <td>4.0</td>\n",
              "      <td>4.00</td>\n",
              "      <td>6.0</td>\n",
              "    </tr>\n",
              "    <tr>\n",
              "      <th>CLEANBOARD</th>\n",
              "      <td>10522.0</td>\n",
              "      <td>4.274853</td>\n",
              "      <td>0.920937</td>\n",
              "      <td>0.0</td>\n",
              "      <td>4.0</td>\n",
              "      <td>4.0</td>\n",
              "      <td>5.00</td>\n",
              "      <td>6.0</td>\n",
              "    </tr>\n",
              "    <tr>\n",
              "      <th>CLEANTRAIN</th>\n",
              "      <td>10522.0</td>\n",
              "      <td>4.950105</td>\n",
              "      <td>1.457597</td>\n",
              "      <td>0.0</td>\n",
              "      <td>4.0</td>\n",
              "      <td>6.0</td>\n",
              "      <td>6.00</td>\n",
              "      <td>6.0</td>\n",
              "    </tr>\n",
              "    <tr>\n",
              "      <th>CLEANRENT</th>\n",
              "      <td>10522.0</td>\n",
              "      <td>5.031078</td>\n",
              "      <td>1.587748</td>\n",
              "      <td>0.0</td>\n",
              "      <td>4.0</td>\n",
              "      <td>6.0</td>\n",
              "      <td>6.00</td>\n",
              "      <td>6.0</td>\n",
              "    </tr>\n",
              "    <tr>\n",
              "      <th>CLEANREST</th>\n",
              "      <td>10522.0</td>\n",
              "      <td>4.414560</td>\n",
              "      <td>1.382529</td>\n",
              "      <td>0.0</td>\n",
              "      <td>4.0</td>\n",
              "      <td>4.0</td>\n",
              "      <td>5.00</td>\n",
              "      <td>6.0</td>\n",
              "    </tr>\n",
              "    <tr>\n",
              "      <th>CLEANREROOM</th>\n",
              "      <td>10522.0</td>\n",
              "      <td>4.108820</td>\n",
              "      <td>1.118763</td>\n",
              "      <td>0.0</td>\n",
              "      <td>4.0</td>\n",
              "      <td>4.0</td>\n",
              "      <td>5.00</td>\n",
              "      <td>6.0</td>\n",
              "    </tr>\n",
              "    <tr>\n",
              "      <th>ISSAFE</th>\n",
              "      <td>10522.0</td>\n",
              "      <td>4.348888</td>\n",
              "      <td>0.875385</td>\n",
              "      <td>0.0</td>\n",
              "      <td>4.0</td>\n",
              "      <td>5.0</td>\n",
              "      <td>5.00</td>\n",
              "      <td>6.0</td>\n",
              "    </tr>\n",
              "    <tr>\n",
              "      <th>USEWEB</th>\n",
              "      <td>10522.0</td>\n",
              "      <td>1.849268</td>\n",
              "      <td>0.510226</td>\n",
              "      <td>0.0</td>\n",
              "      <td>2.0</td>\n",
              "      <td>2.0</td>\n",
              "      <td>2.00</td>\n",
              "      <td>3.0</td>\n",
              "    </tr>\n",
              "    <tr>\n",
              "      <th>ISEASYFIND</th>\n",
              "      <td>10522.0</td>\n",
              "      <td>4.289204</td>\n",
              "      <td>1.108888</td>\n",
              "      <td>0.0</td>\n",
              "      <td>4.0</td>\n",
              "      <td>5.0</td>\n",
              "      <td>5.00</td>\n",
              "      <td>6.0</td>\n",
              "    </tr>\n",
              "    <tr>\n",
              "      <th>ISEASYPASS</th>\n",
              "      <td>10522.0</td>\n",
              "      <td>4.019483</td>\n",
              "      <td>1.458972</td>\n",
              "      <td>0.0</td>\n",
              "      <td>3.0</td>\n",
              "      <td>4.0</td>\n",
              "      <td>5.00</td>\n",
              "      <td>6.0</td>\n",
              "    </tr>\n",
              "    <tr>\n",
              "      <th>ANYPROB</th>\n",
              "      <td>10522.0</td>\n",
              "      <td>1.819236</td>\n",
              "      <td>0.483172</td>\n",
              "      <td>0.0</td>\n",
              "      <td>2.0</td>\n",
              "      <td>2.0</td>\n",
              "      <td>2.00</td>\n",
              "      <td>3.0</td>\n",
              "    </tr>\n",
              "    <tr>\n",
              "      <th>LIVEWHERE</th>\n",
              "      <td>10522.0</td>\n",
              "      <td>2.400969</td>\n",
              "      <td>1.104351</td>\n",
              "      <td>0.0</td>\n",
              "      <td>1.0</td>\n",
              "      <td>3.0</td>\n",
              "      <td>3.00</td>\n",
              "      <td>4.0</td>\n",
              "    </tr>\n",
              "    <tr>\n",
              "      <th>HOME</th>\n",
              "      <td>10522.0</td>\n",
              "      <td>13.776944</td>\n",
              "      <td>20.083940</td>\n",
              "      <td>1.0</td>\n",
              "      <td>5.0</td>\n",
              "      <td>10.0</td>\n",
              "      <td>12.00</td>\n",
              "      <td>99.0</td>\n",
              "    </tr>\n",
              "    <tr>\n",
              "      <th>AGE</th>\n",
              "      <td>10522.0</td>\n",
              "      <td>4.282931</td>\n",
              "      <td>1.693924</td>\n",
              "      <td>0.0</td>\n",
              "      <td>3.0</td>\n",
              "      <td>4.0</td>\n",
              "      <td>6.00</td>\n",
              "      <td>9.0</td>\n",
              "    </tr>\n",
              "    <tr>\n",
              "      <th>GENDER</th>\n",
              "      <td>10522.0</td>\n",
              "      <td>1.432807</td>\n",
              "      <td>0.582268</td>\n",
              "      <td>0.0</td>\n",
              "      <td>1.0</td>\n",
              "      <td>1.0</td>\n",
              "      <td>2.00</td>\n",
              "      <td>3.0</td>\n",
              "    </tr>\n",
              "    <tr>\n",
              "      <th>INCOME</th>\n",
              "      <td>10522.0</td>\n",
              "      <td>2.046094</td>\n",
              "      <td>1.448828</td>\n",
              "      <td>0.0</td>\n",
              "      <td>1.0</td>\n",
              "      <td>2.0</td>\n",
              "      <td>3.00</td>\n",
              "      <td>5.0</td>\n",
              "    </tr>\n",
              "    <tr>\n",
              "      <th>SURVLANGTYPE</th>\n",
              "      <td>10522.0</td>\n",
              "      <td>1.111956</td>\n",
              "      <td>0.513307</td>\n",
              "      <td>1.0</td>\n",
              "      <td>1.0</td>\n",
              "      <td>1.0</td>\n",
              "      <td>1.00</td>\n",
              "      <td>4.0</td>\n",
              "    </tr>\n",
              "    <tr>\n",
              "      <th>YEAR</th>\n",
              "      <td>10522.0</td>\n",
              "      <td>2011.971868</td>\n",
              "      <td>0.821005</td>\n",
              "      <td>2011.0</td>\n",
              "      <td>2011.0</td>\n",
              "      <td>2012.0</td>\n",
              "      <td>2013.00</td>\n",
              "      <td>2013.0</td>\n",
              "    </tr>\n",
              "  </tbody>\n",
              "</table>\n",
              "</div>"
            ],
            "text/plain": [
              "                 count         mean          std  ...     50%      75%     max\n",
              "RESPNUM        10522.0  2023.895742  1276.031327  ...  2050.0  3006.75  9995.0\n",
              "CCGID          10522.0  1931.861528  1172.603109  ...  1827.0  2963.75  9004.0\n",
              "DESTMARK       10522.0     2.998860     1.035901  ...     3.0     4.00     4.0\n",
              "DESTGEO        10522.0     3.026231     2.302946  ...     2.0     4.00     9.0\n",
              "STRATA         10522.0     1.972059     0.769869  ...     2.0     3.00     3.0\n",
              "AIRLINE        10522.0    22.467972    10.638006  ...    26.0    32.00    42.0\n",
              "GATE           10522.0    50.431382    32.083058  ...    51.0    82.00   102.0\n",
              "INTDATE        10522.0     8.505227     4.580700  ...     8.0    12.00    19.0\n",
              "PURTRIP        10522.0     2.265824     1.500799  ...     2.0     3.00    13.0\n",
              "TRANSVEC       10522.0     4.191884     2.641879  ...     3.0     6.00    16.0\n",
              "CHECKBAG       10522.0     1.347462     0.579214  ...     1.0     2.00     3.0\n",
              "BUYSTR         10522.0     1.461034     0.651709  ...     2.0     2.00     3.0\n",
              "BUYREST        10522.0     1.369511     0.607695  ...     1.0     2.00     4.0\n",
              "FLIGHTNUM      10522.0     2.166983     1.277473  ...     2.0     3.00     6.0\n",
              "SURVTYPE       10522.0     1.692739     0.470559  ...     2.0     2.00     2.0\n",
              "RATEART        10522.0     4.226953     1.321736  ...     4.0     5.00     6.0\n",
              "RATEREST       10522.0     3.961319     1.345512  ...     4.0     5.00     6.0\n",
              "RATESHOP       10522.0     3.907717     1.385472  ...     4.0     5.00     6.0\n",
              "RATESIGNS      10522.0     3.944687     1.087110  ...     4.0     5.00     6.0\n",
              "RATEESCA       10522.0     4.137141     1.136995  ...     4.0     5.00     6.0\n",
              "RATEINFO       10522.0     4.029462     1.112734  ...     4.0     5.00     6.0\n",
              "RATEBOOTHLOW   10522.0     4.708611     1.562091  ...     5.0     6.00     6.0\n",
              "RATEBOOTHHIGH  10522.0     4.693214     1.544871  ...     5.0     6.00     6.0\n",
              "RATESIGNROAD   10522.0     4.451530     1.555542  ...     5.0     6.00     6.0\n",
              "RATEPARK       10522.0     4.846607     1.693803  ...     6.0     6.00     6.0\n",
              "RATETRAIN      10522.0     4.835868     1.621238  ...     6.0     6.00     6.0\n",
              "RATEPARKLONG   10522.0     5.079358     1.714892  ...     6.0     6.00     6.0\n",
              "RATERENT       10522.0     4.937464     1.739439  ...     6.0     6.00     6.0\n",
              "RATE           10522.0     3.860578     1.042964  ...     4.0     4.00     6.0\n",
              "CLEANBOARD     10522.0     4.274853     0.920937  ...     4.0     5.00     6.0\n",
              "CLEANTRAIN     10522.0     4.950105     1.457597  ...     6.0     6.00     6.0\n",
              "CLEANRENT      10522.0     5.031078     1.587748  ...     6.0     6.00     6.0\n",
              "CLEANREST      10522.0     4.414560     1.382529  ...     4.0     5.00     6.0\n",
              "CLEANREROOM    10522.0     4.108820     1.118763  ...     4.0     5.00     6.0\n",
              "ISSAFE         10522.0     4.348888     0.875385  ...     5.0     5.00     6.0\n",
              "USEWEB         10522.0     1.849268     0.510226  ...     2.0     2.00     3.0\n",
              "ISEASYFIND     10522.0     4.289204     1.108888  ...     5.0     5.00     6.0\n",
              "ISEASYPASS     10522.0     4.019483     1.458972  ...     4.0     5.00     6.0\n",
              "ANYPROB        10522.0     1.819236     0.483172  ...     2.0     2.00     3.0\n",
              "LIVEWHERE      10522.0     2.400969     1.104351  ...     3.0     3.00     4.0\n",
              "HOME           10522.0    13.776944    20.083940  ...    10.0    12.00    99.0\n",
              "AGE            10522.0     4.282931     1.693924  ...     4.0     6.00     9.0\n",
              "GENDER         10522.0     1.432807     0.582268  ...     1.0     2.00     3.0\n",
              "INCOME         10522.0     2.046094     1.448828  ...     2.0     3.00     5.0\n",
              "SURVLANGTYPE   10522.0     1.111956     0.513307  ...     1.0     1.00     4.0\n",
              "YEAR           10522.0  2011.971868     0.821005  ...  2012.0  2013.00  2013.0\n",
              "\n",
              "[46 rows x 8 columns]"
            ]
          },
          "metadata": {
            "tags": []
          },
          "execution_count": 35
        }
      ]
    },
    {
      "cell_type": "code",
      "metadata": {
        "id": "ogSQPjNb4JiP",
        "colab_type": "code",
        "colab": {
          "base_uri": "https://localhost:8080/",
          "height": 328
        },
        "outputId": "a48ee42d-6440-4fd8-9a2b-c621344f4a47"
      },
      "source": [
        "df_copy1 = df[['LIVEWHERE', 'ISSAFE', 'GENDER', 'RATEREST', 'RATESHOP', 'INCOME', 'RATE', 'AIRLINE','AGE']]\n",
        "df_copy1.describe().T"
      ],
      "execution_count": 77,
      "outputs": [
        {
          "output_type": "execute_result",
          "data": {
            "text/html": [
              "<div>\n",
              "<style scoped>\n",
              "    .dataframe tbody tr th:only-of-type {\n",
              "        vertical-align: middle;\n",
              "    }\n",
              "\n",
              "    .dataframe tbody tr th {\n",
              "        vertical-align: top;\n",
              "    }\n",
              "\n",
              "    .dataframe thead th {\n",
              "        text-align: right;\n",
              "    }\n",
              "</style>\n",
              "<table border=\"1\" class=\"dataframe\">\n",
              "  <thead>\n",
              "    <tr style=\"text-align: right;\">\n",
              "      <th></th>\n",
              "      <th>count</th>\n",
              "      <th>mean</th>\n",
              "      <th>std</th>\n",
              "      <th>min</th>\n",
              "      <th>25%</th>\n",
              "      <th>50%</th>\n",
              "      <th>75%</th>\n",
              "      <th>max</th>\n",
              "    </tr>\n",
              "  </thead>\n",
              "  <tbody>\n",
              "    <tr>\n",
              "      <th>LIVEWHERE</th>\n",
              "      <td>10522.0</td>\n",
              "      <td>2.400969</td>\n",
              "      <td>1.104351</td>\n",
              "      <td>0.0</td>\n",
              "      <td>1.0</td>\n",
              "      <td>3.0</td>\n",
              "      <td>3.0</td>\n",
              "      <td>4.0</td>\n",
              "    </tr>\n",
              "    <tr>\n",
              "      <th>ISSAFE</th>\n",
              "      <td>10522.0</td>\n",
              "      <td>4.348888</td>\n",
              "      <td>0.875385</td>\n",
              "      <td>0.0</td>\n",
              "      <td>4.0</td>\n",
              "      <td>5.0</td>\n",
              "      <td>5.0</td>\n",
              "      <td>6.0</td>\n",
              "    </tr>\n",
              "    <tr>\n",
              "      <th>GENDER</th>\n",
              "      <td>10522.0</td>\n",
              "      <td>1.432807</td>\n",
              "      <td>0.582268</td>\n",
              "      <td>0.0</td>\n",
              "      <td>1.0</td>\n",
              "      <td>1.0</td>\n",
              "      <td>2.0</td>\n",
              "      <td>3.0</td>\n",
              "    </tr>\n",
              "    <tr>\n",
              "      <th>RATEREST</th>\n",
              "      <td>10522.0</td>\n",
              "      <td>3.961319</td>\n",
              "      <td>1.345512</td>\n",
              "      <td>0.0</td>\n",
              "      <td>3.0</td>\n",
              "      <td>4.0</td>\n",
              "      <td>5.0</td>\n",
              "      <td>6.0</td>\n",
              "    </tr>\n",
              "    <tr>\n",
              "      <th>RATESHOP</th>\n",
              "      <td>10522.0</td>\n",
              "      <td>3.907717</td>\n",
              "      <td>1.385472</td>\n",
              "      <td>0.0</td>\n",
              "      <td>3.0</td>\n",
              "      <td>4.0</td>\n",
              "      <td>5.0</td>\n",
              "      <td>6.0</td>\n",
              "    </tr>\n",
              "    <tr>\n",
              "      <th>INCOME</th>\n",
              "      <td>10522.0</td>\n",
              "      <td>2.046094</td>\n",
              "      <td>1.448828</td>\n",
              "      <td>0.0</td>\n",
              "      <td>1.0</td>\n",
              "      <td>2.0</td>\n",
              "      <td>3.0</td>\n",
              "      <td>5.0</td>\n",
              "    </tr>\n",
              "    <tr>\n",
              "      <th>RATE</th>\n",
              "      <td>10522.0</td>\n",
              "      <td>3.860578</td>\n",
              "      <td>1.042964</td>\n",
              "      <td>0.0</td>\n",
              "      <td>4.0</td>\n",
              "      <td>4.0</td>\n",
              "      <td>4.0</td>\n",
              "      <td>6.0</td>\n",
              "    </tr>\n",
              "    <tr>\n",
              "      <th>AIRLINE</th>\n",
              "      <td>10522.0</td>\n",
              "      <td>22.467972</td>\n",
              "      <td>10.638006</td>\n",
              "      <td>2.0</td>\n",
              "      <td>12.0</td>\n",
              "      <td>26.0</td>\n",
              "      <td>32.0</td>\n",
              "      <td>42.0</td>\n",
              "    </tr>\n",
              "    <tr>\n",
              "      <th>AGE</th>\n",
              "      <td>10522.0</td>\n",
              "      <td>4.282931</td>\n",
              "      <td>1.693924</td>\n",
              "      <td>0.0</td>\n",
              "      <td>3.0</td>\n",
              "      <td>4.0</td>\n",
              "      <td>6.0</td>\n",
              "      <td>9.0</td>\n",
              "    </tr>\n",
              "  </tbody>\n",
              "</table>\n",
              "</div>"
            ],
            "text/plain": [
              "             count       mean        std  min   25%   50%   75%   max\n",
              "LIVEWHERE  10522.0   2.400969   1.104351  0.0   1.0   3.0   3.0   4.0\n",
              "ISSAFE     10522.0   4.348888   0.875385  0.0   4.0   5.0   5.0   6.0\n",
              "GENDER     10522.0   1.432807   0.582268  0.0   1.0   1.0   2.0   3.0\n",
              "RATEREST   10522.0   3.961319   1.345512  0.0   3.0   4.0   5.0   6.0\n",
              "RATESHOP   10522.0   3.907717   1.385472  0.0   3.0   4.0   5.0   6.0\n",
              "INCOME     10522.0   2.046094   1.448828  0.0   1.0   2.0   3.0   5.0\n",
              "RATE       10522.0   3.860578   1.042964  0.0   4.0   4.0   4.0   6.0\n",
              "AIRLINE    10522.0  22.467972  10.638006  2.0  12.0  26.0  32.0  42.0\n",
              "AGE        10522.0   4.282931   1.693924  0.0   3.0   4.0   6.0   9.0"
            ]
          },
          "metadata": {
            "tags": []
          },
          "execution_count": 77
        }
      ]
    },
    {
      "cell_type": "markdown",
      "metadata": {
        "id": "lEWZlpkTtxpE",
        "colab_type": "text"
      },
      "source": [
        "__Obervations based on 5 Point Summary__\n",
        "\n",
        "1. **Age**: \n",
        "    It looks evenly distributed as can be seen with values of min, Q1, Q2, Q3, max, and also since mean and median we can say almost same.\n",
        "    \n",
        "    1.1. **Age**:\n",
        "    Since the min =0 and max value = 9 i.e. with the values of 0,1,2,3,4,5,6,7,8,9, it looks more like a Categorical attribute than continuous.\n",
        "\n",
        "2. **Income**:\n",
        "    It looks evenly distributed when you take into account Q1,Q2,Q3. There are few outliers at the top beginning of values,\n",
        "    \n",
        "    For eg.,\n",
        "    IQR = 3 - 1 = 2. Max = 1.5 * IQR = 1.5 * 2 = 3. \n",
        "    top whisker = 3 + 3 = 6        \n",
        "    Since max values (5) is less than top whisker, it is an outlier. And there may be more outliers. \n",
        "    \n",
        "    This will be more clear with a boxplot, which will be shown later in this document.\n"
      ]
    },
    {
      "cell_type": "markdown",
      "metadata": {
        "id": "ZcRu84VNtdSs",
        "colab_type": "text"
      },
      "source": [
        "The categorical data received during these surveys were represented by number and processed. So there is not much column on this data set that we need to change its type."
      ]
    },
    {
      "cell_type": "markdown",
      "metadata": {
        "id": "WMIUrxKJSVKt",
        "colab_type": "text"
      },
      "source": [
        "## Distribution of ‘AIRLINE’, ‘AGE’ and ‘INCOME’ columns"
      ]
    },
    {
      "cell_type": "code",
      "metadata": {
        "id": "Iyufm1v4Se3o",
        "colab_type": "code",
        "colab": {
          "base_uri": "https://localhost:8080/",
          "height": 525
        },
        "outputId": "3a55548a-dba9-432a-c7ce-4a0e7a0d98ad"
      },
      "source": [
        "f, axes = plt.subplots(1, 3, figsize=(20, 8))\n",
        "airline = sns.distplot(df['AIRLINE'], color=\"red\", ax=axes[0], kde=True, hist_kws={\"edgecolor\":\"k\"})\n",
        "airline.set_xlabel(\"Airline\",fontsize=20)\n",
        "\n",
        "age = sns.distplot(df['AGE'], color='green', ax = axes[1], kde=True, hist_kws={\"edgecolor\":\"k\"})\n",
        "age.set_xlabel(\"Age\",fontsize=20)\n",
        "\n",
        "income = sns.distplot(df['INCOME'], color='blue', ax = axes[2], kde=True, hist_kws={\"edgecolor\":\"k\"})\n",
        "income.set_xlabel(\"Incomes\",fontsize=20)"
      ],
      "execution_count": 36,
      "outputs": [
        {
          "output_type": "execute_result",
          "data": {
            "text/plain": [
              "Text(0.5, 0, 'Incomes')"
            ]
          },
          "metadata": {
            "tags": []
          },
          "execution_count": 36
        },
        {
          "output_type": "display_data",
          "data": {
            "image/png": "[encoded data removed]",
            "text/plain": [
              "<Figure size 1440x576 with 3 Axes>"
            ]
          },
          "metadata": {
            "tags": []
          }
        }
      ]
    },
    {
      "cell_type": "markdown",
      "metadata": {
        "id": "OSuyDphHQXZC",
        "colab_type": "text"
      },
      "source": [
        "## Measure of skewness of ‘AIRLINE’, ‘AGE’ and ‘INCOME’ columns"
      ]
    },
    {
      "cell_type": "code",
      "metadata": {
        "id": "CL_Fi_1PP36a",
        "colab_type": "code",
        "colab": {
          "base_uri": "https://localhost:8080/",
          "height": 142
        },
        "outputId": "4eca372d-2e09-4d7b-c8ad-ac245ba6afb8"
      },
      "source": [
        "pd.DataFrame.from_dict(dict(\n",
        "    {\n",
        "        'airline':df.AIRLINE.skew(), \n",
        "        'age': df.AGE.skew(), \n",
        "        'income': df.INCOME.skew()\n",
        "    }), orient='index', columns=['Skewness'])"
      ],
      "execution_count": 37,
      "outputs": [
        {
          "output_type": "execute_result",
          "data": {
            "text/html": [
              "<div>\n",
              "<style scoped>\n",
              "    .dataframe tbody tr th:only-of-type {\n",
              "        vertical-align: middle;\n",
              "    }\n",
              "\n",
              "    .dataframe tbody tr th {\n",
              "        vertical-align: top;\n",
              "    }\n",
              "\n",
              "    .dataframe thead th {\n",
              "        text-align: right;\n",
              "    }\n",
              "</style>\n",
              "<table border=\"1\" class=\"dataframe\">\n",
              "  <thead>\n",
              "    <tr style=\"text-align: right;\">\n",
              "      <th></th>\n",
              "      <th>Skewness</th>\n",
              "    </tr>\n",
              "  </thead>\n",
              "  <tbody>\n",
              "    <tr>\n",
              "      <th>airline</th>\n",
              "      <td>-0.396747</td>\n",
              "    </tr>\n",
              "    <tr>\n",
              "      <th>age</th>\n",
              "      <td>-0.176759</td>\n",
              "    </tr>\n",
              "    <tr>\n",
              "      <th>income</th>\n",
              "      <td>0.018320</td>\n",
              "    </tr>\n",
              "  </tbody>\n",
              "</table>\n",
              "</div>"
            ],
            "text/plain": [
              "         Skewness\n",
              "airline -0.396747\n",
              "age     -0.176759\n",
              "income   0.018320"
            ]
          },
          "metadata": {
            "tags": []
          },
          "execution_count": 37
        }
      ]
    },
    {
      "cell_type": "markdown",
      "metadata": {
        "id": "mYzrpPUjQiAm",
        "colab_type": "text"
      },
      "source": [
        "1. **AIRLINE** : Value is less, and hence evenly distributed as shown in the plot above.(Left skewed)\n",
        "2. **AGE** : Value is less, and hence evenly distributed as shown in the plot above. (Left Skewed)\n",
        "3. **INCOME**: Values is close to 0, hence uniformly distributed as shown in the plot above."
      ]
    },
    {
      "cell_type": "markdown",
      "metadata": {
        "id": "_ouhk7sYRCM_",
        "colab_type": "text"
      },
      "source": [
        "## g. Checking the presence of outliers in ‘AIRLINE’, ‘AGE’ and ‘INCOME' columns"
      ]
    },
    {
      "cell_type": "code",
      "metadata": {
        "id": "OPY0HeZXRJsC",
        "colab_type": "code",
        "colab": {
          "base_uri": "https://localhost:8080/",
          "height": 906
        },
        "outputId": "265f14a2-8a48-49ee-fa20-79f64e77d9f1"
      },
      "source": [
        "f, axes = plt.subplots(3, 1, figsize=(15, 15))\n",
        "airline = sns.boxplot(df['AIRLINE'], color=\"olive\", ax=axes[0])\n",
        "airline.set_xlabel(\"Airline\",fontsize=20)\n",
        "\n",
        "age = sns.boxplot(df['AGE'], color='lightgreen', ax=axes[1])\n",
        "age.set_xlabel(\"Age\",fontsize=20)\n",
        "\n",
        "income = sns.boxplot(df['INCOME'], color='teal', ax=axes[2])\n",
        "income.set_xlabel(\"Income\",fontsize=20)"
      ],
      "execution_count": 38,
      "outputs": [
        {
          "output_type": "execute_result",
          "data": {
            "text/plain": [
              "Text(0.5, 0, 'Income')"
            ]
          },
          "metadata": {
            "tags": []
          },
          "execution_count": 38
        },
        {
          "output_type": "display_data",
          "data": {
            "image/png": "[encoded data removed]",
            "text/plain": [
              "<Figure size 1080x1080 with 3 Axes>"
            ]
          },
          "metadata": {
            "tags": []
          }
        }
      ]
    },
    {
      "cell_type": "markdown",
      "metadata": {
        "id": "nyniNJu6R4kz",
        "colab_type": "text"
      },
      "source": [
        "1. **Airline** : No outliers and uniformly distributed\n",
        "2. **Age** : No outliers and normaly distributed.\n",
        "3. **Income**: No outliers uniformly distributed"
      ]
    },
    {
      "cell_type": "code",
      "metadata": {
        "id": "cfkus0Zxf5NR",
        "colab_type": "code",
        "colab": {
          "base_uri": "https://localhost:8080/",
          "height": 743
        },
        "outputId": "2cfb9f1a-b440-4665-920b-a0a3d51b49ef"
      },
      "source": [
        "f, axes = plt.subplots(2, 3, figsize=(20, 12))\n",
        "art = sns.countplot(df['RATEART'], color=\"red\", ax=axes[0,0])\n",
        "art.set_xlabel(\"Art\",fontsize=20)\n",
        "\n",
        "shops = sns.countplot(df['RATESHOP'], color='green', ax = axes[0,1])\n",
        "shops.set_xlabel(\"Shops\",fontsize=20)\n",
        "\n",
        "restaurants = sns.countplot(df['RATEREST'], color='blue', ax = axes[1,0])\n",
        "restaurants.set_xlabel(\"Restaurants\",fontsize=20)\n",
        "\n",
        "signs = sns.countplot(df['RATESIGNS'], color='teal', ax = axes[1,1])\n",
        "signs.set_xlabel(\"Signs\",fontsize=20)\n",
        "\n",
        "train = sns.countplot(df['RATETRAIN'], color='yellow', ax = axes[0,2])\n",
        "train.set_xlabel(\"Train\",fontsize=20)\n",
        "\n",
        "live = sns.countplot(df['LIVEWHERE'], color='purple', ax = axes[1,2])\n",
        "live.set_xlabel(\"Live\",fontsize=20)"
      ],
      "execution_count": 39,
      "outputs": [
        {
          "output_type": "execute_result",
          "data": {
            "text/plain": [
              "Text(0.5, 0, 'Live')"
            ]
          },
          "metadata": {
            "tags": []
          },
          "execution_count": 39
        },
        {
          "output_type": "display_data",
          "data": {
            "image/png": "[encoded data removed]",
            "text/plain": [
              "<Figure size 1440x864 with 6 Axes>"
            ]
          },
          "metadata": {
            "tags": []
          }
        }
      ]
    },
    {
      "cell_type": "markdown",
      "metadata": {
        "id": "VFG2yHh4x8E3",
        "colab_type": "text"
      },
      "source": [
        "1. **Art** : It seems that many passengers find the airport artistic enough.\n",
        "2. **Shops** : The rate of shopping from stores in the airport seems to be of average value.\n",
        "3. **Train** : Many airport users seem to adopt transportation by train.\n",
        "4. **Restaurants** : The rate of shopping from restaurants in the airport seems to be of average value.\n",
        "5. **Signs** : Most of the airport users seem to find the signs adequate.\n",
        "6. **Live** : Unlike a certain region, airport users are seen to be residents of different places, mostly 2 regions."
      ]
    },
    {
      "cell_type": "code",
      "metadata": {
        "id": "kPGaneHOikPt",
        "colab_type": "code",
        "colab": {
          "base_uri": "https://localhost:8080/",
          "height": 900
        },
        "outputId": "9b681783-38d9-4540-bd50-252902a78f2b"
      },
      "source": [
        "f, axes = plt.subplots(3, 1, figsize=(12, 15))\n",
        "sns.boxplot('LIVEWHERE', 'AGE', 'GENDER', df, palette=('Spectral'),ax=axes[0])\n",
        "\n",
        "sns.boxplot('AGE', 'RATEREST', 'YEAR', df, palette=('Spectral'), ax = axes[1])\n",
        "\n",
        "sns.boxplot('LIVEWHERE', 'RATEREST', 'AGE', df, palette=('Spectral'), ax = axes[2])\n"
      ],
      "execution_count": 40,
      "outputs": [
        {
          "output_type": "execute_result",
          "data": {
            "text/plain": [
              "<matplotlib.axes._subplots.AxesSubplot at 0x7f186c0d99b0>"
            ]
          },
          "metadata": {
            "tags": []
          },
          "execution_count": 40
        },
        {
          "output_type": "display_data",
          "data": {
            "image/png": "[encoded data removed]",
            "text/plain": [
              "<Figure size 864x1080 with 3 Axes>"
            ]
          },
          "metadata": {
            "tags": []
          }
        }
      ]
    },
    {
      "cell_type": "code",
      "metadata": {
        "id": "ZNq9jZby9bsZ",
        "colab_type": "code",
        "colab": {
          "base_uri": "https://localhost:8080/",
          "height": 102
        },
        "outputId": "d0dfedbf-cb7e-47bb-dabc-71fa0979e14c"
      },
      "source": [
        "data_copy = df.copy()\n",
        "data_copy.GENDER.value_counts()"
      ],
      "execution_count": 41,
      "outputs": [
        {
          "output_type": "execute_result",
          "data": {
            "text/plain": [
              "2    5016\n",
              "1    5014\n",
              "0     482\n",
              "3      10\n",
              "Name: GENDER, dtype: int64"
            ]
          },
          "metadata": {
            "tags": []
          },
          "execution_count": 41
        }
      ]
    },
    {
      "cell_type": "code",
      "metadata": {
        "id": "x4-UBFZT9m--",
        "colab_type": "code",
        "colab": {
          "base_uri": "https://localhost:8080/",
          "height": 204
        },
        "outputId": "10e1f840-1254-4afb-f0ed-1fd101511fa1"
      },
      "source": [
        "data_copy.AGE.value_counts()"
      ],
      "execution_count": 42,
      "outputs": [
        {
          "output_type": "execute_result",
          "data": {
            "text/plain": [
              "3    2356\n",
              "4    1952\n",
              "5    1905\n",
              "6    1721\n",
              "7    1147\n",
              "2    1091\n",
              "0     278\n",
              "1      65\n",
              "9       6\n",
              "8       1\n",
              "Name: AGE, dtype: int64"
            ]
          },
          "metadata": {
            "tags": []
          },
          "execution_count": 42
        }
      ]
    },
    {
      "cell_type": "code",
      "metadata": {
        "id": "-EnP6CuR9sfm",
        "colab_type": "code",
        "colab": {
          "base_uri": "https://localhost:8080/",
          "height": 153
        },
        "outputId": "f509a8b0-1401-4774-a494-c1b16be63834"
      },
      "source": [
        "data_copy.RATESHOP.value_counts()"
      ],
      "execution_count": 43,
      "outputs": [
        {
          "output_type": "execute_result",
          "data": {
            "text/plain": [
              "4    3234\n",
              "3    3176\n",
              "6    1883\n",
              "5    1209\n",
              "2     609\n",
              "0     319\n",
              "1      92\n",
              "Name: RATESHOP, dtype: int64"
            ]
          },
          "metadata": {
            "tags": []
          },
          "execution_count": 43
        }
      ]
    },
    {
      "cell_type": "code",
      "metadata": {
        "id": "wrfc01Pe9y27",
        "colab_type": "code",
        "colab": {
          "base_uri": "https://localhost:8080/",
          "height": 944
        },
        "outputId": "0f1bc742-1522-448e-9a07-1deb503995f1"
      },
      "source": [
        "# Pair plot with all the columns\n",
        "sns.pairplot(data_copy[['RATESHOP', 'RATEREST', 'RATESIGNS', 'AGE', 'GENDER']])"
      ],
      "execution_count": 44,
      "outputs": [
        {
          "output_type": "execute_result",
          "data": {
            "text/plain": [
              "<seaborn.axisgrid.PairGrid at 0x7f186c107da0>"
            ]
          },
          "metadata": {
            "tags": []
          },
          "execution_count": 44
        },
        {
          "output_type": "display_data",
          "data": {
            "image/png": "[encoded data removed]",
            "text/plain": [
              "<Figure size 900x900 with 30 Axes>"
            ]
          },
          "metadata": {
            "tags": []
          }
        }
      ]
    },
    {
      "cell_type": "code",
      "metadata": {
        "id": "m-BIGuUjoDOU",
        "colab_type": "code",
        "colab": {
          "base_uri": "https://localhost:8080/",
          "height": 764
        },
        "outputId": "5ef197d4-1e80-427f-b251-5e913a07cba1"
      },
      "source": [
        "\n",
        "sns.pairplot(df[['RATEART', 'RATEREST', 'RATESHOP', 'GENDER', 'AGE']], hue='GENDER')"
      ],
      "execution_count": 46,
      "outputs": [
        {
          "output_type": "execute_result",
          "data": {
            "text/plain": [
              "<seaborn.axisgrid.PairGrid at 0x7f186676a978>"
            ]
          },
          "metadata": {
            "tags": []
          },
          "execution_count": 46
        },
        {
          "output_type": "display_data",
          "data": {
            "image/png": "[encoded data removed]",
            "text/plain": [
              "<Figure size 779.425x720 with 20 Axes>"
            ]
          },
          "metadata": {
            "tags": []
          }
        }
      ]
    },
    {
      "cell_type": "code",
      "metadata": {
        "id": "sjIZHU6c7CWe",
        "colab_type": "code",
        "colab": {
          "base_uri": "https://localhost:8080/",
          "height": 900
        },
        "outputId": "fd767a22-2c1e-4a9b-8a3f-d0ed73debba9"
      },
      "source": [
        "sns.pairplot(df[['RATEART', 'RATEREST', 'RATESHOP', 'GENDER', 'AGE']], hue='AGE')"
      ],
      "execution_count": 47,
      "outputs": [
        {
          "output_type": "stream",
          "text": [
            "/usr/local/lib/python3.6/dist-packages/seaborn/distributions.py:283: UserWarning: Data must have variance to compute a kernel density estimate.\n",
            "  warnings.warn(msg, UserWarning)\n",
            "/usr/local/lib/python3.6/dist-packages/seaborn/distributions.py:283: UserWarning: Data must have variance to compute a kernel density estimate.\n",
            "  warnings.warn(msg, UserWarning)\n",
            "/usr/local/lib/python3.6/dist-packages/seaborn/distributions.py:283: UserWarning: Data must have variance to compute a kernel density estimate.\n",
            "  warnings.warn(msg, UserWarning)\n",
            "/usr/local/lib/python3.6/dist-packages/seaborn/distributions.py:283: UserWarning: Data must have variance to compute a kernel density estimate.\n",
            "  warnings.warn(msg, UserWarning)\n"
          ],
          "name": "stderr"
        },
        {
          "output_type": "execute_result",
          "data": {
            "text/plain": [
              "<seaborn.axisgrid.PairGrid at 0x7f186676e588>"
            ]
          },
          "metadata": {
            "tags": []
          },
          "execution_count": 47
        },
        {
          "output_type": "display_data",
          "data": {
            "image/png": "[encoded data removed]",
            "text/plain": [
              "<Figure size 766.6x720 with 20 Axes>"
            ]
          },
          "metadata": {
            "tags": []
          }
        }
      ]
    },
    {
      "cell_type": "code",
      "metadata": {
        "id": "L6gSUMAN9P5V",
        "colab_type": "code",
        "colab": {
          "base_uri": "https://localhost:8080/",
          "height": 764
        },
        "outputId": "af078fcc-3f6c-4096-b981-3db61a2a1e51"
      },
      "source": [
        "sns.pairplot(df[['RATEART', 'RATEREST', 'RATESHOP', 'GENDER', 'AGE']], hue='RATESHOP')"
      ],
      "execution_count": 48,
      "outputs": [
        {
          "output_type": "execute_result",
          "data": {
            "text/plain": [
              "<seaborn.axisgrid.PairGrid at 0x7f18667676d8>"
            ]
          },
          "metadata": {
            "tags": []
          },
          "execution_count": 48
        },
        {
          "output_type": "display_data",
          "data": {
            "image/png": "[encoded data removed]",
            "text/plain": [
              "<Figure size 791.8x720 with 20 Axes>"
            ]
          },
          "metadata": {
            "tags": []
          }
        }
      ]
    },
    {
      "cell_type": "code",
      "metadata": {
        "id": "ZC3zuCeD-zzZ",
        "colab_type": "code",
        "colab": {
          "base_uri": "https://localhost:8080/",
          "height": 297
        },
        "outputId": "638a33ca-fe02-4ba3-8cc9-f2e5fc39473e"
      },
      "source": [
        "df_copy1 = df[['LIVEWHERE', 'ISSAFE', 'GENDER', 'RATEREST', 'RATESHOP', 'INCOME', 'RATE', 'AIRLINE']]\n",
        "df_copy1.corr()"
      ],
      "execution_count": 74,
      "outputs": [
        {
          "output_type": "execute_result",
          "data": {
            "text/html": [
              "<div>\n",
              "<style scoped>\n",
              "    .dataframe tbody tr th:only-of-type {\n",
              "        vertical-align: middle;\n",
              "    }\n",
              "\n",
              "    .dataframe tbody tr th {\n",
              "        vertical-align: top;\n",
              "    }\n",
              "\n",
              "    .dataframe thead th {\n",
              "        text-align: right;\n",
              "    }\n",
              "</style>\n",
              "<table border=\"1\" class=\"dataframe\">\n",
              "  <thead>\n",
              "    <tr style=\"text-align: right;\">\n",
              "      <th></th>\n",
              "      <th>LIVEWHERE</th>\n",
              "      <th>ISSAFE</th>\n",
              "      <th>GENDER</th>\n",
              "      <th>RATEREST</th>\n",
              "      <th>RATESHOP</th>\n",
              "      <th>INCOME</th>\n",
              "      <th>RATE</th>\n",
              "      <th>AIRLINE</th>\n",
              "    </tr>\n",
              "  </thead>\n",
              "  <tbody>\n",
              "    <tr>\n",
              "      <th>LIVEWHERE</th>\n",
              "      <td>1.000000</td>\n",
              "      <td>-0.011106</td>\n",
              "      <td>0.022465</td>\n",
              "      <td>0.057774</td>\n",
              "      <td>0.054129</td>\n",
              "      <td>-0.028067</td>\n",
              "      <td>-0.019044</td>\n",
              "      <td>0.009026</td>\n",
              "    </tr>\n",
              "    <tr>\n",
              "      <th>ISSAFE</th>\n",
              "      <td>-0.011106</td>\n",
              "      <td>1.000000</td>\n",
              "      <td>-0.003885</td>\n",
              "      <td>0.144770</td>\n",
              "      <td>0.143476</td>\n",
              "      <td>0.054093</td>\n",
              "      <td>0.232137</td>\n",
              "      <td>0.009993</td>\n",
              "    </tr>\n",
              "    <tr>\n",
              "      <th>GENDER</th>\n",
              "      <td>0.022465</td>\n",
              "      <td>-0.003885</td>\n",
              "      <td>1.000000</td>\n",
              "      <td>0.038356</td>\n",
              "      <td>0.026658</td>\n",
              "      <td>-0.014524</td>\n",
              "      <td>0.040995</td>\n",
              "      <td>0.003895</td>\n",
              "    </tr>\n",
              "    <tr>\n",
              "      <th>RATEREST</th>\n",
              "      <td>0.057774</td>\n",
              "      <td>0.144770</td>\n",
              "      <td>0.038356</td>\n",
              "      <td>1.000000</td>\n",
              "      <td>0.587543</td>\n",
              "      <td>-0.045990</td>\n",
              "      <td>0.332846</td>\n",
              "      <td>0.021817</td>\n",
              "    </tr>\n",
              "    <tr>\n",
              "      <th>RATESHOP</th>\n",
              "      <td>0.054129</td>\n",
              "      <td>0.143476</td>\n",
              "      <td>0.026658</td>\n",
              "      <td>0.587543</td>\n",
              "      <td>1.000000</td>\n",
              "      <td>-0.048404</td>\n",
              "      <td>0.332282</td>\n",
              "      <td>0.019710</td>\n",
              "    </tr>\n",
              "    <tr>\n",
              "      <th>INCOME</th>\n",
              "      <td>-0.028067</td>\n",
              "      <td>0.054093</td>\n",
              "      <td>-0.014524</td>\n",
              "      <td>-0.045990</td>\n",
              "      <td>-0.048404</td>\n",
              "      <td>1.000000</td>\n",
              "      <td>-0.022857</td>\n",
              "      <td>-0.000579</td>\n",
              "    </tr>\n",
              "    <tr>\n",
              "      <th>RATE</th>\n",
              "      <td>-0.019044</td>\n",
              "      <td>0.232137</td>\n",
              "      <td>0.040995</td>\n",
              "      <td>0.332846</td>\n",
              "      <td>0.332282</td>\n",
              "      <td>-0.022857</td>\n",
              "      <td>1.000000</td>\n",
              "      <td>0.034974</td>\n",
              "    </tr>\n",
              "    <tr>\n",
              "      <th>AIRLINE</th>\n",
              "      <td>0.009026</td>\n",
              "      <td>0.009993</td>\n",
              "      <td>0.003895</td>\n",
              "      <td>0.021817</td>\n",
              "      <td>0.019710</td>\n",
              "      <td>-0.000579</td>\n",
              "      <td>0.034974</td>\n",
              "      <td>1.000000</td>\n",
              "    </tr>\n",
              "  </tbody>\n",
              "</table>\n",
              "</div>"
            ],
            "text/plain": [
              "           LIVEWHERE    ISSAFE    GENDER  ...    INCOME      RATE   AIRLINE\n",
              "LIVEWHERE   1.000000 -0.011106  0.022465  ... -0.028067 -0.019044  0.009026\n",
              "ISSAFE     -0.011106  1.000000 -0.003885  ...  0.054093  0.232137  0.009993\n",
              "GENDER      0.022465 -0.003885  1.000000  ... -0.014524  0.040995  0.003895\n",
              "RATEREST    0.057774  0.144770  0.038356  ... -0.045990  0.332846  0.021817\n",
              "RATESHOP    0.054129  0.143476  0.026658  ... -0.048404  0.332282  0.019710\n",
              "INCOME     -0.028067  0.054093 -0.014524  ...  1.000000 -0.022857 -0.000579\n",
              "RATE       -0.019044  0.232137  0.040995  ... -0.022857  1.000000  0.034974\n",
              "AIRLINE     0.009026  0.009993  0.003895  ... -0.000579  0.034974  1.000000\n",
              "\n",
              "[8 rows x 8 columns]"
            ]
          },
          "metadata": {
            "tags": []
          },
          "execution_count": 74
        }
      ]
    },
    {
      "cell_type": "markdown",
      "metadata": {
        "id": "A9DRUFFQwtPI",
        "colab_type": "text"
      },
      "source": [
        "# Hypothesis\n",
        "\n",
        "## Questions based on Statistical Evidence"
      ]
    },
    {
      "cell_type": "markdown",
      "metadata": {
        "id": "HfUmhwjx16P5",
        "colab_type": "text"
      },
      "source": [
        "**Are the airlines used by individuals with household income between 50,000 and  100,000 significantly different than 100,001 - 150,000 ?**"
      ]
    },
    {
      "cell_type": "code",
      "metadata": {
        "id": "PRl9wbJ512CR",
        "colab_type": "code",
        "colab": {
          "base_uri": "https://localhost:8080/",
          "height": 111
        },
        "outputId": "630a94a3-7faf-4df2-fced-d76c700cc1d7"
      },
      "source": [
        "pd.DataFrame.from_dict(dict(\n",
        "    {\n",
        "        'airlines_pack1':df[df.INCOME == 2].AIRLINE.skew(),    \n",
        "        'airlines_pack2': df[df.INCOME == 3].AIRLINE.skew(),\n",
        "    }), orient='index', columns=['Skewness'])"
      ],
      "execution_count": 50,
      "outputs": [
        {
          "output_type": "execute_result",
          "data": {
            "text/html": [
              "<div>\n",
              "<style scoped>\n",
              "    .dataframe tbody tr th:only-of-type {\n",
              "        vertical-align: middle;\n",
              "    }\n",
              "\n",
              "    .dataframe tbody tr th {\n",
              "        vertical-align: top;\n",
              "    }\n",
              "\n",
              "    .dataframe thead th {\n",
              "        text-align: right;\n",
              "    }\n",
              "</style>\n",
              "<table border=\"1\" class=\"dataframe\">\n",
              "  <thead>\n",
              "    <tr style=\"text-align: right;\">\n",
              "      <th></th>\n",
              "      <th>Skewness</th>\n",
              "    </tr>\n",
              "  </thead>\n",
              "  <tbody>\n",
              "    <tr>\n",
              "      <th>airlines_pack1</th>\n",
              "      <td>-0.430373</td>\n",
              "    </tr>\n",
              "    <tr>\n",
              "      <th>airlines_pack2</th>\n",
              "      <td>-0.386733</td>\n",
              "    </tr>\n",
              "  </tbody>\n",
              "</table>\n",
              "</div>"
            ],
            "text/plain": [
              "                Skewness\n",
              "airlines_pack1 -0.430373\n",
              "airlines_pack2 -0.386733"
            ]
          },
          "metadata": {
            "tags": []
          },
          "execution_count": 50
        }
      ]
    },
    {
      "cell_type": "code",
      "metadata": {
        "id": "k5ggI6z745EF",
        "colab_type": "code",
        "colab": {
          "base_uri": "https://localhost:8080/",
          "height": 302
        },
        "outputId": "df54346e-157a-4014-decf-ff9be644d676"
      },
      "source": [
        "sns.boxplot('INCOME', 'AIRLINE', data=df)"
      ],
      "execution_count": 51,
      "outputs": [
        {
          "output_type": "execute_result",
          "data": {
            "text/plain": [
              "<matplotlib.axes._subplots.AxesSubplot at 0x7f1864fe6908>"
            ]
          },
          "metadata": {
            "tags": []
          },
          "execution_count": 51
        },
        {
          "output_type": "display_data",
          "data": {
            "image/png": "[encoded data removed]",
            "text/plain": [
              "<Figure size 432x288 with 1 Axes>"
            ]
          },
          "metadata": {
            "tags": []
          }
        }
      ]
    },
    {
      "cell_type": "markdown",
      "metadata": {
        "id": "ElNMtkbX5EYY",
        "colab_type": "text"
      },
      "source": [
        "### State Null Hypothesis\n",
        "**H0** : Airlines companies used by individuals who has (50000-100000) income are same as airlines companies of individuals who has (101000-150000) income\n",
        "### State alternate hypothesis\n",
        "**H1** : Airlines companies used by individuals who has (101000-150000) income are significantly different from airlines companies of individuals who has (50000-100000) income "
      ]
    },
    {
      "cell_type": "code",
      "metadata": {
        "id": "GiNR9NpM6qir",
        "colab_type": "code",
        "colab": {
          "base_uri": "https://localhost:8080/",
          "height": 63
        },
        "outputId": "ac6464f9-ee7c-4363-f5e6-1f2859989e4f"
      },
      "source": [
        "from IPython.display import Markdown, display\n",
        "def printmd(string):\n",
        "    display(Markdown(string))\n",
        "\n",
        "import scipy.stats as stats\n",
        "\n",
        "#Split the charges column into two parts between smokers and non-smokers\n",
        "\n",
        "X = np.array(df[df.INCOME == 2].AIRLINE) #Individuals who has 50 000 - 100 000 income\n",
        "Y = np.array(df[df.INCOME == 3].AIRLINE) #Individuals who has 101 000 - 150 000 income\n",
        "\n",
        "#executing the independent t-test to run tests on single variable\n",
        "t_stat, p_value = stats.ttest_ind(X,Y)\n",
        "\n",
        "# Setting our significance level at 5%\n",
        "if p_value < 0.05:  \n",
        "    printmd(f'As the p_value **({p_value}) < 0.05**, we reject the Null Hypothesis. Hence **airlines companies used by individuals who has (50000-100000) income differ significantly from airlines companies used by individuals who has (101000-150000) income**')\n",
        "else:\n",
        "    printmd(f'As the p_value **({p_value}) > 0.05**, we fail to reject Null Hypothesis. Hence **airlines companies used by individuals who has (50000-100000) income are same as airlines companies used by individuals who has (101000-150000) income**')"
      ],
      "execution_count": 52,
      "outputs": [
        {
          "output_type": "display_data",
          "data": {
            "text/markdown": "As the p_value **(0.49047933074056227) > 0.05**, we fail to reject Null Hypothesis. Hence **airlines companies used by individuals who has (50000-100000) income are same as airlines companies used by individuals who has (101000-150000) income**",
            "text/plain": [
              "<IPython.core.display.Markdown object>"
            ]
          },
          "metadata": {
            "tags": []
          }
        }
      ]
    },
    {
      "cell_type": "markdown",
      "metadata": {
        "id": "8E7nHhH62Fzn",
        "colab_type": "text"
      },
      "source": [
        "**Does shopping in the airport store of males differ significantly from that of females?**"
      ]
    },
    {
      "cell_type": "code",
      "metadata": {
        "id": "Ee7UqIWQ2XnD",
        "colab_type": "code",
        "colab": {
          "base_uri": "https://localhost:8080/",
          "height": 302
        },
        "outputId": "1ef14e58-27c9-40ee-fa30-ba45feb7dbe4"
      },
      "source": [
        "sns.boxplot('BUYSTR', 'GENDER', data=df)"
      ],
      "execution_count": 53,
      "outputs": [
        {
          "output_type": "execute_result",
          "data": {
            "text/plain": [
              "<matplotlib.axes._subplots.AxesSubplot at 0x7f1864f15a58>"
            ]
          },
          "metadata": {
            "tags": []
          },
          "execution_count": 53
        },
        {
          "output_type": "display_data",
          "data": {
            "image/png": "[encoded data removed]",
            "text/plain": [
              "<Figure size 432x288 with 1 Axes>"
            ]
          },
          "metadata": {
            "tags": []
          }
        }
      ]
    },
    {
      "cell_type": "markdown",
      "metadata": {
        "id": "vnA6-prsCq6L",
        "colab_type": "text"
      },
      "source": [
        "### State null hypothesis\n",
        "**H0** : Shopping in the airport store of males are significantly different from that of Females\n",
        "### State alternate hypothesis\n",
        "**H1** : Shopping in the airport store of males are similar to that of Females"
      ]
    },
    {
      "cell_type": "code",
      "metadata": {
        "id": "2lsMX9_yC4O-",
        "colab_type": "code",
        "colab": {
          "base_uri": "https://localhost:8080/",
          "height": 46
        },
        "outputId": "4b1c9370-b713-433d-fcd7-2a258be114cc"
      },
      "source": [
        "#Split the bmi column into two parts between male and female\n",
        "\n",
        "X = np.array(df[df.GENDER == 1].BUYSTR) #Males\n",
        "Y = np.array(df[df.GENDER == 2].BUYSTR) #Females\n",
        "\n",
        "#executing the independent t-test to run tests on single variable\n",
        "t_stat, p_value = stats.ttest_ind(X,Y)\n",
        "\n",
        "# Setting our significance level at 5%\n",
        "if p_value < 0.05:  \n",
        "    printmd(f'As the p_value **({p_value}) < 0.05**, we reject the Null Hypothesis. Hence **Shopping in the airport store of males are similar to that of Females**')\n",
        "else:\n",
        "    printmd(f'As the p_value **({p_value}) > 0.05**, we fail to reject Null Hypothesis. Hence **Shopping in the airport store of males are significantly different from that of Females**')"
      ],
      "execution_count": 54,
      "outputs": [
        {
          "output_type": "display_data",
          "data": {
            "text/markdown": "As the p_value **(2.9920199533360817e-06) < 0.05**, we reject the Null Hypothesis. Hence **Shopping in the airport store of males are similar to that of Females**",
            "text/plain": [
              "<IPython.core.display.Markdown object>"
            ]
          },
          "metadata": {
            "tags": []
          }
        }
      ]
    },
    {
      "cell_type": "markdown",
      "metadata": {
        "id": "HCJf6kz82sH_",
        "colab_type": "text"
      },
      "source": [
        "**Is the airport airport security distribution same for women who score 3 or less as the general airport?**"
      ]
    },
    {
      "cell_type": "code",
      "metadata": {
        "id": "9v8Hv_npa02w",
        "colab_type": "code",
        "colab": {}
      },
      "source": [
        "subset = df[(df.GENDER == 2) & (df.ISSAFE) & (df.RATE <= 3) & (df.RATE != 0)]"
      ],
      "execution_count": 63,
      "outputs": []
    },
    {
      "cell_type": "code",
      "metadata": {
        "id": "YqG7igQnELzS",
        "colab_type": "code",
        "colab": {
          "base_uri": "https://localhost:8080/",
          "height": 302
        },
        "outputId": "087c12b3-d956-4e48-9970-41d617c33f83"
      },
      "source": [
        "sns.boxplot('RATE', 'ISSAFE', data=subset)"
      ],
      "execution_count": 64,
      "outputs": [
        {
          "output_type": "execute_result",
          "data": {
            "text/plain": [
              "<matplotlib.axes._subplots.AxesSubplot at 0x7f1864e8a898>"
            ]
          },
          "metadata": {
            "tags": []
          },
          "execution_count": 64
        },
        {
          "output_type": "display_data",
          "data": {
            "image/png": "[encoded data removed]",
            "text/plain": [
              "<Figure size 432x288 with 1 Axes>"
            ]
          },
          "metadata": {
            "tags": []
          }
        }
      ]
    },
    {
      "cell_type": "markdown",
      "metadata": {
        "id": "suR2kIXgeDKq",
        "colab_type": "text"
      },
      "source": [
        "### State null hypothesis\n",
        "**H0** : Safety point of the airport is uniform across women with have 3 less point for airline\n",
        "### State alternate hypothesis\n",
        "**H1** : Safety of the airline is different across women with have 3 or less point for airline"
      ]
    },
    {
      "cell_type": "code",
      "metadata": {
        "id": "ou5SxvtWekHn",
        "colab_type": "code",
        "colab": {
          "base_uri": "https://localhost:8080/",
          "height": 63
        },
        "outputId": "c795aabd-7090-4766-cb1a-a0174e3a0516"
      },
      "source": [
        "#get the female data \n",
        "female_data = df[df['GENDER'] == 2]\n",
        "\n",
        "#get the bmi samples based on number of children\n",
        "one_point_safety = female_data[female_data['ISSAFE'] == 1].RATE\n",
        "two_point_safety = female_data[female_data['ISSAFE'] == 2].RATE\n",
        "three_point_safety = female_data[female_data['ISSAFE'] == 3].RATE\n",
        "\n",
        "#Since there are multiple samples and we need to check the variances of multiple samples, choosing ANOVA testing for this\n",
        "\n",
        "f_stat, p_value = stats.f_oneway(one_point_safety, two_point_safety ,three_point_safety )\n",
        "\n",
        "\n",
        "# Setting our significance level at 5%\n",
        "if p_value < 0.05:  \n",
        "    printmd(f'As the p_value **({p_value}) < 0.05**, we reject the Null Hypothesis. Hence **safety point of airport is different across women with gave different points for airline**')\n",
        "else:\n",
        "    printmd(f'As the p_value **({p_value}) > 0.05**, we fail to reject Null Hypothesis. Hence **safety point of airport is uniform across women with gave different points for airline**')"
      ],
      "execution_count": 67,
      "outputs": [
        {
          "output_type": "display_data",
          "data": {
            "text/markdown": "As the p_value **(0.6210433705962697) > 0.05**, we fail to reject Null Hypothesis. Hence **safety point of airport is uniform across women with gave different points for airline**",
            "text/plain": [
              "<IPython.core.display.Markdown object>"
            ]
          },
          "metadata": {
            "tags": []
          }
        }
      ]
    }
  ]
}